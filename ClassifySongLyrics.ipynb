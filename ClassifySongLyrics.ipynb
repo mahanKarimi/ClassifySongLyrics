{
 "cells": [
  {
   "cell_type": "markdown",
   "metadata": {},
   "source": [
    "#Klassifikation von Song-Texten"
   ]
  },
  {
   "cell_type": "markdown",
   "metadata": {},
   "source": [
    "Die Aufgabe, oder auch das Ziel besteht darin, dass man anhand von Song-Texten vorhersagt von welchem Genre ein Lied ist. Bei der Umsetzung soll man unterschiedliche Methoden verwenden und diese untereinander auch vergleichen, dabei sollen die unterschiedlichen Methoden aus dem Machine Learning beziehungsweise aus dem Deep Learning Bereichen kommen. Die Umsetzung des Projektes ist in folgenden Schritten entwickelt worden:\n",
    "\n",
    "1. Im ersten Schritt werden die Daten so weit vorbereitet Beziehungsweise bereinigt, sodass man mit ihnen die zuvor genannten Ziele auch erreichen kann. Die verwendeten Roh-Daten stammen von “https://www.kaggle.com/neisse/scrapped-lyrics-from-6-genres”.\n",
    "\n",
    "2. Es wurde eine Baseline erstellt, um die Genauigkeit des neurnales Netzwerkes zu vergleichen. Dazu wurde Naive Bayes mit additiver Glättung verwendet.\n",
    "\n",
    "3. Im dritten Schritt wurde ein Feed-Forward-Netzwerk erstellt.\n",
    "\n",
    "4. Zum Schluss wurde noch ein Recurrent-Neural-Network trainiert.\n",
    "\n",
    "Es werden die Genres Rock, Pop, Hip Hop, Samba, Sertanejo und Funk Carioca benutzt. "
   ]
  },
  {
   "cell_type": "code",
   "execution_count": 17,
   "metadata": {},
   "outputs": [],
   "source": [
    "import pandas as pd \n",
    "from sklearn.model_selection import train_test_split\n",
    "from keras import models\n",
    "from keras import layers\n",
    "from sklearn.feature_extraction.text import CountVectorizer\n",
    "from keras.preprocessing.text import Tokenizer\n",
    "from keras.utils import to_categorical\n",
    "import matplotlib.pyplot as plt\n",
    "from sklearn import preprocessing\n",
    "from sklearn.feature_extraction.text import TfidfVectorizer \n",
    "from sklearn.metrics import confusion_matrix, precision_score, recall_score, f1_score, accuracy_score\n",
    "from sklearn.preprocessing import LabelEncoder\n",
    "from sklearn.naive_bayes import MultinomialNB\n",
    "from keras.layers import Dropout\n",
    "\n",
    "pd.options.mode.chained_assignment = None \n",
    "\n",
    "# load dataset \n",
    "pathLyrics = 'lyrics-data.csv'\n",
    "pathArtists = 'artists-data.csv'\n",
    "\n",
    "\n",
    "dataframe = pd.read_csv(pathLyrics)\n",
    "dataframeArtists = pd.read_csv(pathArtists)"
   ]
  },
  {
   "cell_type": "code",
   "execution_count": null,
   "metadata": {},
   "outputs": [],
   "source": []
  },
  {
   "cell_type": "markdown",
   "metadata": {},
   "source": [
    "#Vorverarbeitung der Daten\n",
    "\n",
    "Wie schon oben in der Kurzbeschreibung erwähnt, findet im ersten Schritt die Verarbeitung von Rohdaten statt, die so weit vorbereitet bzw. bereinigt werden müssen, sodass man diese für die verschiedene Modelle verwenden kann. Da es sich bei den Kaggle-Daten um große Datenmengen handelt, wurden die irrelevanten Datensätze entfernt. Einer der Bereinigungsschritte ist es, dass man sich nur auf englische Songtexte fokussiert, sodass die anderen Sprachen dabei entfernt werden. Die zwei importierten CSV-Dateien zu Genre und Texten werden zusammengeführt, sodass aus Tabelle Artist und der Tabelle Songs eine gemeinsame Tabelle erstellt wird. Diese Tabelle wird auf die nötigsten Informationen verkleinert um die zu verarbeitende Daten kleinzuhalten. Songtexte die irrelevante Sonderzeichen, Noten oder auch keine Texte beinhalten, werden auch entfernt. Des Weiteren ist einer der Schritte, dass alle Songtexte in kleingeschriebene Wörter umgewandelt werden, dadurch wird eine bessere Verarbeitung der Texte erreicht.\n",
    "\n",
    "Ein Problem, welches bei der Datenvorbereitung aufgetreten ist, dass zwei identische Songtexte unterschiedliche Genres besitzen. Die Datensätze befinden sich in zwei getrennten CSV-Dateien. In der Datei \"artists-data.csv\" befinden sich neben weiteren Informationen der Artist und das Genre. Es sind ebenfalls in der Spalte \"Genres\" mehrere Genres angegeben, da ein Song auch mehrere Gernes wie zum Beispiel Pop und Hip Hop haben kann. In der CSV-Datei \"lyrics-data.csv\" befinden unter anderem der Songtext und das Idiom. Der Join der beiden CSV-Dateien wird über die Spalte \"ALink\" bei der CSV-Datei \"lyrics-data.csv\" und über die Spalte \"Link\" gemacht.\n",
    "\n",
    "Die Zuordnung zwischen Artist und Song wird über die Spalte \"ALink\" bei der CSV-Datei \"lyrics-data.csv\" und über die Spalte \"Link\" bei der CVS-Datei \"artists-data.csv\" gemacht. Es kann nun vorkommen, dass ein Künstler, z.B. 10000 Maniacs, jeweils mit unterschiedlichen \"Genre\" aber gleichem \"Link\" im Datensatz vorkommt. Dies führt dazu, dass bei einem Join ein Song zweimal mit einem anderem Genre vorkommt. Zum Beheben dieses Problems wird nach dem Zusammenführen der CSV-Dateien über alle Zeilen iteriert und das Genre sowie der erste Eintrag in der Spalte \"Genres\" verglichen. Sollten diese nicht übereinstimmen, werden die entsprechenden Zeilen gelöscht.       \n",
    "\n"
   ]
  },
  {
   "cell_type": "code",
   "execution_count": 24,
   "metadata": {
    "scrolled": true
   },
   "outputs": [],
   "source": [
    "from sklearn.utils import shuffle\n",
    "\n",
    "#Filtert alle Songtext, die nicht Englisch sind\n",
    "dataframe = dataframe[dataframe['Idiom'] == 'ENGLISH']\n",
    "#Lowercase alle Songtexte\n",
    "dataframe['Lyric'] = dataframe['Lyric'].apply(lambda lyric: lyric.lower())\n",
    "\n",
    "#Herausfiltern der Instrumentals \n",
    "patternDel = [\"---\", \"instrumental\",\"===\"]\n",
    "for patt in patternDel:\n",
    "    filter = dataframe['Lyric'].str.contains(patt)\n",
    "    dataframe = dataframe[~filter]\n",
    "\n",
    "#Join der zwei CSV Dateien   \n",
    "dataframe.rename(columns={'ALink':'Link','SName':'SName', 'SLink':'SLink','Lyric':'Lyric','Idiom':'Idiom'},inplace=True)\n",
    "mergeData=pd.merge(dataframe, dataframeArtists, on='Link')\n",
    "\n",
    "#Löschen aller Zeilen bei denen \"Genre\" und erstes Genre in \"Genres\" nicht übereinstimmen. Es wird durch die \n",
    "#Zeilen iteriert. Dabei wird der String in \"Genres\" gesplittet und in eine Liste geschrieben. Anschließend wird \n",
    "#verglichen. In listOfIndex stehen alle zu löschenden Indexe.\n",
    "listOfIndex=[]\n",
    "for ind in mergeData.index:\n",
    "    if type(mergeData['Genres'][ind]) is str: \n",
    "        s_gerne = mergeData['Genre'][ind]\n",
    "        #Splitten von \"Genres\"\n",
    "        s_gernres = mergeData['Genres'][ind].split(\";\")\n",
    "        if s_gerne !=  s_gernres[0]:\n",
    "            listOfIndex.append(ind)\n",
    "    else:\n",
    "        listOfIndex.append(ind)\n",
    "              \n",
    "mergeData.drop(listOfIndex,inplace=True )\n",
    "\n",
    "#Die Zeilen sind sortiert, deshalb muss noch gemischt werden.\n",
    "rawData = shuffle(mergeData)\n"
   ]
  },
  {
   "cell_type": "markdown",
   "metadata": {},
   "source": [
    "Durch die Entfernung aller nicht englischen Songtexten, dem Löschen alle Instrumentals und ähnliches sowie die Entfernung der mehrfach vorhandenen Songtexten stehen 61699 Datensätze zum Trainieren zur Verfügung."
   ]
  },
  {
   "cell_type": "markdown",
   "metadata": {},
   "source": [
    "#Baseline"
   ]
  },
  {
   "cell_type": "markdown",
   "metadata": {},
   "source": [
    "Als Baseline zum Vergleich des neuronalen Netzwerkes wird Naive Bayes mit additiver Glättung verwendet. Die Datensätze wurden zu 80% Trainings- und Validierungsdaten sowie 20% für die Evaluierung aufgeteilt."
   ]
  },
  {
   "cell_type": "code",
   "execution_count": 4,
   "metadata": {},
   "outputs": [
    {
     "name": "stdout",
     "output_type": "stream",
     "text": [
      "Kofusionsmatrix:\n",
      " [[   0    0    0    0    0    0]\n",
      " [   0 1562  561  132    0    1]\n",
      " [   1  256 2408 1215    0    0]\n",
      " [   1  251 1355 4577    0    6]\n",
      " [   0    0    0    7    0    0]\n",
      " [   0    0    3    4    0    0]]\n",
      "Korrektklassifizierungsrate:\n",
      " 0.6926256077795786\n",
      "Präzision (mikro):\n",
      " 0.6926256077795786\n",
      "Ausbeute (mikro):\n",
      " 0.6926256077795786\n",
      "F1 (mikro):\n",
      " 0.6926256077795786\n"
     ]
    }
   ],
   "source": [
    "vectorizer = CountVectorizer()\n",
    "X_cnt = vectorizer.fit_transform(rawData['Lyric'])\n",
    "\n",
    "label_encoder = LabelEncoder()\n",
    "y_clean = label_encoder.fit_transform(rawData['Genre'])\n",
    "\n",
    "X_train, X_test, y_train, y_test = train_test_split(X_cnt, y_clean, test_size=0.2, random_state=0)\n",
    "\n",
    "## Naive Bayes mit additiver Glättung trainieren\n",
    "nb = MultinomialNB(alpha=1.0)\n",
    "nb.fit(X_train, y_train)\n",
    "\n",
    "## Vorhersagen berechnen\n",
    "y_predicted = nb.predict(X_test)\n",
    "\n",
    "\n",
    "## Konfusionsmatrix ausgeben\n",
    "print(\"Kofusionsmatrix:\\n\", confusion_matrix(y_true=y_test, y_pred=y_predicted))\n",
    "\n",
    "## Gütemaße ausgeben\n",
    "print(\"Korrektklassifizierungsrate:\\n\", accuracy_score(y_true=y_test, y_pred=y_predicted))\n",
    "print(\"Präzision (mikro):\\n\", precision_score(y_true=y_test, y_pred=y_predicted, average='micro'))\n",
    "print(\"Ausbeute (mikro):\\n\", recall_score(y_true=y_test, y_pred=y_predicted, average='micro'))\n",
    "print(\"F1 (mikro):\\n\", f1_score(y_true=y_test, y_pred=y_predicted, average='micro'))"
   ]
  },
  {
   "cell_type": "markdown",
   "metadata": {},
   "source": [
    "In diesem liefert der Klassifikator eine Genauigkeit von ca. 69%. "
   ]
  },
  {
   "cell_type": "markdown",
   "metadata": {},
   "source": [
    "#Feed Forward Network (FFN)\n",
    "Im Folgenden wird ein neuronales Netzwerk für die Vorhersage der Genres genutzt. Zuerst werden zwei Funktionen definiert, die später mehrfach benötigt werden. Die Funktion \"vectorize_sequences\" ist dafür zuständig, den Songtext als binären Vektor darzustellen, der One-Hot-Encoded ist. Dies ist notwendig, da das FFN immer die gleiche Input-Länge benötigt. Es werden 100000 Dimensionen verwendet. Zusätzlich werden alle Sonderzeichen gefiltert.\n",
    "\n",
    "Die zweite Funktion \"vectorize_labels\" sorgt dafür, dass die Genres bzw. die Labels One-Hot-Encoded werden."
   ]
  },
  {
   "cell_type": "code",
   "execution_count": 5,
   "metadata": {},
   "outputs": [],
   "source": [
    "def vectorize_sequences (dataframe, dimensions=10000):\n",
    "    vect = CountVectorizer()\n",
    "    X = vect.fit_transform(dataframe)\n",
    "    tokenizer = Tokenizer(num_words=dimensions, filters='!\"#$%&()*+,-./:;<=>?@[\\\\]^_`{|}~\\t\\n')\n",
    "    tokenizer.fit_on_texts(dataframe)\n",
    "    sequences = tokenizer.texts_to_sequences(dataframe)\n",
    "    one_hot_results = tokenizer.texts_to_matrix(dataframe, mode='binary')\n",
    "    word_index = tokenizer.word_index\n",
    "    print('Found %s unique tokens.' % len(word_index))\n",
    "\n",
    "    return one_hot_results\n",
    "    \n",
    "def vectorize_labels(labels):\n",
    "    le = preprocessing.LabelEncoder()\n",
    "    encodedlabels = le.fit(labels)\n",
    "    encodedlabels_transformed= le.transform(labels) \n",
    "    return to_categorical(encodedlabels_transformed)"
   ]
  },
  {
   "cell_type": "markdown",
   "metadata": {},
   "source": [
    "Die Liedtext sowie die Genres werden in einen Vektor umgewandelt. Die Aufteilung in Trainings- und Evaluierungsdaten ist 80/20. "
   ]
  },
  {
   "cell_type": "code",
   "execution_count": 6,
   "metadata": {},
   "outputs": [
    {
     "name": "stdout",
     "output_type": "stream",
     "text": [
      "Found 101195 unique tokens.\n"
     ]
    }
   ],
   "source": [
    "X_cnt = vectorize_sequences(rawData['Lyric'])\n",
    "y_clean = vectorize_labels(rawData['Genre'])\n",
    "\n",
    "X_train, X_test, y_train, y_test = train_test_split(X_cnt, y_clean, test_size=0.2, random_state=0)"
   ]
  },
  {
   "cell_type": "markdown",
   "metadata": {},
   "source": [
    "Das Modell besteht aus insgesamt drei verschiedenen Schichten. Die Ausgabeschicht besteht insgesamt aus sechs Neuronen, für jede Kategorie eine. Da es sich um ein multi-class Klassifizierungsproblem handelt ist die Loss-Funktion \"categorical_crossentropy\". Die Aktivierungsfunktion ist \"softmax\". Die Ausgabewerte der Ausgabeschicht sind die Wahrscheinlichkeiten mit welchem die Genres klassifiziert werden."
   ]
  },
  {
   "cell_type": "code",
   "execution_count": 7,
   "metadata": {},
   "outputs": [
    {
     "name": "stdout",
     "output_type": "stream",
     "text": [
      "Model: \"sequential_1\"\n",
      "_________________________________________________________________\n",
      "Layer (type)                 Output Shape              Param #   \n",
      "=================================================================\n",
      "dense_1 (Dense)              (None, 16)                160016    \n",
      "_________________________________________________________________\n",
      "dense_2 (Dense)              (None, 16)                272       \n",
      "_________________________________________________________________\n",
      "dense_3 (Dense)              (None, 6)                 102       \n",
      "=================================================================\n",
      "Total params: 160,390\n",
      "Trainable params: 160,390\n",
      "Non-trainable params: 0\n",
      "_________________________________________________________________\n"
     ]
    }
   ],
   "source": [
    "model = models.Sequential()\n",
    "model.add(layers.Dense(16, activation='relu', input_shape=(10000,)))\n",
    "model.add(layers.Dense(16, activation='relu'))\n",
    "model.add(layers.Dense(6, activation='softmax'))\n",
    "model.compile(optimizer='sgd', loss='categorical_crossentropy', metrics=['accuracy'])\n",
    "model.summary()"
   ]
  },
  {
   "cell_type": "code",
   "execution_count": 8,
   "metadata": {
    "scrolled": true
   },
   "outputs": [
    {
     "name": "stdout",
     "output_type": "stream",
     "text": [
      "Train on 39487 samples, validate on 9872 samples\n",
      "Epoch 1/50\n",
      "39487/39487 [==============================] - 34s 864us/step - loss: 1.0822 - accuracy: 0.5527 - val_loss: 0.8038 - val_accuracy: 0.6550\n",
      "Epoch 2/50\n",
      "39487/39487 [==============================] - 10s 259us/step - loss: 0.7453 - accuracy: 0.6859 - val_loss: 0.7181 - val_accuracy: 0.6911\n",
      "Epoch 3/50\n",
      "39487/39487 [==============================] - 10s 258us/step - loss: 0.6926 - accuracy: 0.7054 - val_loss: 0.6899 - val_accuracy: 0.7051\n",
      "Epoch 4/50\n",
      "39487/39487 [==============================] - 10s 246us/step - loss: 0.6658 - accuracy: 0.7178 - val_loss: 0.6735 - val_accuracy: 0.7115\n",
      "Epoch 5/50\n",
      "39487/39487 [==============================] - 10s 249us/step - loss: 0.6463 - accuracy: 0.7273 - val_loss: 0.6632 - val_accuracy: 0.7197\n",
      "Epoch 6/50\n",
      "39487/39487 [==============================] - 11s 277us/step - loss: 0.6302 - accuracy: 0.7365 - val_loss: 0.6539 - val_accuracy: 0.7231\n",
      "Epoch 7/50\n",
      "39487/39487 [==============================] - 9s 238us/step - loss: 0.6153 - accuracy: 0.7423 - val_loss: 0.6517 - val_accuracy: 0.7183\n",
      "Epoch 8/50\n",
      "39487/39487 [==============================] - 9s 236us/step - loss: 0.6022 - accuracy: 0.7482 - val_loss: 0.6389 - val_accuracy: 0.7271\n",
      "Epoch 9/50\n",
      "39487/39487 [==============================] - 10s 244us/step - loss: 0.5906 - accuracy: 0.7530 - val_loss: 0.6280 - val_accuracy: 0.7317\n",
      "Epoch 10/50\n",
      "39487/39487 [==============================] - 9s 238us/step - loss: 0.5799 - accuracy: 0.7582 - val_loss: 0.6328 - val_accuracy: 0.7313\n",
      "Epoch 11/50\n",
      "39487/39487 [==============================] - 10s 253us/step - loss: 0.5695 - accuracy: 0.7601 - val_loss: 0.6214 - val_accuracy: 0.7351\n",
      "Epoch 12/50\n",
      "39487/39487 [==============================] - 10s 248us/step - loss: 0.5596 - accuracy: 0.7676 - val_loss: 0.6210 - val_accuracy: 0.7369\n",
      "Epoch 13/50\n",
      "39487/39487 [==============================] - 9s 240us/step - loss: 0.5498 - accuracy: 0.7722 - val_loss: 0.6206 - val_accuracy: 0.7413\n",
      "Epoch 14/50\n",
      "39487/39487 [==============================] - 10s 241us/step - loss: 0.5418 - accuracy: 0.7747 - val_loss: 0.6097 - val_accuracy: 0.7400\n",
      "Epoch 15/50\n",
      "39487/39487 [==============================] - 9s 231us/step - loss: 0.5309 - accuracy: 0.7800 - val_loss: 0.6114 - val_accuracy: 0.7431\n",
      "Epoch 16/50\n",
      "39487/39487 [==============================] - 11s 266us/step - loss: 0.5242 - accuracy: 0.7834 - val_loss: 0.6060 - val_accuracy: 0.7436\n",
      "Epoch 17/50\n",
      "39487/39487 [==============================] - 10s 244us/step - loss: 0.5151 - accuracy: 0.7874 - val_loss: 0.6044 - val_accuracy: 0.7396\n",
      "Epoch 18/50\n",
      "39487/39487 [==============================] - 10s 259us/step - loss: 0.5076 - accuracy: 0.7904 - val_loss: 0.6023 - val_accuracy: 0.7416\n",
      "Epoch 19/50\n",
      "39487/39487 [==============================] - 10s 264us/step - loss: 0.4999 - accuracy: 0.7952 - val_loss: 0.5996 - val_accuracy: 0.7445\n",
      "Epoch 20/50\n",
      "39487/39487 [==============================] - 9s 234us/step - loss: 0.4931 - accuracy: 0.7987 - val_loss: 0.6031 - val_accuracy: 0.7426\n",
      "Epoch 21/50\n",
      "39487/39487 [==============================] - 11s 278us/step - loss: 0.4866 - accuracy: 0.7992 - val_loss: 0.6008 - val_accuracy: 0.7479\n",
      "Epoch 22/50\n",
      "39487/39487 [==============================] - 11s 266us/step - loss: 0.4799 - accuracy: 0.8027 - val_loss: 0.5969 - val_accuracy: 0.7447\n",
      "Epoch 23/50\n",
      "39487/39487 [==============================] - 10s 246us/step - loss: 0.4730 - accuracy: 0.8069 - val_loss: 0.6099 - val_accuracy: 0.7330\n",
      "Epoch 24/50\n",
      "39487/39487 [==============================] - 10s 247us/step - loss: 0.4689 - accuracy: 0.8064 - val_loss: 0.6000 - val_accuracy: 0.7503\n",
      "Epoch 25/50\n",
      "39487/39487 [==============================] - 9s 232us/step - loss: 0.4595 - accuracy: 0.8118 - val_loss: 0.5970 - val_accuracy: 0.7501\n",
      "Epoch 26/50\n",
      "39487/39487 [==============================] - 9s 234us/step - loss: 0.4534 - accuracy: 0.8148 - val_loss: 0.5983 - val_accuracy: 0.7530\n",
      "Epoch 27/50\n",
      "39487/39487 [==============================] - 10s 242us/step - loss: 0.4519 - accuracy: 0.8140 - val_loss: 0.6020 - val_accuracy: 0.7483\n",
      "Epoch 28/50\n",
      "39487/39487 [==============================] - 9s 224us/step - loss: 0.4466 - accuracy: 0.8167 - val_loss: 0.6110 - val_accuracy: 0.7476\n",
      "Epoch 29/50\n",
      "39487/39487 [==============================] - 9s 235us/step - loss: 0.4378 - accuracy: 0.8199 - val_loss: 0.6017 - val_accuracy: 0.7493\n",
      "Epoch 30/50\n",
      "39487/39487 [==============================] - 9s 221us/step - loss: 0.4323 - accuracy: 0.8218 - val_loss: 0.6130 - val_accuracy: 0.7527\n",
      "Epoch 31/50\n",
      "39487/39487 [==============================] - 9s 240us/step - loss: 0.4268 - accuracy: 0.8267 - val_loss: 0.6027 - val_accuracy: 0.7526\n",
      "Epoch 32/50\n",
      "39487/39487 [==============================] - 9s 216us/step - loss: 0.4252 - accuracy: 0.8255 - val_loss: 0.6427 - val_accuracy: 0.7455\n",
      "Epoch 33/50\n",
      "39487/39487 [==============================] - 10s 246us/step - loss: 0.4247 - accuracy: 0.8233 - val_loss: 0.6203 - val_accuracy: 0.7394\n",
      "Epoch 34/50\n",
      "39487/39487 [==============================] - 11s 266us/step - loss: 0.4174 - accuracy: 0.8282 - val_loss: 0.6058 - val_accuracy: 0.7566\n",
      "Epoch 35/50\n",
      "39487/39487 [==============================] - 10s 241us/step - loss: 0.4086 - accuracy: 0.8333 - val_loss: 0.6144 - val_accuracy: 0.7528\n",
      "Epoch 36/50\n",
      "39487/39487 [==============================] - 9s 230us/step - loss: 0.4022 - accuracy: 0.8347 - val_loss: 0.6706 - val_accuracy: 0.7395\n",
      "Epoch 37/50\n",
      "39487/39487 [==============================] - 9s 221us/step - loss: 0.3988 - accuracy: 0.8363 - val_loss: 0.6244 - val_accuracy: 0.7372\n",
      "Epoch 38/50\n",
      "39487/39487 [==============================] - 10s 250us/step - loss: 0.3910 - accuracy: 0.8394 - val_loss: 0.6440 - val_accuracy: 0.7316\n",
      "Epoch 39/50\n",
      "39487/39487 [==============================] - 10s 243us/step - loss: 0.3914 - accuracy: 0.8390 - val_loss: 0.6061 - val_accuracy: 0.7555\n",
      "Epoch 40/50\n",
      "39487/39487 [==============================] - 8s 212us/step - loss: 0.3852 - accuracy: 0.8432 - val_loss: 0.6137 - val_accuracy: 0.7523\n",
      "Epoch 41/50\n",
      "39487/39487 [==============================] - 9s 229us/step - loss: 0.3776 - accuracy: 0.8450 - val_loss: 0.7002 - val_accuracy: 0.7342\n",
      "Epoch 42/50\n",
      "39487/39487 [==============================] - 9s 228us/step - loss: 0.3729 - accuracy: 0.8479 - val_loss: 0.6577 - val_accuracy: 0.7485\n",
      "Epoch 43/50\n",
      "39487/39487 [==============================] - 9s 240us/step - loss: 0.3660 - accuracy: 0.8503 - val_loss: 0.6215 - val_accuracy: 0.7452\n",
      "Epoch 44/50\n",
      "39487/39487 [==============================] - 9s 224us/step - loss: 0.3654 - accuracy: 0.8496 - val_loss: 0.6177 - val_accuracy: 0.7589\n",
      "Epoch 45/50\n",
      "39487/39487 [==============================] - 9s 238us/step - loss: 0.3619 - accuracy: 0.8515 - val_loss: 0.6387 - val_accuracy: 0.7455\n",
      "Epoch 46/50\n",
      "39487/39487 [==============================] - 9s 230us/step - loss: 0.3534 - accuracy: 0.8551 - val_loss: 0.6217 - val_accuracy: 0.7537\n",
      "Epoch 47/50\n",
      "39487/39487 [==============================] - 9s 237us/step - loss: 0.3461 - accuracy: 0.8598 - val_loss: 0.6545 - val_accuracy: 0.7536\n",
      "Epoch 48/50\n",
      "39487/39487 [==============================] - 9s 226us/step - loss: 0.3437 - accuracy: 0.8621 - val_loss: 0.6355 - val_accuracy: 0.7508\n",
      "Epoch 49/50\n",
      "39487/39487 [==============================] - 9s 237us/step - loss: 0.3431 - accuracy: 0.8591 - val_loss: 0.6805 - val_accuracy: 0.7526\n",
      "Epoch 50/50\n",
      "39487/39487 [==============================] - 10s 265us/step - loss: 0.3219 - accuracy: 0.8726 - val_loss: 0.6359 - val_accuracy: 0.7625\n"
     ]
    }
   ],
   "source": [
    "history = model.fit(X_train, y_train, epochs=50,batch_size=100, validation_split=0.2)"
   ]
  },
  {
   "cell_type": "markdown",
   "metadata": {},
   "source": [
    "Die Grafik \"Training and validation loss\" zeigt, dass das Modell ab ca. 20 Epochen die Loss-Funktion nicht mehr dem Training-Loss annähert. Es hat keine Überanpassung stattgefunden. Bei einer Überanpassung bewegt sich das Training-Loss gegen 0, während die Validation-Loss immer größer wird. In Grafik \"Training and validation accuracy\" ist zusehen, dass die Validation-Accuracy ab der Epoche 25 sich nicht mehr signifikant verändert."
   ]
  },
  {
   "cell_type": "code",
   "execution_count": 39,
   "metadata": {},
   "outputs": [
    {
     "data": {
      "image/png": "[encoded data removed]",
      "text/plain": [
       "<Figure size 432x288 with 1 Axes>"
      ]
     },
     "metadata": {
      "needs_background": "light"
     },
     "output_type": "display_data"
    },
    {
     "data": {
      "image/png": "[encoded data removed]",
      "text/plain": [
       "<Figure size 432x288 with 1 Axes>"
      ]
     },
     "metadata": {
      "needs_background": "light"
     },
     "output_type": "display_data"
    }
   ],
   "source": [
    "history_dict = history.history\n",
    "train_loss = history_dict['loss']\n",
    "val_loss = history_dict['val_loss']\n",
    "train_acc = history_dict['accuracy']\n",
    "val_acc = history_dict['val_accuracy']\n",
    "\n",
    "epochs = range(1, len(train_loss) + 1)\n",
    "\n",
    "plt.title('Training and validation loss')\n",
    "plt.plot(epochs, train_loss, label='Training loss')\n",
    "plt.plot(epochs, val_loss, label='Validation loss')\n",
    "plt.xlabel('Epoch')\n",
    "plt.ylabel('Loss')\n",
    "plt.legend()\n",
    "plt.grid()\n",
    "plt.show()\n",
    "\n",
    "\n",
    "plt.title('Training and validation accuracy')\n",
    "plt.plot(epochs, train_acc, label='Training accuracy')\n",
    "plt.plot(epochs, val_acc, label='Validation accuracy')\n",
    "plt.xlabel('Epoch')\n",
    "plt.ylabel('Accuracy')\n",
    "plt.legend()\n",
    "plt.grid()\n",
    "plt.show()\n"
   ]
  },
  {
   "cell_type": "code",
   "execution_count": 10,
   "metadata": {},
   "outputs": [
    {
     "name": "stdout",
     "output_type": "stream",
     "text": [
      "12340/12340 [==============================] - 6s 468us/step\n",
      "Test score: 0.6018515123347216\n",
      "Test accuracy: 0.7732576727867126\n"
     ]
    }
   ],
   "source": [
    "#compute loss and accuracy on test data\n",
    "score = model.evaluate( X_test, y_test, verbose=1)\n",
    "print(\"Test score:\", score[0])\n",
    "print(\"Test accuracy:\", score[1])"
   ]
  },
  {
   "cell_type": "markdown",
   "metadata": {},
   "source": [
    "Nachdem evaluieren des Vorhersagemodell, kann eine Genauigkeit von 77% festgestellt werden. Im Vergleich zu Naive Bayes, das eine Genauigkeit von 69% besitzt, ist dies eine Steigerung um 8%."
   ]
  },
  {
   "cell_type": "markdown",
   "metadata": {
    "scrolled": true
   },
   "source": [
    "#Recurrent Neural Networks (RNN)\n",
    "Im Folgenden wird noch zusätzlich ein RNN trainiert und mit dem FFN verglichen. Es wurde zusätzlich ein vortrainierter Embedding-Layer benutzt. Dazu wurde GloVe für die Word-Embeddings benutzt. Die txt-Datei kann unter dem Link \"http://nlp.stanford.edu/data/glove.6B.zip\" heruntergeladen werden. Die Datei \"glove.6B.300d.txt\" muss sich im gleichen Verzeichnis wie das jpyter Notbook befinden.\n",
    "\n",
    "Es werden die 10000 meist benutzen Wörter betrachtet. Die \"embedding dimensionality\" ist auf 300 gesetzt."
   ]
  },
  {
   "cell_type": "code",
   "execution_count": 29,
   "metadata": {},
   "outputs": [],
   "source": [
    "import numpy as np\n",
    "import nltk\n",
    "from keras import models\n",
    "from keras import layers\n",
    "from keras.models import Sequential\n",
    "from keras.layers import Dense\n",
    "from keras.layers import LSTM\n",
    "from keras.layers import Embedding\n",
    "from keras.layers import Flatten\n",
    "from keras.preprocessing import sequence\n",
    "from keras.initializers import Constant\n",
    "from nltk.corpus import stopwords\n",
    "from nltk.tokenize import word_tokenize \n",
    "\n",
    "\n",
    "\n",
    "#k meisten Wörter werden betrachtet\n",
    "num_words = 10000\n",
    "\n",
    "# maximale Länge\n",
    "max_len = 500\n",
    "\n",
    "# embedding dimensionality\n",
    "emb_dim = 300\n"
   ]
  },
  {
   "cell_type": "markdown",
   "metadata": {},
   "source": [
    "#Vorverarbeitung der Daten\n",
    "Die Daten werden nochmals vorverarbeitet. Alle Stoppwörter werden aus dem Songtexten gelöscht. Dazu wird \n",
    "Natural Language Toolkit (NLTK) benutzt. "
   ]
  },
  {
   "cell_type": "code",
   "execution_count": null,
   "metadata": {},
   "outputs": [],
   "source": [
    "#Download die Stoppwörter und Zeichen\n",
    "nltk.download('stopwords')\n",
    "nltk.download(\"punkt\")\n",
    "\n",
    "stop_words = stopwords.words('english')\n",
    "\n",
    "#Es wird über alle Songtext iteriert. Mithilfe des Tokenizers wird der String in Wörter zerlegt, anschließend\n",
    "#wird überprüft, ob das Word in stop_words ist. Wenn nicht wird es der Liste hinzugefügt und am Ende wieder zu\n",
    "#einem String zusammen geklebt. \n",
    "for ind in rawData.index:\n",
    "    word_tokens = word_tokenize(rawData['Lyric'][ind]) \n",
    "    filtered_sentence = [w for w in word_tokens if not w in stop_words] \n",
    "    rawData['Lyric'][ind] = ' '.join(filtered_sentence)\n",
    "    \n",
    "    \n",
    "#Initialisieren des Tokenizers. \n",
    "tokenizer = Tokenizer(num_words=num_words, filters='!\"#$%&()*+,-./:;<=>?@[\\\\]^_`{|}~\\t\\n')\n",
    "tokenizer.fit_on_texts(rawData['Lyric'])\n",
    "sequences = tokenizer.texts_to_sequences(rawData['Lyric'])\n",
    "X_clean = sequence.pad_sequences(sequences,maxlen=max_len)\n",
    "\n",
    "Y_clean = vectorize_labels(rawData['Genre'])\n",
    "\n",
    "\n",
    "X_train, X_test, y_train, y_test = train_test_split(X_clean, Y_clean, test_size=0.1, random_state=0, shuffle=True)"
   ]
  },
  {
   "cell_type": "markdown",
   "metadata": {},
   "source": [
    "In diesem Abschnitt wird der vortrainierten Embedding-Layer erstellt. Der dazu notwendige Code wurde in einem [Tutorial](https://blog.keras.io/using-pre-trained-word-embeddings-in-a-keras-model.html) von Francois Chollet veröffentlicht. Der Codeabschnitt befinden sich auf [GitHub](https://blog.keras.io/using-pre-trained-word-embeddings-in-a-keras-model.html)."
   ]
  },
  {
   "cell_type": "code",
   "execution_count": 32,
   "metadata": {},
   "outputs": [
    {
     "name": "stdout",
     "output_type": "stream",
     "text": [
      "Found 400000 word vectors.\n"
     ]
    }
   ],
   "source": [
    "embeddings_index = {}\n",
    "f = open('glove.6B.300d.txt',encoding=\"utf8\")\n",
    "for line in f:\n",
    "    values = line.split()\n",
    "    word = values[0]\n",
    "    coefs = np.asarray(values[1:], dtype='float32')\n",
    "    embeddings_index[word] = coefs\n",
    "f.close()\n",
    "\n",
    "print('Found %s word vectors.' % len(embeddings_index))\n",
    "\n",
    "\n",
    "word_index= tokenizer.word_index\n",
    "embedding_matrix = np.zeros((len(word_index) + 1, emb_dim))\n",
    "for word, i in word_index.items():\n",
    "    embedding_vector = embeddings_index.get(word)\n",
    "    if embedding_vector is not None:\n",
    "        # words not found in embedding index will be all-zeros.\n",
    "        embedding_matrix[i] = embedding_vector\n",
    "        \n",
    "num_words = min(num_words, len(word_index) + 1)\n",
    "embedding_matrix = np.zeros((num_words, emb_dim))\n",
    "for word, i in word_index.items():\n",
    "    if i >= num_words:\n",
    "        continue\n",
    "    embedding_vector = embeddings_index.get(word)\n",
    "    if embedding_vector is not None:\n",
    "        # words not found in embedding index will be all-zeros.\n",
    "        embedding_matrix[i] = embedding_vector\n",
    "        \n",
    "        \n",
    "        "
   ]
  },
  {
   "cell_type": "markdown",
   "metadata": {},
   "source": [
    "Als eine spezielle Variante des RNN wird ein Long short-term memory (LSTM) verwendet. LSTM eignen sich sehr gut für Textklassifizierungsprobleme. Wie auch FFN wird \"categorical_crossentropy\" als Loss-Funktion genutzt. Als Aktivierungsfunktion wird 'softmax' genutzt. \n",
    "\n",
    "\n",
    "Als Optimizer wird RMSprop benutzt. "
   ]
  },
  {
   "cell_type": "code",
   "execution_count": 33,
   "metadata": {
    "scrolled": false
   },
   "outputs": [
    {
     "name": "stdout",
     "output_type": "stream",
     "text": [
      "Model: \"sequential_12\"\n",
      "_________________________________________________________________\n",
      "Layer (type)                 Output Shape              Param #   \n",
      "=================================================================\n",
      "embedding_11 (Embedding)     (None, 500, 300)          3000000   \n",
      "_________________________________________________________________\n",
      "lstm_11 (LSTM)               (None, 128)               219648    \n",
      "_________________________________________________________________\n",
      "dense_11 (Dense)             (None, 6)                 774       \n",
      "=================================================================\n",
      "Total params: 3,220,422\n",
      "Trainable params: 220,422\n",
      "Non-trainable params: 3,000,000\n",
      "_________________________________________________________________\n",
      "Train on 44423 samples, validate on 11106 samples\n",
      "Epoch 1/24\n",
      "44423/44423 [==============================] - 567s 13ms/step - loss: 1.0435 - acc: 0.4892 - val_loss: 0.9805 - val_acc: 0.5176\n",
      "Epoch 2/24\n",
      "44423/44423 [==============================] - 602s 14ms/step - loss: 0.9816 - acc: 0.5181 - val_loss: 0.9364 - val_acc: 0.5516\n",
      "Epoch 3/24\n",
      "44423/44423 [==============================] - 583s 13ms/step - loss: 0.9266 - acc: 0.5523 - val_loss: 0.8595 - val_acc: 0.6017\n",
      "Epoch 4/24\n",
      "44423/44423 [==============================] - 565s 13ms/step - loss: 0.8759 - acc: 0.5852 - val_loss: 0.8410 - val_acc: 0.6231\n",
      "Epoch 5/24\n",
      "44423/44423 [==============================] - 543s 12ms/step - loss: 0.8399 - acc: 0.6100 - val_loss: 0.8026 - val_acc: 0.6399\n",
      "Epoch 6/24\n",
      "44423/44423 [==============================] - 542s 12ms/step - loss: 0.8153 - acc: 0.6274 - val_loss: 0.8016 - val_acc: 0.6433\n",
      "Epoch 7/24\n",
      "44423/44423 [==============================] - 563s 13ms/step - loss: 0.8006 - acc: 0.6357 - val_loss: 0.7813 - val_acc: 0.6538\n",
      "Epoch 8/24\n",
      "44423/44423 [==============================] - 512s 12ms/step - loss: 0.7901 - acc: 0.6436 - val_loss: 0.7749 - val_acc: 0.6601\n",
      "Epoch 9/24\n",
      "44423/44423 [==============================] - 515s 12ms/step - loss: 0.7803 - acc: 0.6484 - val_loss: 0.7734 - val_acc: 0.6592\n",
      "Epoch 10/24\n",
      "44423/44423 [==============================] - 514s 12ms/step - loss: 0.7710 - acc: 0.6568 - val_loss: 0.7590 - val_acc: 0.6690\n",
      "Epoch 11/24\n",
      "44423/44423 [==============================] - 512s 12ms/step - loss: 0.7627 - acc: 0.6610 - val_loss: 0.7532 - val_acc: 0.6781\n",
      "Epoch 12/24\n",
      "44423/44423 [==============================] - 524s 12ms/step - loss: 0.7587 - acc: 0.6629 - val_loss: 0.7410 - val_acc: 0.6795\n",
      "Epoch 13/24\n",
      "44423/44423 [==============================] - 559s 13ms/step - loss: 0.7548 - acc: 0.6668 - val_loss: 0.7377 - val_acc: 0.6802\n",
      "Epoch 14/24\n",
      "44423/44423 [==============================] - 523s 12ms/step - loss: 0.7514 - acc: 0.6674 - val_loss: 0.7190 - val_acc: 0.6884\n",
      "Epoch 15/24\n",
      "44423/44423 [==============================] - 513s 12ms/step - loss: 0.7483 - acc: 0.6689 - val_loss: 0.7175 - val_acc: 0.6883\n",
      "Epoch 16/24\n",
      "44423/44423 [==============================] - 522s 12ms/step - loss: 0.7425 - acc: 0.6736 - val_loss: 0.7205 - val_acc: 0.6902\n",
      "Epoch 17/24\n",
      "44423/44423 [==============================] - 519s 12ms/step - loss: 0.7408 - acc: 0.6729 - val_loss: 0.7273 - val_acc: 0.6860\n",
      "Epoch 18/24\n",
      "44423/44423 [==============================] - 518s 12ms/step - loss: 0.7401 - acc: 0.6729 - val_loss: 0.7288 - val_acc: 0.6859\n",
      "Epoch 19/24\n",
      "44423/44423 [==============================] - 519s 12ms/step - loss: 0.7352 - acc: 0.6769 - val_loss: 0.7257 - val_acc: 0.6868\n",
      "Epoch 20/24\n",
      "44423/44423 [==============================] - 514s 12ms/step - loss: 0.7335 - acc: 0.6769 - val_loss: 0.7272 - val_acc: 0.6918\n",
      "Epoch 21/24\n",
      "44423/44423 [==============================] - 516s 12ms/step - loss: 0.7301 - acc: 0.6808 - val_loss: 0.7173 - val_acc: 0.6935\n",
      "Epoch 22/24\n",
      "44423/44423 [==============================] - 520s 12ms/step - loss: 0.7290 - acc: 0.6792 - val_loss: 0.7098 - val_acc: 0.6991\n",
      "Epoch 23/24\n",
      "44423/44423 [==============================] - 520s 12ms/step - loss: 0.7295 - acc: 0.6791 - val_loss: 0.7070 - val_acc: 0.6969\n",
      "Epoch 24/24\n",
      "44423/44423 [==============================] - 506s 11ms/step - loss: 0.7270 - acc: 0.6800 - val_loss: 0.7051 - val_acc: 0.6976\n"
     ]
    }
   ],
   "source": [
    "model = Sequential()\n",
    "model.add((Embedding(num_words,emb_dim, \n",
    "                    embeddings_initializer=Constant(embedding_matrix),input_length=max_len,\n",
    "                    trainable=False)))\n",
    "model.add(LSTM(128, recurrent_dropout=0.8, dropout=0.8))\n",
    "\n",
    " model.add(LSTM(128))\n",
    "model.add(Dense(6, activation='softmax'))\n",
    "model.summary() \n",
    "\n",
    "model.compile(optimizer='rmsprop', loss='categorical_crossentropy', metrics=['acc'])\n",
    "history = model.fit(X_train,y_train, epochs=4, batch_size=100, validation_split=0.2)\n",
    "\n"
   ]
  },
  {
   "cell_type": "code",
   "execution_count": null,
   "metadata": {},
   "outputs": [],
   "source": []
  },
  {
   "cell_type": "code",
   "execution_count": 37,
   "metadata": {},
   "outputs": [
    {
     "data": {
      "image/png": "[encoded data removed]",
      "text/plain": [
       "<Figure size 432x288 with 1 Axes>"
      ]
     },
     "metadata": {
      "needs_background": "light"
     },
     "output_type": "display_data"
    },
    {
     "data": {
      "image/png": "[encoded data removed]",
      "text/plain": [
       "<Figure size 432x288 with 1 Axes>"
      ]
     },
     "metadata": {
      "needs_background": "light"
     },
     "output_type": "display_data"
    }
   ],
   "source": [
    "history_dict = history.history\n",
    "train_loss = history_dict['loss']\n",
    "val_loss = history_dict['val_loss']\n",
    "\n",
    "epochs = range(1, len(train_loss) + 1)\n",
    "plt.title('Training and validation loss')\n",
    "plt.plot(epochs, train_loss, label='Training loss')\n",
    "plt.plot(epochs, val_loss, label='Validation loss')\n",
    "plt.xlabel('Epoch')\n",
    "plt.ylabel('Loss')\n",
    "plt.legend()\n",
    "plt.grid()\n",
    "plt.show()\n",
    "\n",
    "\n",
    "train_acc = history_dict['acc']\n",
    "val_acc = history_dict['val_acc']\n",
    "\n",
    "epochs = range(1, len(train_loss) + 1)\n",
    "plt.title('Training and validation accuracy')\n",
    "plt.plot(epochs, train_acc, label='Training accuracy')\n",
    "plt.plot(epochs, val_acc, label='Validation accuracy')\n",
    "plt.xlabel('Epoch')\n",
    "plt.ylabel('Accuracy')\n",
    "plt.legend()\n",
    "plt.grid()\n",
    "plt.show()"
   ]
  },
  {
   "cell_type": "code",
   "execution_count": 35,
   "metadata": {},
   "outputs": [
    {
     "name": "stdout",
     "output_type": "stream",
     "text": [
      "6170/6170 [==============================] - 45s 7ms/step\n",
      "Test score: 0.7151173321509091\n",
      "Test accuracy: 0.685089111328125\n"
     ]
    }
   ],
   "source": [
    "# compute loss and accuracy on test data\n",
    "score = model.evaluate(X_test, y_test, verbose=1)\n",
    "print(\"Test score:\", score[0])\n",
    "print(\"Test accuracy:\", score[1])"
   ]
  },
  {
   "cell_type": "code",
   "execution_count": 36,
   "metadata": {},
   "outputs": [
    {
     "data": {
      "image/png": "[encoded data removed]",
      "text/plain": [
       "<Figure size 432x288 with 1 Axes>"
      ]
     },
     "metadata": {
      "needs_background": "light"
     },
     "output_type": "display_data"
    }
   ],
   "source": [
    "history_dict = history.history\n",
    "train_acc = history_dict['acc']\n",
    "val_acc = history_dict['val_acc']\n",
    "\n",
    "epochs = range(1, len(train_loss) + 1)\n",
    "plt.title('Training and validation accuracy')\n",
    "plt.plot(epochs, train_acc, label='Training accuracy')\n",
    "plt.plot(epochs, val_acc, label='Validation accuracy')\n",
    "plt.xlabel('Epoch')\n",
    "plt.ylabel('Accuracy')\n",
    "plt.legend()\n",
    "plt.grid()\n",
    "plt.show()"
   ]
  },
  {
   "cell_type": "code",
   "execution_count": null,
   "metadata": {},
   "outputs": [],
   "source": []
  },
  {
   "cell_type": "code",
   "execution_count": null,
   "metadata": {},
   "outputs": [],
   "source": []
  },
  {
   "cell_type": "code",
   "execution_count": null,
   "metadata": {},
   "outputs": [],
   "source": []
  },
  {
   "cell_type": "code",
   "execution_count": null,
   "metadata": {},
   "outputs": [],
   "source": []
  }
 ],
 "metadata": {
  "kernelspec": {
   "display_name": "Python 3",
   "language": "python",
   "name": "python3"
  },
  "language_info": {
   "codemirror_mode": {
    "name": "ipython",
    "version": 3
   },
   "file_extension": ".py",
   "mimetype": "text/x-python",
   "name": "python",
   "nbconvert_exporter": "python",
   "pygments_lexer": "ipython3",
   "version": "3.7.4"
  }
 },
 "nbformat": 4,
 "nbformat_minor": 4
}
