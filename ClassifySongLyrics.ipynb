{
 "cells": [
  {
   "cell_type": "code",
   "execution_count": 1,
   "metadata": {},
   "outputs": [
    {
     "name": "stderr",
     "output_type": "stream",
     "text": [
      "Using TensorFlow backend.\n"
     ]
    }
   ],
   "source": [
    "import pandas as pd \n",
    "from sklearn.model_selection import train_test_split\n",
    "from keras import models\n",
    "from keras import layers\n",
    "from sklearn.feature_extraction.text import CountVectorizer\n",
    "from keras.preprocessing.text import Tokenizer\n",
    "from keras.utils import to_categorical\n",
    "import matplotlib.pyplot as plt\n",
    "from sklearn import preprocessing\n",
    "from sklearn.feature_extraction.text import TfidfVectorizer \n",
    "from sklearn.metrics import confusion_matrix, precision_score, recall_score, f1_score, accuracy_score\n",
    "from sklearn.preprocessing import LabelEncoder\n",
    "from sklearn.naive_bayes import MultinomialNB\n",
    "from keras.layers import Dropout\n",
    "\n",
    "# load dataset \n",
    "pathLyrics = 'lyrics-data.csv'\n",
    "pathArtists = 'artists-data.csv'\n",
    "\n",
    "\n",
    "dataframe = pd.read_csv(pathLyrics)\n",
    "dataframeArtists = pd.read_csv(pathArtists)"
   ]
  },
  {
   "cell_type": "markdown",
   "metadata": {},
   "source": [
    "#Data preparation"
   ]
  },
  {
   "cell_type": "code",
   "execution_count": 2,
   "metadata": {
    "scrolled": true
   },
   "outputs": [],
   "source": [
    "from sklearn.utils import shuffle\n",
    "\n",
    "dataframe = dataframe[dataframe['Idiom'] == 'ENGLISH']\n",
    "dataframe['Lyric'] = dataframe['Lyric'].apply(lambda lyric: lyric.lower())\n",
    "\n",
    "\n",
    "patternDel = [\"---\", \"instrumental\",\"===\"]\n",
    "for patt in patternDel:\n",
    "    filter = dataframe['Lyric'].str.contains(patt)\n",
    "    dataframe = dataframe[~filter]\n",
    "\n",
    "dataframe.rename(columns={'ALink':'Link','SName':'SName', 'SLink':'SLink','Lyric':'Lyric','Idiom':'Idiom'},inplace=True)\n",
    "mergeData=pd.merge(dataframe, dataframeArtists, on='Link')\n",
    "listOfIndex=[]\n",
    "\n",
    "for ind in mergeData.index:\n",
    "    if type(mergeData['Genres'][ind]) is str: \n",
    "        s_gerne = mergeData['Genre'][ind]\n",
    "        #print(type(mergeData['Genres'][ind]))\n",
    "        s_gernres = mergeData['Genres'][ind].split(\";\")\n",
    "        if s_gerne !=  s_gernres[0]:\n",
    "            listOfIndex.append(ind)\n",
    "    else:\n",
    "        listOfIndex.append(ind)\n",
    "        \n",
    "        \n",
    "mergeData.drop(listOfIndex,inplace=True )\n",
    "#mergeData.to_csv('merge.csv')\n",
    "rawData = shuffle(mergeData)\n"
   ]
  },
  {
   "cell_type": "markdown",
   "metadata": {},
   "source": [
    "#Baseline"
   ]
  },
  {
   "cell_type": "code",
   "execution_count": 3,
   "metadata": {},
   "outputs": [
    {
     "name": "stdout",
     "output_type": "stream",
     "text": [
      "Kofusionsmatrix:\n",
      " [[   0    0    2    0    0    0]\n",
      " [   0 1592  570  132    0    0]\n",
      " [   0  265 2422 1236    0    5]\n",
      " [   1  223 1357 4509    0    4]\n",
      " [   0    1    4    4    0    0]\n",
      " [   0    0    5    8    0    0]]\n",
      "Korrektklassifizierungsrate:\n",
      " 0.6906807131280389\n",
      "Präzision (mikro):\n",
      " 0.6906807131280389\n",
      "Ausbeute (mikro):\n",
      " 0.6906807131280389\n",
      "F1 (mikro):\n",
      " 0.6906807131280389\n"
     ]
    }
   ],
   "source": [
    "vectorizer = CountVectorizer()\n",
    "X_cnt = vectorizer.fit_transform(rawData['Lyric'])\n",
    "\n",
    "label_encoder = LabelEncoder()\n",
    "y_clean = label_encoder.fit_transform(rawData['Genre'])\n",
    "\n",
    "X_train, X_test, y_train, y_test = train_test_split(X_cnt, y_clean, test_size=0.2, random_state=0)\n",
    "\n",
    "## Naive Bayes mit additiver Glättung trainieren\n",
    "nb = MultinomialNB(alpha=1.0)\n",
    "nb.fit(X_train, y_train)\n",
    "\n",
    "## Vorhersagen berechnen\n",
    "y_predicted = nb.predict(X_test)\n",
    "\n",
    "\n",
    "## Konfusionsmatrix ausgeben\n",
    "print(\"Kofusionsmatrix:\\n\", confusion_matrix(y_true=y_test, y_pred=y_predicted))\n",
    "\n",
    "## Gütemaße ausgeben\n",
    "print(\"Korrektklassifizierungsrate:\\n\", accuracy_score(y_true=y_test, y_pred=y_predicted))\n",
    "print(\"Präzision (mikro):\\n\", precision_score(y_true=y_test, y_pred=y_predicted, average='micro'))\n",
    "print(\"Ausbeute (mikro):\\n\", recall_score(y_true=y_test, y_pred=y_predicted, average='micro'))\n",
    "print(\"F1 (mikro):\\n\", f1_score(y_true=y_test, y_pred=y_predicted, average='micro'))"
   ]
  },
  {
   "cell_type": "markdown",
   "metadata": {},
   "source": [
    "#Feed Forward Network"
   ]
  },
  {
   "cell_type": "code",
   "execution_count": 4,
   "metadata": {},
   "outputs": [],
   "source": [
    "def vectorize_sequences (dataframe, dimensions=10000):\n",
    "    vect = CountVectorizer()\n",
    "    X = vect.fit_transform(dataframe)\n",
    "    tokenizer = Tokenizer(num_words=dimensions, filters='!\"#$%&()*+,-./:;<=>?@[\\\\]^_`{|}~\\t\\n')\n",
    "    tokenizer.fit_on_texts(dataframe)\n",
    "    sequences = tokenizer.texts_to_sequences(dataframe)\n",
    "    one_hot_results = tokenizer.texts_to_matrix(dataframe, mode='binary')\n",
    "    word_index = tokenizer.word_index\n",
    "    print('Found %s unique tokens.' % len(word_index))\n",
    "\n",
    "    return one_hot_results\n",
    "    \n",
    "def vectorize_labels(labels):\n",
    "    le = preprocessing.LabelEncoder()\n",
    "    encodedlabels = le.fit(labels)\n",
    "    encodedlabels_transformed= le.transform(labels) \n",
    "    return to_categorical(encodedlabels_transformed)"
   ]
  },
  {
   "cell_type": "code",
   "execution_count": 6,
   "metadata": {},
   "outputs": [
    {
     "name": "stdout",
     "output_type": "stream",
     "text": [
      "Found 101195 unique tokens.\n"
     ]
    }
   ],
   "source": [
    "X_cnt = vectorize_sequences(rawData['Lyric'])\n",
    "#y_train = vectorize_sequences(train['Genre'], 6)\n",
    "y_clean = vectorize_labels(rawData['Genre'])\n",
    "\n",
    "X_train, X_test, y_train, y_test = train_test_split(X_cnt, y_clean, test_size=0.2, random_state=0)"
   ]
  },
  {
   "cell_type": "code",
   "execution_count": 7,
   "metadata": {},
   "outputs": [
    {
     "name": "stdout",
     "output_type": "stream",
     "text": [
      "Model: \"sequential_1\"\n",
      "_________________________________________________________________\n",
      "Layer (type)                 Output Shape              Param #   \n",
      "=================================================================\n",
      "dense_1 (Dense)              (None, 16)                160016    \n",
      "_________________________________________________________________\n",
      "dense_2 (Dense)              (None, 16)                272       \n",
      "_________________________________________________________________\n",
      "dense_3 (Dense)              (None, 6)                 102       \n",
      "=================================================================\n",
      "Total params: 160,390\n",
      "Trainable params: 160,390\n",
      "Non-trainable params: 0\n",
      "_________________________________________________________________\n"
     ]
    }
   ],
   "source": [
    "model = models.Sequential()\n",
    "model.add(layers.Dense(16, activation='relu', input_shape=(10000,)))\n",
    "model.add(layers.Dense(16, activation='relu'))\n",
    "model.add(layers.Dense(6, activation='softmax'))\n",
    "model.compile(optimizer='sgd', loss='categorical_crossentropy', metrics=['accuracy'])\n",
    "model.summary()"
   ]
  },
  {
   "cell_type": "code",
   "execution_count": 8,
   "metadata": {
    "scrolled": false
   },
   "outputs": [
    {
     "name": "stdout",
     "output_type": "stream",
     "text": [
      "Train on 39487 samples, validate on 9872 samples\n",
      "Epoch 1/50\n",
      "39487/39487 [==============================] - 9s 231us/step - loss: 1.1324 - accuracy: 0.5407 - val_loss: 0.7867 - val_accuracy: 0.6821\n",
      "Epoch 2/50\n",
      "39487/39487 [==============================] - 6s 142us/step - loss: 0.7307 - accuracy: 0.6917 - val_loss: 0.6986 - val_accuracy: 0.7000\n",
      "Epoch 3/50\n",
      "39487/39487 [==============================] - 6s 145us/step - loss: 0.6840 - accuracy: 0.7079 - val_loss: 0.6729 - val_accuracy: 0.7156\n",
      "Epoch 4/50\n",
      "39487/39487 [==============================] - 7s 187us/step - loss: 0.6585 - accuracy: 0.7206 - val_loss: 0.6518 - val_accuracy: 0.7238\n",
      "Epoch 5/50\n",
      "39487/39487 [==============================] - 8s 198us/step - loss: 0.6389 - accuracy: 0.7294 - val_loss: 0.6390 - val_accuracy: 0.7306\n",
      "Epoch 6/50\n",
      "39487/39487 [==============================] - 8s 200us/step - loss: 0.6226 - accuracy: 0.7357 - val_loss: 0.6282 - val_accuracy: 0.7353\n",
      "Epoch 7/50\n",
      "39487/39487 [==============================] - 8s 210us/step - loss: 0.6078 - accuracy: 0.7426 - val_loss: 0.6196 - val_accuracy: 0.7376\n",
      "Epoch 8/50\n",
      "39487/39487 [==============================] - 9s 217us/step - loss: 0.5943 - accuracy: 0.7487 - val_loss: 0.6144 - val_accuracy: 0.7393\n",
      "Epoch 9/50\n",
      "39487/39487 [==============================] - 8s 213us/step - loss: 0.5821 - accuracy: 0.7542 - val_loss: 0.6134 - val_accuracy: 0.7325\n",
      "Epoch 10/50\n",
      "39487/39487 [==============================] - 9s 220us/step - loss: 0.5700 - accuracy: 0.7591 - val_loss: 0.6061 - val_accuracy: 0.7467\n",
      "Epoch 11/50\n",
      "39487/39487 [==============================] - 9s 221us/step - loss: 0.5595 - accuracy: 0.7643 - val_loss: 0.6048 - val_accuracy: 0.7347\n",
      "Epoch 12/50\n",
      "39487/39487 [==============================] - 9s 227us/step - loss: 0.5491 - accuracy: 0.7699 - val_loss: 0.5956 - val_accuracy: 0.7518\n",
      "Epoch 13/50\n",
      "39487/39487 [==============================] - 9s 222us/step - loss: 0.5387 - accuracy: 0.7750 - val_loss: 0.5982 - val_accuracy: 0.7388\n",
      "Epoch 14/50\n",
      "39487/39487 [==============================] - 9s 223us/step - loss: 0.5282 - accuracy: 0.7790 - val_loss: 0.5896 - val_accuracy: 0.7503\n",
      "Epoch 15/50\n",
      "39487/39487 [==============================] - 9s 226us/step - loss: 0.5196 - accuracy: 0.7840 - val_loss: 0.5870 - val_accuracy: 0.7514\n",
      "Epoch 16/50\n",
      "39487/39487 [==============================] - 9s 224us/step - loss: 0.5087 - accuracy: 0.7900 - val_loss: 0.5832 - val_accuracy: 0.7548\n",
      "Epoch 17/50\n",
      "39487/39487 [==============================] - 9s 226us/step - loss: 0.5010 - accuracy: 0.7946 - val_loss: 0.6024 - val_accuracy: 0.7479\n",
      "Epoch 18/50\n",
      "39487/39487 [==============================] - 9s 230us/step - loss: 0.4931 - accuracy: 0.7968 - val_loss: 0.5825 - val_accuracy: 0.7513\n",
      "Epoch 19/50\n",
      "39487/39487 [==============================] - 9s 238us/step - loss: 0.4823 - accuracy: 0.8017 - val_loss: 0.5800 - val_accuracy: 0.7553\n",
      "Epoch 20/50\n",
      "39487/39487 [==============================] - 10s 254us/step - loss: 0.4764 - accuracy: 0.8049 - val_loss: 0.5899 - val_accuracy: 0.7450\n",
      "Epoch 21/50\n",
      "39487/39487 [==============================] - 10s 263us/step - loss: 0.4669 - accuracy: 0.8095 - val_loss: 0.5766 - val_accuracy: 0.7603\n",
      "Epoch 22/50\n",
      "39487/39487 [==============================] - 9s 239us/step - loss: 0.4606 - accuracy: 0.8123 - val_loss: 0.5877 - val_accuracy: 0.7566\n",
      "Epoch 23/50\n",
      "39487/39487 [==============================] - 10s 263us/step - loss: 0.4532 - accuracy: 0.8135 - val_loss: 0.6065 - val_accuracy: 0.7482\n",
      "Epoch 24/50\n",
      "39487/39487 [==============================] - 9s 240us/step - loss: 0.4432 - accuracy: 0.8189 - val_loss: 0.5839 - val_accuracy: 0.7601\n",
      "Epoch 25/50\n",
      "39487/39487 [==============================] - 10s 241us/step - loss: 0.4388 - accuracy: 0.8212 - val_loss: 0.5777 - val_accuracy: 0.7611\n",
      "Epoch 26/50\n",
      "39487/39487 [==============================] - 10s 241us/step - loss: 0.4317 - accuracy: 0.8242 - val_loss: 0.5789 - val_accuracy: 0.7589\n",
      "Epoch 27/50\n",
      "39487/39487 [==============================] - 10s 246us/step - loss: 0.4214 - accuracy: 0.8278 - val_loss: 0.5761 - val_accuracy: 0.7594\n",
      "Epoch 28/50\n",
      "39487/39487 [==============================] - 10s 250us/step - loss: 0.4181 - accuracy: 0.8319 - val_loss: 0.5896 - val_accuracy: 0.7610\n",
      "Epoch 29/50\n",
      "39487/39487 [==============================] - 10s 251us/step - loss: 0.4116 - accuracy: 0.8324 - val_loss: 0.6097 - val_accuracy: 0.7527\n",
      "Epoch 30/50\n",
      "39487/39487 [==============================] - 10s 252us/step - loss: 0.4029 - accuracy: 0.8361 - val_loss: 0.6435 - val_accuracy: 0.7454\n",
      "Epoch 31/50\n",
      "39487/39487 [==============================] - 12s 304us/step - loss: 0.3955 - accuracy: 0.8415 - val_loss: 0.5878 - val_accuracy: 0.7602- loss: 0.3941 - accuracy:  -\n",
      "Epoch 32/50\n",
      "39487/39487 [==============================] - 10s 242us/step - loss: 0.3960 - accuracy: 0.8386 - val_loss: 0.5774 - val_accuracy: 0.7626\n",
      "Epoch 33/50\n",
      "39487/39487 [==============================] - 9s 226us/step - loss: 0.3874 - accuracy: 0.8446 - val_loss: 0.6167 - val_accuracy: 0.7538\n",
      "Epoch 34/50\n",
      "39487/39487 [==============================] - 9s 234us/step - loss: 0.3760 - accuracy: 0.8475 - val_loss: 0.6340 - val_accuracy: 0.7394\n",
      "Epoch 35/50\n",
      "39487/39487 [==============================] - 9s 238us/step - loss: 0.3720 - accuracy: 0.8492 - val_loss: 0.5810 - val_accuracy: 0.7688\n",
      "Epoch 36/50\n",
      "39487/39487 [==============================] - 11s 286us/step - loss: 0.3697 - accuracy: 0.8509 - val_loss: 0.5851 - val_accuracy: 0.7655\n",
      "Epoch 37/50\n",
      "39487/39487 [==============================] - 11s 288us/step - loss: 0.3646 - accuracy: 0.8533 - val_loss: 0.6395 - val_accuracy: 0.7447\n",
      "Epoch 38/50\n",
      "39487/39487 [==============================] - 10s 262us/step - loss: 0.3549 - accuracy: 0.8579 - val_loss: 0.5968 - val_accuracy: 0.7619\n",
      "Epoch 39/50\n",
      "39487/39487 [==============================] - 11s 274us/step - loss: 0.3481 - accuracy: 0.8597 - val_loss: 0.5905 - val_accuracy: 0.7698\n",
      "Epoch 40/50\n",
      "39487/39487 [==============================] - 10s 262us/step - loss: 0.3451 - accuracy: 0.8611 - val_loss: 0.6158 - val_accuracy: 0.7590\n",
      "Epoch 41/50\n",
      "39487/39487 [==============================] - 16s 393us/step - loss: 0.3389 - accuracy: 0.8647 - val_loss: 0.6556 - val_accuracy: 0.7454\n",
      "Epoch 42/50\n",
      "39487/39487 [==============================] - 15s 382us/step - loss: 0.3283 - accuracy: 0.8702 - val_loss: 0.6009 - val_accuracy: 0.7701\n",
      "Epoch 43/50\n",
      "39487/39487 [==============================] - 14s 344us/step - loss: 0.3275 - accuracy: 0.8694 - val_loss: 0.7553 - val_accuracy: 0.7145\n",
      "Epoch 44/50\n",
      "39487/39487 [==============================] - 11s 285us/step - loss: 0.3162 - accuracy: 0.8756 - val_loss: 0.6088 - val_accuracy: 0.7710\n",
      "Epoch 45/50\n",
      "39487/39487 [==============================] - 11s 274us/step - loss: 0.3112 - accuracy: 0.8777 - val_loss: 0.6260 - val_accuracy: 0.7607\n",
      "Epoch 46/50\n",
      "39487/39487 [==============================] - 12s 297us/step - loss: 0.3151 - accuracy: 0.8764 - val_loss: 0.8106 - val_accuracy: 0.7267\n",
      "Epoch 47/50\n",
      "39487/39487 [==============================] - 9s 230us/step - loss: 0.3110 - accuracy: 0.8783 - val_loss: 0.6287 - val_accuracy: 0.7728\n",
      "Epoch 48/50\n",
      "39487/39487 [==============================] - 10s 251us/step - loss: 0.2955 - accuracy: 0.8841 - val_loss: 0.6377 - val_accuracy: 0.7715\n",
      "Epoch 49/50\n",
      "39487/39487 [==============================] - 12s 314us/step - loss: 0.2906 - accuracy: 0.8854 - val_loss: 0.6416 - val_accuracy: 0.7736\n",
      "Epoch 50/50\n",
      "39487/39487 [==============================] - 10s 254us/step - loss: 0.2866 - accuracy: 0.8874 - val_loss: 0.6327 - val_accuracy: 0.7725\n"
     ]
    }
   ],
   "source": [
    "history = model.fit(X_train, y_train, epochs=50,batch_size=100, validation_split=0.2)"
   ]
  },
  {
   "cell_type": "code",
   "execution_count": 9,
   "metadata": {},
   "outputs": [
    {
     "data": {
      "image/png": "[encoded data removed]",
      "text/plain": [
       "<Figure size 432x288 with 1 Axes>"
      ]
     },
     "metadata": {
      "needs_background": "light"
     },
     "output_type": "display_data"
    }
   ],
   "source": [
    "history_dict = history.history\n",
    "train_loss = history_dict['loss']\n",
    "val_loss = history_dict['val_loss']\n",
    "\n",
    "epochs = range(1, len(train_loss) + 1)\n",
    "plt.title('Training and validation loss')\n",
    "plt.plot(epochs, train_loss, label='Training loss')\n",
    "plt.plot(epochs, val_loss, label='Validation loss')\n",
    "plt.xlabel('Epoch')\n",
    "plt.ylabel('Loss')\n",
    "plt.legend()\n",
    "plt.grid()\n",
    "plt.show()"
   ]
  },
  {
   "cell_type": "code",
   "execution_count": 12,
   "metadata": {},
   "outputs": [
    {
     "name": "stdout",
     "output_type": "stream",
     "text": [
      "12340/12340 [==============================] - 2s 161us/step\n",
      "Test score: 0.6490293280618504\n",
      "Test accuracy: 0.7691248059272766\n"
     ]
    }
   ],
   "source": [
    "\n",
    "# compute loss and accuracy on test data\n",
    "score = model.evaluate( X_test, y_test, verbose=1)\n",
    "print(\"Test score:\", score[0])\n",
    "print(\"Test accuracy:\", score[1])"
   ]
  },
  {
   "cell_type": "code",
   "execution_count": 13,
   "metadata": {},
   "outputs": [
    {
     "data": {
      "image/png": "[encoded data removed]",
      "text/plain": [
       "<Figure size 432x288 with 1 Axes>"
      ]
     },
     "metadata": {
      "needs_background": "light"
     },
     "output_type": "display_data"
    }
   ],
   "source": [
    "history_dict = history.history\n",
    "train_acc = history_dict['accuracy']\n",
    "val_acc = history_dict['val_accuracy']\n",
    "\n",
    "epochs = range(1, len(train_loss) + 1)\n",
    "plt.title('Training and validation accuracy')\n",
    "plt.plot(epochs, train_acc, label='Training accuracy')\n",
    "plt.plot(epochs, val_acc, label='Validation accuracy')\n",
    "plt.xlabel('Epoch')\n",
    "plt.ylabel('Accuracy')\n",
    "plt.legend()\n",
    "plt.grid()\n",
    "plt.show()"
   ]
  },
  {
   "cell_type": "markdown",
   "metadata": {},
   "source": [
    "# Enhanced FFN"
   ]
  },
  {
   "cell_type": "code",
   "execution_count": null,
   "metadata": {},
   "outputs": [],
   "source": []
  },
  {
   "cell_type": "code",
   "execution_count": 290,
   "metadata": {},
   "outputs": [],
   "source": [
    "tfidf_vectorizer=TfidfVectorizer(stop_words=\"english\",max_features=10000, ngram_range=(1, 3),use_idf=True )\n",
    "\n",
    "xtrain_tfidf = tfidf_vectorizer.fit(rawData['Lyric'])\n",
    "\n",
    "X_cnt = xtrain_tfidf.transform(rawData['Lyric'])\n",
    "y_clean = vectorize_labels(rawData['Genre'])\n",
    "\n",
    "\n",
    "\n",
    "X_train, X_test, y_train, y_test = train_test_split(X_cnt, y_clean, test_size=0.2, random_state=0, shuffle=True)"
   ]
  },
  {
   "cell_type": "code",
   "execution_count": 294,
   "metadata": {},
   "outputs": [
    {
     "name": "stdout",
     "output_type": "stream",
     "text": [
      "Model: \"sequential_61\"\n",
      "_________________________________________________________________\n",
      "Layer (type)                 Output Shape              Param #   \n",
      "=================================================================\n",
      "dense_183 (Dense)            (None, 64)                640064    \n",
      "_________________________________________________________________\n",
      "dense_184 (Dense)            (None, 256)               16640     \n",
      "_________________________________________________________________\n",
      "dense_185 (Dense)            (None, 6)                 1542      \n",
      "=================================================================\n",
      "Total params: 658,246\n",
      "Trainable params: 658,246\n",
      "Non-trainable params: 0\n",
      "_________________________________________________________________\n"
     ]
    }
   ],
   "source": [
    "model_tfidf = models.Sequential()\n",
    "model_tfidf.add(layers.Dense(64, activation='relu', input_shape=(10000,)))\n",
    "model_tfidf.add(layers.Dense(256, activation='relu'))\n",
    "#model_tfidf.add(Dropout(0.01))\n",
    "model_tfidf.add(layers.Dense(6, activation='softmax'))\n",
    "model_tfidf.compile(optimizer='SGD', loss='categorical_crossentropy', metrics=['accuracy'])\n",
    "model_tfidf.summary()\n"
   ]
  },
  {
   "cell_type": "code",
   "execution_count": 295,
   "metadata": {
    "scrolled": false
   },
   "outputs": [
    {
     "name": "stdout",
     "output_type": "stream",
     "text": [
      "Train on 39487 samples, validate on 9872 samples\n",
      "Epoch 1/64\n",
      "39487/39487 [==============================] - 7s 169us/step - loss: 1.2856 - accuracy: 0.4891 - val_loss: 1.0876 - val_accuracy: 0.5031\n",
      "Epoch 2/64\n",
      "39487/39487 [==============================] - 7s 174us/step - loss: 1.0665 - accuracy: 0.4912 - val_loss: 1.0372 - val_accuracy: 0.5031\n",
      "Epoch 3/64\n",
      "39487/39487 [==============================] - 9s 217us/step - loss: 1.0394 - accuracy: 0.4912 - val_loss: 1.0210 - val_accuracy: 0.5031\n",
      "Epoch 4/64\n",
      "39487/39487 [==============================] - 9s 230us/step - loss: 1.0242 - accuracy: 0.4912 - val_loss: 1.0047 - val_accuracy: 0.5031\n",
      "Epoch 5/64\n",
      "39487/39487 [==============================] - 9s 238us/step - loss: 1.0042 - accuracy: 0.4912 - val_loss: 0.9791 - val_accuracy: 0.5031\n",
      "Epoch 6/64\n",
      "39487/39487 [==============================] - 9s 240us/step - loss: 0.9713 - accuracy: 0.5095 - val_loss: 0.9392 - val_accuracy: 0.5545\n",
      "Epoch 7/64\n",
      "39487/39487 [==============================] - 10s 251us/step - loss: 0.9254 - accuracy: 0.5583 - val_loss: 0.8885 - val_accuracy: 0.5917\n",
      "Epoch 8/64\n",
      "39487/39487 [==============================] - 10s 263us/step - loss: 0.8805 - accuracy: 0.5884 - val_loss: 0.8480 - val_accuracy: 0.6106\n",
      "Epoch 9/64\n",
      "39487/39487 [==============================] - 11s 285us/step - loss: 0.8484 - accuracy: 0.6061 - val_loss: 0.8208 - val_accuracy: 0.6180\n",
      "Epoch 10/64\n",
      "39487/39487 [==============================] - 11s 269us/step - loss: 0.8265 - accuracy: 0.6148 - val_loss: 0.8026 - val_accuracy: 0.6317\n",
      "Epoch 11/64\n",
      "39487/39487 [==============================] - 11s 273us/step - loss: 0.8103 - accuracy: 0.6251 - val_loss: 0.7871 - val_accuracy: 0.6388\n",
      "Epoch 12/64\n",
      "39487/39487 [==============================] - 11s 274us/step - loss: 0.7966 - accuracy: 0.6326 - val_loss: 0.7764 - val_accuracy: 0.6448\n",
      "Epoch 13/64\n",
      "39487/39487 [==============================] - 11s 276us/step - loss: 0.7850 - accuracy: 0.6382 - val_loss: 0.7667 - val_accuracy: 0.6530\n",
      "Epoch 14/64\n",
      "39487/39487 [==============================] - 11s 279us/step - loss: 0.7747 - accuracy: 0.6461 - val_loss: 0.7566 - val_accuracy: 0.6589\n",
      "Epoch 15/64\n",
      "39487/39487 [==============================] - 15s 387us/step - loss: 0.7654 - accuracy: 0.6520 - val_loss: 0.7478 - val_accuracy: 0.6603\n",
      "Epoch 16/64\n",
      "39487/39487 [==============================] - 12s 302us/step - loss: 0.7565 - accuracy: 0.6571 - val_loss: 0.7405 - val_accuracy: 0.6626\n",
      "Epoch 17/64\n",
      "39487/39487 [==============================] - 11s 290us/step - loss: 0.7487 - accuracy: 0.6630 - val_loss: 0.7337 - val_accuracy: 0.6674\n",
      "Epoch 18/64\n",
      "39487/39487 [==============================] - 12s 304us/step - loss: 0.7409 - accuracy: 0.6654 - val_loss: 0.7289 - val_accuracy: 0.6694\n",
      "Epoch 19/64\n",
      "39487/39487 [==============================] - 12s 302us/step - loss: 0.7335 - accuracy: 0.6704 - val_loss: 0.7216 - val_accuracy: 0.6757\n",
      "Epoch 20/64\n",
      "39487/39487 [==============================] - 12s 303us/step - loss: 0.7264 - accuracy: 0.6742 - val_loss: 0.7167 - val_accuracy: 0.6777\n",
      "Epoch 21/64\n",
      "39487/39487 [==============================] - 12s 298us/step - loss: 0.7195 - accuracy: 0.6777 - val_loss: 0.7102 - val_accuracy: 0.6837\n",
      "Epoch 22/64\n",
      "39487/39487 [==============================] - 13s 322us/step - loss: 0.7132 - accuracy: 0.6804 - val_loss: 0.7050 - val_accuracy: 0.6870\n",
      "Epoch 23/64\n",
      "39487/39487 [==============================] - 13s 321us/step - loss: 0.7065 - accuracy: 0.6848 - val_loss: 0.7012 - val_accuracy: 0.6898\n",
      "Epoch 24/64\n",
      "39487/39487 [==============================] - 12s 314us/step - loss: 0.7002 - accuracy: 0.6884 - val_loss: 0.6974 - val_accuracy: 0.6920\n",
      "Epoch 25/64\n",
      "39487/39487 [==============================] - 12s 304us/step - loss: 0.6944 - accuracy: 0.6913 - val_loss: 0.6914 - val_accuracy: 0.6929\n",
      "Epoch 26/64\n",
      "39487/39487 [==============================] - 12s 309us/step - loss: 0.6885 - accuracy: 0.6956 - val_loss: 0.6912 - val_accuracy: 0.6947\n",
      "Epoch 27/64\n",
      "39487/39487 [==============================] - 12s 310us/step - loss: 0.6827 - accuracy: 0.6999 - val_loss: 0.6843 - val_accuracy: 0.6993\n",
      "Epoch 28/64\n",
      "39487/39487 [==============================] - 14s 367us/step - loss: 0.6766 - accuracy: 0.7024 - val_loss: 0.6816 - val_accuracy: 0.6980\n",
      "Epoch 29/64\n",
      "39487/39487 [==============================] - 13s 331us/step - loss: 0.6712 - accuracy: 0.7054 - val_loss: 0.6764 - val_accuracy: 0.7026\n",
      "Epoch 30/64\n",
      "39487/39487 [==============================] - 12s 306us/step - loss: 0.6660 - accuracy: 0.7080 - val_loss: 0.6785 - val_accuracy: 0.6967\n",
      "Epoch 31/64\n",
      "39487/39487 [==============================] - 13s 328us/step - loss: 0.6602 - accuracy: 0.7113 - val_loss: 0.6697 - val_accuracy: 0.7033\n",
      "Epoch 32/64\n",
      "39487/39487 [==============================] - 12s 314us/step - loss: 0.6547 - accuracy: 0.7149 - val_loss: 0.6715 - val_accuracy: 0.7011\n",
      "Epoch 33/64\n",
      "39487/39487 [==============================] - 12s 304us/step - loss: 0.6499 - accuracy: 0.7175 - val_loss: 0.6698 - val_accuracy: 0.7035\n",
      "Epoch 34/64\n",
      "39487/39487 [==============================] - 11s 290us/step - loss: 0.6450 - accuracy: 0.7209 - val_loss: 0.6631 - val_accuracy: 0.7038\n",
      "Epoch 35/64\n",
      "39487/39487 [==============================] - 12s 316us/step - loss: 0.6394 - accuracy: 0.7245 - val_loss: 0.6588 - val_accuracy: 0.7059\n",
      "Epoch 36/64\n",
      "39487/39487 [==============================] - 12s 310us/step - loss: 0.6348 - accuracy: 0.7255 - val_loss: 0.6639 - val_accuracy: 0.7095\n",
      "Epoch 37/64\n",
      "39487/39487 [==============================] - 12s 304us/step - loss: 0.6292 - accuracy: 0.7289 - val_loss: 0.6594 - val_accuracy: 0.7050\n",
      "Epoch 38/64\n",
      "39487/39487 [==============================] - 12s 297us/step - loss: 0.6251 - accuracy: 0.7302 - val_loss: 0.6663 - val_accuracy: 0.7032\n",
      "Epoch 39/64\n",
      "39487/39487 [==============================] - 12s 295us/step - loss: 0.6203 - accuracy: 0.7348 - val_loss: 0.6528 - val_accuracy: 0.7078\n",
      "Epoch 40/64\n",
      "39487/39487 [==============================] - 12s 299us/step - loss: 0.6163 - accuracy: 0.7365 - val_loss: 0.6485 - val_accuracy: 0.7115\n",
      "Epoch 41/64\n",
      "39487/39487 [==============================] - 11s 291us/step - loss: 0.6112 - accuracy: 0.7383 - val_loss: 0.6485 - val_accuracy: 0.7125\n",
      "Epoch 42/64\n",
      "39487/39487 [==============================] - 12s 306us/step - loss: 0.6070 - accuracy: 0.7414 - val_loss: 0.6489 - val_accuracy: 0.7150\n",
      "Epoch 43/64\n",
      "39487/39487 [==============================] - 13s 324us/step - loss: 0.6022 - accuracy: 0.7434 - val_loss: 0.6424 - val_accuracy: 0.7143\n",
      "Epoch 44/64\n",
      "39487/39487 [==============================] - 12s 304us/step - loss: 0.5974 - accuracy: 0.7470 - val_loss: 0.6518 - val_accuracy: 0.7091\n",
      "Epoch 45/64\n",
      "39487/39487 [==============================] - 12s 308us/step - loss: 0.5930 - accuracy: 0.7490 - val_loss: 0.6446 - val_accuracy: 0.7142\n",
      "Epoch 46/64\n",
      "39487/39487 [==============================] - 16s 393us/step - loss: 0.5894 - accuracy: 0.7504 - val_loss: 0.6388 - val_accuracy: 0.7169\n",
      "Epoch 47/64\n",
      "39487/39487 [==============================] - 12s 306us/step - loss: 0.5848 - accuracy: 0.7531 - val_loss: 0.6374 - val_accuracy: 0.7213\n",
      "Epoch 48/64\n",
      "39487/39487 [==============================] - 13s 318us/step - loss: 0.5802 - accuracy: 0.7561 - val_loss: 0.6414 - val_accuracy: 0.7163\n",
      "Epoch 49/64\n",
      "39487/39487 [==============================] - 12s 316us/step - loss: 0.5763 - accuracy: 0.7574 - val_loss: 0.6364 - val_accuracy: 0.7181\n",
      "Epoch 50/64\n",
      "39487/39487 [==============================] - 11s 289us/step - loss: 0.5716 - accuracy: 0.7611 - val_loss: 0.6357 - val_accuracy: 0.7190\n",
      "Epoch 51/64\n",
      "39487/39487 [==============================] - 12s 292us/step - loss: 0.5692 - accuracy: 0.7609 - val_loss: 0.6357 - val_accuracy: 0.7199\n",
      "Epoch 52/64\n",
      "39487/39487 [==============================] - 12s 298us/step - loss: 0.5642 - accuracy: 0.7627 - val_loss: 0.6322 - val_accuracy: 0.7216\n",
      "Epoch 53/64\n",
      "39487/39487 [==============================] - 14s 348us/step - loss: 0.5605 - accuracy: 0.7648 - val_loss: 0.6343 - val_accuracy: 0.7211\n",
      "Epoch 54/64\n",
      "39487/39487 [==============================] - 13s 318us/step - loss: 0.5572 - accuracy: 0.7664 - val_loss: 0.6341 - val_accuracy: 0.7212\n",
      "Epoch 55/64\n"
     ]
    },
    {
     "name": "stdout",
     "output_type": "stream",
     "text": [
      "39487/39487 [==============================] - 12s 295us/step - loss: 0.5522 - accuracy: 0.7712 - val_loss: 0.6406 - val_accuracy: 0.7137\n",
      "Epoch 56/64\n",
      "39487/39487 [==============================] - 12s 306us/step - loss: 0.5501 - accuracy: 0.7716 - val_loss: 0.6301 - val_accuracy: 0.7241\n",
      "Epoch 57/64\n",
      "39487/39487 [==============================] - 17s 437us/step - loss: 0.5466 - accuracy: 0.7719 - val_loss: 0.6268 - val_accuracy: 0.7250\n",
      "Epoch 58/64\n",
      "39487/39487 [==============================] - 14s 366us/step - loss: 0.5424 - accuracy: 0.7718 - val_loss: 0.6327 - val_accuracy: 0.7239\n",
      "Epoch 59/64\n",
      "39487/39487 [==============================] - 20s 498us/step - loss: 0.5381 - accuracy: 0.7769 - val_loss: 0.6297 - val_accuracy: 0.7186\n",
      "Epoch 60/64\n",
      "39487/39487 [==============================] - 15s 379us/step - loss: 0.5356 - accuracy: 0.7766 - val_loss: 0.6375 - val_accuracy: 0.7231\n",
      "Epoch 61/64\n",
      "39487/39487 [==============================] - 15s 391us/step - loss: 0.5296 - accuracy: 0.7796 - val_loss: 0.6237 - val_accuracy: 0.7275\n",
      "Epoch 62/64\n",
      "39487/39487 [==============================] - 14s 345us/step - loss: 0.5269 - accuracy: 0.7819 - val_loss: 0.6352 - val_accuracy: 0.7231\n",
      "Epoch 63/64\n",
      "39487/39487 [==============================] - 14s 355us/step - loss: 0.5229 - accuracy: 0.7832 - val_loss: 0.6336 - val_accuracy: 0.7183\n",
      "Epoch 64/64\n",
      "39487/39487 [==============================] - 11s 279us/step - loss: 0.5205 - accuracy: 0.7833 - val_loss: 0.6257 - val_accuracy: 0.7316\n"
     ]
    }
   ],
   "source": [
    "history_tfidf = model_tfidf.fit(X_train, y_train, epochs=64, batch_size=64, validation_split=0.2)"
   ]
  },
  {
   "cell_type": "code",
   "execution_count": 296,
   "metadata": {},
   "outputs": [
    {
     "data": {
      "image/png": "[encoded data removed]",
      "text/plain": [
       "<Figure size 432x288 with 1 Axes>"
      ]
     },
     "metadata": {
      "needs_background": "light"
     },
     "output_type": "display_data"
    }
   ],
   "source": [
    "history_dict = history_tfidf.history\n",
    "train_loss = history_dict['loss']\n",
    "val_loss = history_dict['val_loss']\n",
    "\n",
    "epochs = range(1, len(train_loss) + 1)\n",
    "plt.title('Training and validation loss')\n",
    "plt.plot(epochs, train_loss, label='Training loss')\n",
    "plt.plot(epochs, val_loss, label='Validation loss')\n",
    "plt.xlabel('Epoch')\n",
    "plt.ylabel('Loss')\n",
    "plt.legend()\n",
    "plt.grid()\n",
    "plt.show()"
   ]
  },
  {
   "cell_type": "code",
   "execution_count": 297,
   "metadata": {},
   "outputs": [
    {
     "name": "stdout",
     "output_type": "stream",
     "text": [
      "12340/12340 [==============================] - 2s 180us/step\n",
      "Test score: 0.6407678432364131\n",
      "Test accuracy: 0.7252026200294495\n"
     ]
    }
   ],
   "source": [
    "#xtest_tfidf = tfidf_vectorizer.fit(rawData['Lyric'])\n",
    "\n",
    "#X_test = xtest_tfidf.transform(test['Lyric'])\n",
    "\n",
    "\n",
    "#Y_test = vectorize_labels(test['Genre'])\n",
    "\n",
    "# compute loss and accuracy on test data\n",
    "score = model_tfidf.evaluate(X_test, y_test, verbose=1)\n",
    "print(\"Test score:\", score[0])\n",
    "print(\"Test accuracy:\", score[1])"
   ]
  },
  {
   "cell_type": "code",
   "execution_count": 287,
   "metadata": {},
   "outputs": [
    {
     "data": {
      "image/png": "[encoded data removed]",
      "text/plain": [
       "<Figure size 432x288 with 1 Axes>"
      ]
     },
     "metadata": {
      "needs_background": "light"
     },
     "output_type": "display_data"
    }
   ],
   "source": [
    "history_dict = history_tfidf.history\n",
    "train_acc = history_dict['accuracy']\n",
    "val_acc = history_dict['val_accuracy']\n",
    "\n",
    "epochs = range(1, len(train_loss) + 1)\n",
    "plt.title('Training and validation accuracy')\n",
    "plt.plot(epochs, train_acc, label='Training accuracy')\n",
    "plt.plot(epochs, val_acc, label='Validation accuracy')\n",
    "plt.xlabel('Epoch')\n",
    "plt.ylabel('Accuracy')\n",
    "plt.legend()\n",
    "plt.grid()\n",
    "plt.show()"
   ]
  },
  {
   "cell_type": "markdown",
   "metadata": {
    "scrolled": true
   },
   "source": [
    "#Long short-term memory neural network"
   ]
  },
  {
   "cell_type": "code",
   "execution_count": null,
   "metadata": {},
   "outputs": [],
   "source": []
  },
  {
   "cell_type": "code",
   "execution_count": 140,
   "metadata": {},
   "outputs": [],
   "source": [
    "\n",
    "import numpy as np\n",
    "from keras import models\n",
    "from keras import layers\n",
    "from tensorflow.keras.datasets import imdb\n",
    "from keras.models import Sequential\n",
    "from keras.layers import Dense\n",
    "from keras.layers import LSTM\n",
    "from keras.layers import Embedding\n",
    "from keras.layers import Flatten\n",
    "from keras.preprocessing import sequence\n",
    "\n",
    "\n",
    "# number of most frequent words to consider\n",
    "num_words = 10000\n",
    "\n",
    "# maximum length of reviews (only the first so many words are considered)\n",
    "max_len = 500\n",
    "\n",
    "# embedding dimensionality\n",
    "emb_dim = 32\n",
    "\n",
    "\n"
   ]
  },
  {
   "cell_type": "code",
   "execution_count": 277,
   "metadata": {},
   "outputs": [],
   "source": [
    "tokenizer = Tokenizer(num_words=num_words, filters='!\"#$%&()*+,-./:;<=>?@[\\\\]^_`{|}~\\t\\n')\n",
    "tokenizer.fit_on_texts(rawData['Lyric'])\n",
    "sequences = tokenizer.texts_to_sequences(rawData['Lyric'])\n",
    "X_clean = sequence.pad_sequences(sequences,maxlen=max_len)\n",
    "\n",
    "Y_clean = vectorize_labels(rawData['Genre'])\n",
    "\n",
    "\n",
    "X_train, X_test, y_train, y_test = train_test_split(X_clean, Y_clean, test_size=0.2, random_state=0, shuffle=True)"
   ]
  },
  {
   "cell_type": "code",
   "execution_count": 278,
   "metadata": {
    "scrolled": true
   },
   "outputs": [
    {
     "name": "stdout",
     "output_type": "stream",
     "text": [
      "Model: \"sequential_57\"\n",
      "_________________________________________________________________\n",
      "Layer (type)                 Output Shape              Param #   \n",
      "=================================================================\n",
      "embedding_4 (Embedding)      (None, 500, 32)           320000    \n",
      "_________________________________________________________________\n",
      "lstm_4 (LSTM)                (None, 16)                3136      \n",
      "_________________________________________________________________\n",
      "dense_173 (Dense)            (None, 6)                 102       \n",
      "=================================================================\n",
      "Total params: 323,238\n",
      "Trainable params: 323,238\n",
      "Non-trainable params: 0\n",
      "_________________________________________________________________\n"
     ]
    },
    {
     "name": "stderr",
     "output_type": "stream",
     "text": [
      "G:\\Anaconda3\\lib\\site-packages\\tensorflow_core\\python\\framework\\indexed_slices.py:433: UserWarning: Converting sparse IndexedSlices to a dense Tensor of unknown shape. This may consume a large amount of memory.\n",
      "  \"Converting sparse IndexedSlices to a dense Tensor of unknown shape. \"\n"
     ]
    },
    {
     "name": "stdout",
     "output_type": "stream",
     "text": [
      "Train on 39487 samples, validate on 9872 samples\n",
      "Epoch 1/15\n",
      "39487/39487 [==============================] - 373s 9ms/step - loss: 1.1103 - acc: 0.4807 - val_loss: 1.0164 - val_acc: 0.5031\n",
      "Epoch 2/15\n",
      "39487/39487 [==============================] - 377s 10ms/step - loss: 0.9898 - acc: 0.5126 - val_loss: 0.9242 - val_acc: 0.5598\n",
      "Epoch 3/15\n",
      "39487/39487 [==============================] - 367s 9ms/step - loss: 0.8928 - acc: 0.5803 - val_loss: 0.8381 - val_acc: 0.6124\n",
      "Epoch 4/15\n",
      "39487/39487 [==============================] - 372s 9ms/step - loss: 0.8426 - acc: 0.6120 - val_loss: 0.8089 - val_acc: 0.6278\n",
      "Epoch 5/15\n",
      "39487/39487 [==============================] - 372s 9ms/step - loss: 0.7990 - acc: 0.6400 - val_loss: 0.7766 - val_acc: 0.6518\n",
      "Epoch 6/15\n",
      "39487/39487 [==============================] - 23775s 602ms/step - loss: 0.7523 - acc: 0.6742 - val_loss: 0.7249 - val_acc: 0.6889\n",
      "Epoch 7/15\n",
      "39487/39487 [==============================] - 406s 10ms/step - loss: 0.7155 - acc: 0.6928 - val_loss: 0.7109 - val_acc: 0.6942\n",
      "Epoch 8/15\n",
      "39487/39487 [==============================] - 383s 10ms/step - loss: 0.6883 - acc: 0.7089 - val_loss: 0.6866 - val_acc: 0.7119\n",
      "Epoch 9/15\n",
      "39487/39487 [==============================] - 388s 10ms/step - loss: 0.6591 - acc: 0.7225 - val_loss: 0.6909 - val_acc: 0.7013\n",
      "Epoch 10/15\n",
      "39487/39487 [==============================] - 383s 10ms/step - loss: 0.6332 - acc: 0.7361 - val_loss: 0.6592 - val_acc: 0.7226\n",
      "Epoch 11/15\n",
      "39487/39487 [==============================] - 396s 10ms/step - loss: 0.6069 - acc: 0.7477 - val_loss: 0.6476 - val_acc: 0.7281\n",
      "Epoch 12/15\n",
      "39487/39487 [==============================] - 387s 10ms/step - loss: 0.5860 - acc: 0.7567 - val_loss: 0.6419 - val_acc: 0.7328\n",
      "Epoch 13/15\n",
      "39487/39487 [==============================] - 431s 11ms/step - loss: 0.5651 - acc: 0.7677 - val_loss: 0.6402 - val_acc: 0.7351\n",
      "Epoch 14/15\n",
      "39487/39487 [==============================] - 397s 10ms/step - loss: 0.5503 - acc: 0.7786 - val_loss: 0.6382 - val_acc: 0.7406\n",
      "Epoch 15/15\n",
      "39487/39487 [==============================] - 386s 10ms/step - loss: 0.5314 - acc: 0.7859 - val_loss: 0.6405 - val_acc: 0.7439\n"
     ]
    }
   ],
   "source": [
    "model = Sequential()\n",
    "model.add(Embedding(num_words, emb_dim, input_length=max_len))\n",
    "model.add(LSTM(16, recurrent_dropout=0.2, dropout=0.2))\n",
    "model.add(Dense(6, activation='softmax'))\n",
    "model.summary() \n",
    "\n",
    "model.compile(optimizer='rmsprop', loss='categorical_crossentropy', metrics=['acc'])\n",
    "history = model.fit(X_train,y_train, epochs=15, batch_size=128, validation_split=0.2)\n",
    "\n"
   ]
  },
  {
   "cell_type": "code",
   "execution_count": 279,
   "metadata": {},
   "outputs": [
    {
     "data": {
      "image/png": "[encoded data removed]",
      "text/plain": [
       "<Figure size 432x288 with 1 Axes>"
      ]
     },
     "metadata": {
      "needs_background": "light"
     },
     "output_type": "display_data"
    }
   ],
   "source": [
    "history_dict = history.history\n",
    "train_loss = history_dict['loss']\n",
    "val_loss = history_dict['val_loss']\n",
    "\n",
    "epochs = range(1, len(train_loss) + 1)\n",
    "plt.title('Training and validation loss')\n",
    "plt.plot(epochs, train_loss, label='Training loss')\n",
    "plt.plot(epochs, val_loss, label='Validation loss')\n",
    "plt.xlabel('Epoch')\n",
    "plt.ylabel('Loss')\n",
    "plt.legend()\n",
    "plt.grid()\n",
    "plt.show()"
   ]
  },
  {
   "cell_type": "code",
   "execution_count": 280,
   "metadata": {},
   "outputs": [
    {
     "name": "stdout",
     "output_type": "stream",
     "text": [
      "12340/12340 [==============================] - 77s 6ms/step\n",
      "Test score: 0.6497974071935472\n",
      "Test accuracy: 0.740275502204895\n"
     ]
    }
   ],
   "source": [
    "# compute loss and accuracy on test data\n",
    "score = model.evaluate(X_test, y_test, verbose=1)\n",
    "print(\"Test score:\", score[0])\n",
    "print(\"Test accuracy:\", score[1])"
   ]
  },
  {
   "cell_type": "code",
   "execution_count": 145,
   "metadata": {},
   "outputs": [
    {
     "data": {
      "image/png": "[encoded data removed]",
      "text/plain": [
       "<Figure size 432x288 with 1 Axes>"
      ]
     },
     "metadata": {
      "needs_background": "light"
     },
     "output_type": "display_data"
    }
   ],
   "source": [
    "history_dict = history.history\n",
    "train_acc = history_dict['acc']\n",
    "val_acc = history_dict['val_acc']\n",
    "\n",
    "epochs = range(1, len(train_loss) + 1)\n",
    "plt.title('Training and validation accuracy')\n",
    "plt.plot(epochs, train_acc, label='Training accuracy')\n",
    "plt.plot(epochs, val_acc, label='Validation accuracy')\n",
    "plt.xlabel('Epoch')\n",
    "plt.ylabel('Accuracy')\n",
    "plt.legend()\n",
    "plt.grid()\n",
    "plt.show()"
   ]
  },
  {
   "cell_type": "code",
   "execution_count": null,
   "metadata": {},
   "outputs": [],
   "source": []
  }
 ],
 "metadata": {
  "kernelspec": {
   "display_name": "Python 3",
   "language": "python",
   "name": "python3"
  },
  "language_info": {
   "codemirror_mode": {
    "name": "ipython",
    "version": 3
   },
   "file_extension": ".py",
   "mimetype": "text/x-python",
   "name": "python",
   "nbconvert_exporter": "python",
   "pygments_lexer": "ipython3",
   "version": "3.7.4"
  }
 },
 "nbformat": 4,
 "nbformat_minor": 4
}
