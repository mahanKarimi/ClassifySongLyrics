{
 "cells": [
  {
   "cell_type": "code",
   "execution_count": 2,
   "metadata": {},
   "outputs": [],
   "source": [
    "# load dataset \n",
    "import pandas as pd \n",
    "from sklearn.model_selection import train_test_split\n",
    "pathLyrics = 'lyrics-data.csv'\n",
    "pathArtists = 'artists-data.csv'\n",
    "\n",
    "\n",
    "dataframe = pd.read_csv(pathLyrics)\n",
    "dataframeArtists = pd.read_csv(pathArtists)"
   ]
  },
  {
   "cell_type": "code",
   "execution_count": 3,
   "metadata": {},
   "outputs": [],
   "source": [
    "# filter Idiom for olny english lyrics\n",
    "dataframe = dataframe[dataframe['Idiom'] == 'ENGLISH']"
   ]
  },
  {
   "cell_type": "code",
   "execution_count": 4,
   "metadata": {},
   "outputs": [],
   "source": [
    "# normalize lycris to lowercase  \n",
    "dataframe['Lyric'] = dataframe['Lyric'].apply(lambda lyric: lyric.lower())\n",
    "\n",
    "# Zwei csv werden gemerged\n",
    "mergeData=pd.merge(dataframe, dataframeArtists, how='inner', left_on='ALink', right_on='Link')\n",
    "\n",
    "#Filtern der Daten. Nur Lyric und Genre für das Dataset notwendig\n",
    "rawData= mergeData[['Lyric', 'Genre']]\n",
    "\n",
    "# Speichern der csv zum Anschauen\n",
    "# dataset.to_csv('dataset.csv') "
   ]
  },
  {
   "cell_type": "code",
   "execution_count": 5,
   "metadata": {},
   "outputs": [],
   "source": [
    "# Es werden die Spalten gefiltert, die Noten enthalten\n",
    "rawData = rawData[~rawData['Lyric'].str.contains('----')] \n",
    "\n",
    "#Filtert alle Zeichen bis auf Buchstaben und Zahlen heraus\n",
    "rawData['Lyric']=rawData['Lyric'].str.replace('[^a-zA-Z0-9]', ' ')\n"
   ]
  },
  {
   "cell_type": "code",
   "execution_count": 6,
   "metadata": {},
   "outputs": [],
   "source": [
    "train, test = train_test_split(rawData, test_size=0.2)\n",
    "\n",
    "#Zu Testzwecken kann man die große beschränken\n",
    "#train = train.head(10)\n",
    "#test = test.head(10)"
   ]
  },
  {
   "cell_type": "code",
   "execution_count": 7,
   "metadata": {},
   "outputs": [
    {
     "name": "stderr",
     "output_type": "stream",
     "text": [
      "Using TensorFlow backend.\n"
     ]
    }
   ],
   "source": [
    "from sklearn.feature_extraction.text import CountVectorizer\n",
    "from keras.preprocessing.text import Tokenizer\n",
    "from keras.utils import to_categorical\n",
    "\n",
    "def vectorize_sequences (dataframe, dimensions=10000):\n",
    "    vect = CountVectorizer()\n",
    "    X = vect.fit_transform(dataframe)\n",
    "    tokenizer = Tokenizer(num_words=dimensions)\n",
    "    tokenizer.fit_on_texts(dataframe)\n",
    "    sequences = tokenizer.texts_to_sequences(dataframe)\n",
    "    one_hot_results = tokenizer.texts_to_matrix(dataframe, mode='binary')\n",
    "    word_index = tokenizer.word_index\n",
    "    print('Found %s unique tokens.' % len(word_index))\n",
    "\n",
    "    return one_hot_results\n",
    "    \n",
    "def vectorize_labels(labels):\n",
    "    return to_categorical(labels, 6)\n"
   ]
  },
  {
   "cell_type": "code",
   "execution_count": 8,
   "metadata": {},
   "outputs": [
    {
     "name": "stdout",
     "output_type": "stream",
     "text": [
      "Found 106642 unique tokens.\n",
      "Found 8 unique tokens.\n"
     ]
    }
   ],
   "source": [
    "X_train = vectorize_sequences(train['Lyric'])\n",
    "y_train = vectorize_sequences(train['Genre'], 6) "
   ]
  },
  {
   "cell_type": "code",
   "execution_count": 9,
   "metadata": {},
   "outputs": [
    {
     "name": "stdout",
     "output_type": "stream",
     "text": [
      "Model: \"sequential_1\"\n",
      "_________________________________________________________________\n",
      "Layer (type)                 Output Shape              Param #   \n",
      "=================================================================\n",
      "dense_1 (Dense)              (None, 16)                160016    \n",
      "_________________________________________________________________\n",
      "dense_2 (Dense)              (None, 16)                272       \n",
      "_________________________________________________________________\n",
      "dense_3 (Dense)              (None, 6)                 102       \n",
      "=================================================================\n",
      "Total params: 160,390\n",
      "Trainable params: 160,390\n",
      "Non-trainable params: 0\n",
      "_________________________________________________________________\n"
     ]
    }
   ],
   "source": [
    "from keras import models\n",
    "from keras import layers\n",
    "\n",
    "model = models.Sequential()\n",
    "model.add(layers.Dense(16, activation='relu', input_shape=(10000,)))\n",
    "model.add(layers.Dense(16, activation='relu'))\n",
    "model.add(layers.Dense(6, activation='softmax'))\n",
    "model.compile(optimizer='sgd', loss='binary_crossentropy', metrics=['accuracy'])\n",
    "model.summary()"
   ]
  },
  {
   "cell_type": "code",
   "execution_count": 10,
   "metadata": {},
   "outputs": [
    {
     "name": "stdout",
     "output_type": "stream",
     "text": [
      "Train on 79310 samples, validate on 19828 samples\n",
      "Epoch 1/50\n",
      "79310/79310 [==============================] - 26s 332us/step - loss: 0.4019 - accuracy: 0.8061 - val_loss: 0.3520 - val_accuracy: 0.8165\n",
      "Epoch 2/50\n",
      "79310/79310 [==============================] - 37s 466us/step - loss: 0.3259 - accuracy: 0.8346 - val_loss: 0.3069 - val_accuracy: 0.8440\n",
      "Epoch 3/50\n",
      "79310/79310 [==============================] - 38s 475us/step - loss: 0.2986 - accuracy: 0.8468 - val_loss: 0.2938 - val_accuracy: 0.8496\n",
      "Epoch 4/50\n",
      "79310/79310 [==============================] - 39s 497us/step - loss: 0.2900 - accuracy: 0.8506 - val_loss: 0.2890 - val_accuracy: 0.8516\n",
      "Epoch 5/50\n",
      "79310/79310 [==============================] - 42s 527us/step - loss: 0.2855 - accuracy: 0.8524 - val_loss: 0.2882 - val_accuracy: 0.8508\n",
      "Epoch 6/50\n",
      "79310/79310 [==============================] - 36s 457us/step - loss: 0.2821 - accuracy: 0.8539 - val_loss: 0.2832 - val_accuracy: 0.8546\n",
      "Epoch 7/50\n",
      "79310/79310 [==============================] - 33s 417us/step - loss: 0.2794 - accuracy: 0.8550 - val_loss: 0.2819 - val_accuracy: 0.8553\n",
      "Epoch 8/50\n",
      "79310/79310 [==============================] - 38s 476us/step - loss: 0.2771 - accuracy: 0.8559 - val_loss: 0.2817 - val_accuracy: 0.8555\n",
      "Epoch 9/50\n",
      "79310/79310 [==============================] - 27s 342us/step - loss: 0.2751 - accuracy: 0.8568 - val_loss: 0.2782 - val_accuracy: 0.8569\n",
      "Epoch 10/50\n",
      "79310/79310 [==============================] - 33s 416us/step - loss: 0.2733 - accuracy: 0.8580 - val_loss: 0.2776 - val_accuracy: 0.8566\n",
      "Epoch 11/50\n",
      "79310/79310 [==============================] - 30s 380us/step - loss: 0.2716 - accuracy: 0.8587 - val_loss: 0.2784 - val_accuracy: 0.8550\n",
      "Epoch 12/50\n",
      "79310/79310 [==============================] - 32s 400us/step - loss: 0.2702 - accuracy: 0.8593 - val_loss: 0.2759 - val_accuracy: 0.8568\n",
      "Epoch 13/50\n",
      "79310/79310 [==============================] - 32s 403us/step - loss: 0.2687 - accuracy: 0.8601 - val_loss: 0.2744 - val_accuracy: 0.8585\n",
      "Epoch 14/50\n",
      "79310/79310 [==============================] - 31s 389us/step - loss: 0.2674 - accuracy: 0.8606 - val_loss: 0.2754 - val_accuracy: 0.8579\n",
      "Epoch 15/50\n",
      "79310/79310 [==============================] - 28s 352us/step - loss: 0.2661 - accuracy: 0.8612 - val_loss: 0.2747 - val_accuracy: 0.8582\n",
      "Epoch 16/50\n",
      "79310/79310 [==============================] - 32s 398us/step - loss: 0.2649 - accuracy: 0.8616 - val_loss: 0.2728 - val_accuracy: 0.8587\n",
      "Epoch 17/50\n",
      "79310/79310 [==============================] - 31s 391us/step - loss: 0.2637 - accuracy: 0.8620 - val_loss: 0.2722 - val_accuracy: 0.8586\n",
      "Epoch 18/50\n",
      "79310/79310 [==============================] - 34s 423us/step - loss: 0.2627 - accuracy: 0.8627 - val_loss: 0.2769 - val_accuracy: 0.8579\n",
      "Epoch 19/50\n",
      "79310/79310 [==============================] - 37s 467us/step - loss: 0.2617 - accuracy: 0.8629 - val_loss: 0.2714 - val_accuracy: 0.8589\n",
      "Epoch 20/50\n",
      "79310/79310 [==============================] - 36s 459us/step - loss: 0.2606 - accuracy: 0.8632 - val_loss: 0.2744 - val_accuracy: 0.8585\n",
      "Epoch 21/50\n",
      "79310/79310 [==============================] - 34s 427us/step - loss: 0.2597 - accuracy: 0.8636 - val_loss: 0.2712 - val_accuracy: 0.8592\n",
      "Epoch 22/50\n",
      "79310/79310 [==============================] - 32s 403us/step - loss: 0.2586 - accuracy: 0.8641 - val_loss: 0.2726 - val_accuracy: 0.8577\n",
      "Epoch 23/50\n",
      "79310/79310 [==============================] - 31s 387us/step - loss: 0.2578 - accuracy: 0.8644 - val_loss: 0.2713 - val_accuracy: 0.8591\n",
      "Epoch 24/50\n",
      "79310/79310 [==============================] - 34s 431us/step - loss: 0.2569 - accuracy: 0.8649 - val_loss: 0.2701 - val_accuracy: 0.8593\n",
      "Epoch 25/50\n",
      "79310/79310 [==============================] - 33s 421us/step - loss: 0.2559 - accuracy: 0.8654 - val_loss: 0.2779 - val_accuracy: 0.8578\n",
      "Epoch 26/50\n",
      "79310/79310 [==============================] - 35s 446us/step - loss: 0.2551 - accuracy: 0.8657 - val_loss: 0.2695 - val_accuracy: 0.8591\n",
      "Epoch 27/50\n",
      "79310/79310 [==============================] - 35s 443us/step - loss: 0.2542 - accuracy: 0.8659 - val_loss: 0.2696 - val_accuracy: 0.8595\n",
      "Epoch 28/50\n",
      "79310/79310 [==============================] - 24s 303us/step - loss: 0.2534 - accuracy: 0.8663 - val_loss: 0.2692 - val_accuracy: 0.8596\n",
      "Epoch 29/50\n",
      "79310/79310 [==============================] - 28s 353us/step - loss: 0.2525 - accuracy: 0.8667 - val_loss: 0.2722 - val_accuracy: 0.8590\n",
      "Epoch 30/50\n",
      "79310/79310 [==============================] - 30s 377us/step - loss: 0.2518 - accuracy: 0.8669 - val_loss: 0.2698 - val_accuracy: 0.8584\n",
      "Epoch 31/50\n",
      "79310/79310 [==============================] - 28s 356us/step - loss: 0.2510 - accuracy: 0.8675 - val_loss: 0.2694 - val_accuracy: 0.8598\n",
      "Epoch 32/50\n",
      "79310/79310 [==============================] - 29s 360us/step - loss: 0.2501 - accuracy: 0.8680 - val_loss: 0.2796 - val_accuracy: 0.8516\n",
      "Epoch 33/50\n",
      "79310/79310 [==============================] - 30s 383us/step - loss: 0.2493 - accuracy: 0.8683 - val_loss: 0.2700 - val_accuracy: 0.8579\n",
      "Epoch 34/50\n",
      "79310/79310 [==============================] - 32s 403us/step - loss: 0.2486 - accuracy: 0.8684 - val_loss: 0.2691 - val_accuracy: 0.8593\n",
      "Epoch 35/50\n",
      "79310/79310 [==============================] - 28s 353us/step - loss: 0.2478 - accuracy: 0.8690 - val_loss: 0.2685 - val_accuracy: 0.8595\n",
      "Epoch 36/50\n",
      "79310/79310 [==============================] - 31s 388us/step - loss: 0.2470 - accuracy: 0.8693 - val_loss: 0.2721 - val_accuracy: 0.8603\n",
      "Epoch 37/50\n",
      "79310/79310 [==============================] - 28s 351us/step - loss: 0.2463 - accuracy: 0.8698 - val_loss: 0.2736 - val_accuracy: 0.8594\n",
      "Epoch 38/50\n",
      "79310/79310 [==============================] - 28s 352us/step - loss: 0.2456 - accuracy: 0.8699 - val_loss: 0.2843 - val_accuracy: 0.8582\n",
      "Epoch 39/50\n",
      "79310/79310 [==============================] - 30s 373us/step - loss: 0.2449 - accuracy: 0.8703 - val_loss: 0.2686 - val_accuracy: 0.8594\n",
      "Epoch 40/50\n",
      "79310/79310 [==============================] - 30s 382us/step - loss: 0.2440 - accuracy: 0.8707 - val_loss: 0.2712 - val_accuracy: 0.8576\n",
      "Epoch 41/50\n",
      "79310/79310 [==============================] - 33s 411us/step - loss: 0.2433 - accuracy: 0.8709 - val_loss: 0.2711 - val_accuracy: 0.8573\n",
      "Epoch 42/50\n",
      "79310/79310 [==============================] - 34s 433us/step - loss: 0.2426 - accuracy: 0.8715 - val_loss: 0.2704 - val_accuracy: 0.8608\n",
      "Epoch 43/50\n",
      "79310/79310 [==============================] - 35s 444us/step - loss: 0.2419 - accuracy: 0.8717 - val_loss: 0.2756 - val_accuracy: 0.8552\n",
      "Epoch 44/50\n",
      "79310/79310 [==============================] - 38s 477us/step - loss: 0.2413 - accuracy: 0.8719 - val_loss: 0.2691 - val_accuracy: 0.8606\n",
      "Epoch 45/50\n",
      "79310/79310 [==============================] - 36s 452us/step - loss: 0.2405 - accuracy: 0.8725 - val_loss: 0.2699 - val_accuracy: 0.8598\n",
      "Epoch 46/50\n",
      "79310/79310 [==============================] - 41s 512us/step - loss: 0.2400 - accuracy: 0.8725 - val_loss: 0.2706 - val_accuracy: 0.8607\n",
      "Epoch 47/50\n",
      "79310/79310 [==============================] - 38s 481us/step - loss: 0.2391 - accuracy: 0.8730 - val_loss: 0.2702 - val_accuracy: 0.8587\n",
      "Epoch 48/50\n",
      "79310/79310 [==============================] - 37s 470us/step - loss: 0.2385 - accuracy: 0.8732 - val_loss: 0.2906 - val_accuracy: 0.8458\n",
      "Epoch 49/50\n",
      "79310/79310 [==============================] - 42s 523us/step - loss: 0.2380 - accuracy: 0.8734 - val_loss: 0.2764 - val_accuracy: 0.8546\n",
      "Epoch 50/50\n",
      "79310/79310 [==============================] - 36s 451us/step - loss: 0.2373 - accuracy: 0.8737 - val_loss: 0.2709 - val_accuracy: 0.8584\n"
     ]
    }
   ],
   "source": [
    "history = model.fit(X_train, y_train, epochs=50, batch_size=100, validation_split=0.2)"
   ]
  },
  {
   "cell_type": "code",
   "execution_count": 13,
   "metadata": {},
   "outputs": [
    {
     "data": {
      "image/png": "[encoded data removed]",
      "text/plain": [
       "<Figure size 432x288 with 1 Axes>"
      ]
     },
     "metadata": {
      "needs_background": "light"
     },
     "output_type": "display_data"
    }
   ],
   "source": [
    "import matplotlib.pyplot as plt\n",
    "\n",
    "history_dict = history.history\n",
    "train_loss = history_dict['loss']\n",
    "val_loss = history_dict['val_loss']\n",
    "\n",
    "epochs = range(1, len(train_loss) + 1)\n",
    "plt.title('Training and validation loss')\n",
    "plt.plot(epochs, train_loss, label='Training loss')\n",
    "plt.plot(epochs, val_loss, label='Validation loss')\n",
    "plt.xlabel('Epoch')\n",
    "plt.ylabel('Loss')\n",
    "plt.legend()\n",
    "plt.grid()\n",
    "plt.show()"
   ]
  },
  {
   "cell_type": "code",
   "execution_count": 14,
   "metadata": {},
   "outputs": [
    {
     "name": "stdout",
     "output_type": "stream",
     "text": [
      "Found 60271 unique tokens.\n",
      "Found 8 unique tokens.\n",
      "24785/24785 [==============================] - 4s 144us/step\n",
      "Test score: 0.4293169351361898\n",
      "Test accuracy: 0.8003900051116943\n"
     ]
    }
   ],
   "source": [
    "X_test = vectorize_sequences(test['Lyric'])\n",
    "Y_test = vectorize_sequences(test['Genre'], 6) \n",
    "\n",
    "\n",
    "# compute loss and accuracy on test data\n",
    "score = model.evaluate(X_test, Y_test, verbose=1)\n",
    "print(\"Test score:\", score[0])\n",
    "print(\"Test accuracy:\", score[1])"
   ]
  },
  {
   "cell_type": "code",
   "execution_count": null,
   "metadata": {},
   "outputs": [],
   "source": []
  },
  {
   "cell_type": "code",
   "execution_count": null,
   "metadata": {},
   "outputs": [],
   "source": []
  }
 ],
 "metadata": {
  "kernelspec": {
   "display_name": "Python 3",
   "language": "python",
   "name": "python3"
  },
  "language_info": {
   "codemirror_mode": {
    "name": "ipython",
    "version": 3
   },
   "file_extension": ".py",
   "mimetype": "text/x-python",
   "name": "python",
   "nbconvert_exporter": "python",
   "pygments_lexer": "ipython3",
   "version": "3.7.4"
  }
 },
 "nbformat": 4,
 "nbformat_minor": 4
}
