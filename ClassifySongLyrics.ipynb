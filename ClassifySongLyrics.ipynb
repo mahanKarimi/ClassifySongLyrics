{
 "cells": [
  {
   "cell_type": "code",
   "execution_count": 1,
   "metadata": {},
   "outputs": [],
   "source": [
    "# load dataset \n",
    "import pandas as pd \n",
    "from sklearn.model_selection import train_test_split\n",
    "pathLyrics = 'lyrics-data.csv'\n",
    "pathArtists = 'artists-data.csv'\n",
    "\n",
    "\n",
    "dataframe = pd.read_csv(pathLyrics)\n",
    "dataframeArtists = pd.read_csv(pathArtists)"
   ]
  },
  {
   "cell_type": "code",
   "execution_count": 2,
   "metadata": {},
   "outputs": [],
   "source": [
    "# filter Idiom for olny english lyrics\n",
    "dataframe = dataframe[dataframe['Idiom'] == 'ENGLISH']"
   ]
  },
  {
   "cell_type": "code",
   "execution_count": 3,
   "metadata": {},
   "outputs": [],
   "source": [
    "# normalize lycris to lowercase  \n",
    "dataframe['Lyric'] = dataframe['Lyric'].apply(lambda lyric: lyric.lower())\n",
    "\n",
    "# Zwei csv werden gemerged\n",
    "mergeData=pd.merge(dataframe, dataframeArtists, how='inner', left_on='ALink', right_on='Link')\n",
    "\n",
    "#Filtern der Daten. Nur Lyric und Genre für das Dataset notwendig\n",
    "rawData= mergeData[['Lyric', 'Genre']]\n",
    "\n",
    "# Speichern der csv zum Anschauen\n",
    "# dataset.to_csv('dataset.csv') "
   ]
  },
  {
   "cell_type": "code",
   "execution_count": 4,
   "metadata": {},
   "outputs": [],
   "source": [
    "# Es werden die Spalten gefiltert, die Noten enthalten\n",
    "rawData = rawData[~rawData['Lyric'].str.contains('----')] \n",
    "\n",
    "#Filtert alle Zeichen bis auf Buchstaben und Zahlen heraus\n",
    "rawData['Lyric']=rawData['Lyric'].str.replace('[^a-zA-Z0-9]', ' ')\n"
   ]
  },
  {
   "cell_type": "code",
   "execution_count": 5,
   "metadata": {},
   "outputs": [],
   "source": [
    "train, test = train_test_split(rawData, test_size=0.2)\n",
    "\n",
    "#Zu Testzwecken kann man die große beschränken\n",
    "#train = train.head(10)\n",
    "#test = test.head(10)"
   ]
  },
  {
   "cell_type": "code",
   "execution_count": 11,
   "metadata": {},
   "outputs": [],
   "source": [
    "from sklearn.feature_extraction.text import CountVectorizer\n",
    "from keras.preprocessing.text import Tokenizer\n",
    "from keras.utils import to_categorical\n",
    "\n",
    "def vectorize_sequences (dataframe, dimensions=10000):\n",
    "    vect = CountVectorizer()\n",
    "    X = vect.fit_transform(dataframe)\n",
    "    tokenizer = Tokenizer(num_words=dimensions)\n",
    "    tokenizer.fit_on_texts(dataframe)\n",
    "    sequences = tokenizer.texts_to_sequences(dataframe)\n",
    "    one_hot_results = tokenizer.texts_to_matrix(dataframe, mode='binary')\n",
    "    word_index = tokenizer.word_index\n",
    "    print('Found %s unique tokens.' % len(word_index))\n",
    "\n",
    "    return one_hot_results\n",
    "    \n",
    "def vectorize_labels(labels):\n",
    "    return to_categorical(labels, 6)\n"
   ]
  },
  {
   "cell_type": "code",
   "execution_count": 12,
   "metadata": {},
   "outputs": [
    {
     "name": "stdout",
     "output_type": "stream",
     "text": [
      "Found 107659 unique tokens.\n",
      "Found 8 unique tokens.\n"
     ]
    }
   ],
   "source": [
    "X_train = vectorize_sequences(train['Lyric'])\n",
    "\n",
    "#y_train = vectorize_labels(train['Genre'])\n",
    "y_train = vectorize_sequences(train['Genre'], 6) "
   ]
  },
  {
   "cell_type": "code",
   "execution_count": 14,
   "metadata": {},
   "outputs": [
    {
     "name": "stdout",
     "output_type": "stream",
     "text": [
      "Model: \"sequential_1\"\n",
      "_________________________________________________________________\n",
      "Layer (type)                 Output Shape              Param #   \n",
      "=================================================================\n",
      "dense_1 (Dense)              (None, 16)                160016    \n",
      "_________________________________________________________________\n",
      "dense_2 (Dense)              (None, 16)                272       \n",
      "_________________________________________________________________\n",
      "dense_3 (Dense)              (None, 6)                 102       \n",
      "=================================================================\n",
      "Total params: 160,390\n",
      "Trainable params: 160,390\n",
      "Non-trainable params: 0\n",
      "_________________________________________________________________\n"
     ]
    }
   ],
   "source": [
    "from keras import models\n",
    "from keras import layers\n",
    "\n",
    "model = models.Sequential()\n",
    "model.add(layers.Dense(16, activation='relu', input_shape=(10000,)))\n",
    "model.add(layers.Dense(16, activation='relu'))\n",
    "model.add(layers.Dense(6, activation='sigmoid'))\n",
    "model.compile(optimizer='sgd', loss='binary_crossentropy', metrics=['accuracy'])\n",
    "model.summary()"
   ]
  },
  {
   "cell_type": "code",
   "execution_count": 15,
   "metadata": {},
   "outputs": [
    {
     "name": "stdout",
     "output_type": "stream",
     "text": [
      "Train on 79310 samples, validate on 19828 samples\n",
      "Epoch 1/50\n",
      "79310/79310 [==============================] - 19s 235us/step - loss: 0.4346 - accuracy: 0.8062 - val_loss: 0.3459 - val_accuracy: 0.8371\n",
      "Epoch 2/50\n",
      "79310/79310 [==============================] - 20s 256us/step - loss: 0.3196 - accuracy: 0.8524 - val_loss: 0.3058 - val_accuracy: 0.8568\n",
      "Epoch 3/50\n",
      "79310/79310 [==============================] - 20s 256us/step - loss: 0.2982 - accuracy: 0.8598 - val_loss: 0.2957 - val_accuracy: 0.8604\n",
      "Epoch 4/50\n",
      "79310/79310 [==============================] - 22s 278us/step - loss: 0.2914 - accuracy: 0.8620 - val_loss: 0.2913 - val_accuracy: 0.8620\n",
      "Epoch 5/50\n",
      "79310/79310 [==============================] - 22s 278us/step - loss: 0.2874 - accuracy: 0.8634 - val_loss: 0.2880 - val_accuracy: 0.8635\n",
      "Epoch 6/50\n",
      "79310/79310 [==============================] - 24s 300us/step - loss: 0.2843 - accuracy: 0.8645 - val_loss: 0.2855 - val_accuracy: 0.8639\n",
      "Epoch 7/50\n",
      "79310/79310 [==============================] - 23s 293us/step - loss: 0.2816 - accuracy: 0.8654 - val_loss: 0.2833 - val_accuracy: 0.8644\n",
      "Epoch 8/50\n",
      "79310/79310 [==============================] - 23s 291us/step - loss: 0.2793 - accuracy: 0.8661 - val_loss: 0.2811 - val_accuracy: 0.8652\n",
      "Epoch 9/50\n",
      "79310/79310 [==============================] - 23s 287us/step - loss: 0.2772 - accuracy: 0.8668 - val_loss: 0.2793 - val_accuracy: 0.8657\n",
      "Epoch 10/50\n",
      "79310/79310 [==============================] - 24s 306us/step - loss: 0.2751 - accuracy: 0.8675 - val_loss: 0.2776 - val_accuracy: 0.8664\n",
      "Epoch 11/50\n",
      "79310/79310 [==============================] - 25s 316us/step - loss: 0.2732 - accuracy: 0.8688 - val_loss: 0.2759 - val_accuracy: 0.8684\n",
      "Epoch 12/50\n",
      "79310/79310 [==============================] - 24s 302us/step - loss: 0.2713 - accuracy: 0.8703 - val_loss: 0.2745 - val_accuracy: 0.8696\n",
      "Epoch 13/50\n",
      "79310/79310 [==============================] - 25s 309us/step - loss: 0.2696 - accuracy: 0.8719 - val_loss: 0.2734 - val_accuracy: 0.8706\n",
      "Epoch 14/50\n",
      "79310/79310 [==============================] - 24s 303us/step - loss: 0.2679 - accuracy: 0.8732 - val_loss: 0.2725 - val_accuracy: 0.8708\n",
      "Epoch 15/50\n",
      "79310/79310 [==============================] - 24s 304us/step - loss: 0.2663 - accuracy: 0.8743 - val_loss: 0.2707 - val_accuracy: 0.8729\n",
      "Epoch 16/50\n",
      "79310/79310 [==============================] - 24s 301us/step - loss: 0.2648 - accuracy: 0.8754 - val_loss: 0.2690 - val_accuracy: 0.8737s - loss: 0.2648 - accu\n",
      "Epoch 17/50\n",
      "79310/79310 [==============================] - 25s 312us/step - loss: 0.2634 - accuracy: 0.8763 - val_loss: 0.2679 - val_accuracy: 0.8743\n",
      "Epoch 18/50\n",
      "79310/79310 [==============================] - 24s 305us/step - loss: 0.2620 - accuracy: 0.8769 - val_loss: 0.2671 - val_accuracy: 0.8748\n",
      "Epoch 19/50\n",
      "79310/79310 [==============================] - 24s 307us/step - loss: 0.2608 - accuracy: 0.8776 - val_loss: 0.2660 - val_accuracy: 0.8755\n",
      "Epoch 20/50\n",
      "79310/79310 [==============================] - 24s 300us/step - loss: 0.2595 - accuracy: 0.8784 - val_loss: 0.2652 - val_accuracy: 0.8755\n",
      "Epoch 21/50\n",
      "79310/79310 [==============================] - 24s 302us/step - loss: 0.2584 - accuracy: 0.8791 - val_loss: 0.2644 - val_accuracy: 0.8759\n",
      "Epoch 22/50\n",
      "79310/79310 [==============================] - 24s 296us/step - loss: 0.2572 - accuracy: 0.8796 - val_loss: 0.2638 - val_accuracy: 0.8763\n",
      "Epoch 23/50\n",
      "79310/79310 [==============================] - 25s 320us/step - loss: 0.2561 - accuracy: 0.8800 - val_loss: 0.2629 - val_accuracy: 0.8765\n",
      "Epoch 24/50\n",
      "79310/79310 [==============================] - 26s 323us/step - loss: 0.2551 - accuracy: 0.8807 - val_loss: 0.2621 - val_accuracy: 0.8770\n",
      "Epoch 25/50\n",
      "79310/79310 [==============================] - 25s 314us/step - loss: 0.2540 - accuracy: 0.8814 - val_loss: 0.2616 - val_accuracy: 0.8773\n",
      "Epoch 26/50\n",
      "79310/79310 [==============================] - 25s 309us/step - loss: 0.2531 - accuracy: 0.8816 - val_loss: 0.2611 - val_accuracy: 0.8768\n",
      "Epoch 27/50\n",
      "79310/79310 [==============================] - 24s 309us/step - loss: 0.2520 - accuracy: 0.8821 - val_loss: 0.2605 - val_accuracy: 0.8771\n",
      "Epoch 28/50\n",
      "79310/79310 [==============================] - 25s 310us/step - loss: 0.2511 - accuracy: 0.8825 - val_loss: 0.2611 - val_accuracy: 0.8766\n",
      "Epoch 29/50\n",
      "79310/79310 [==============================] - 25s 318us/step - loss: 0.2502 - accuracy: 0.8828 - val_loss: 0.2595 - val_accuracy: 0.8774\n",
      "Epoch 30/50\n",
      "79310/79310 [==============================] - 27s 340us/step - loss: 0.2493 - accuracy: 0.8833 - val_loss: 0.2589 - val_accuracy: 0.8773\n",
      "Epoch 31/50\n",
      "79310/79310 [==============================] - 26s 322us/step - loss: 0.2484 - accuracy: 0.8838 - val_loss: 0.2590 - val_accuracy: 0.8776\n",
      "Epoch 32/50\n",
      "79310/79310 [==============================] - 24s 301us/step - loss: 0.2476 - accuracy: 0.8839 - val_loss: 0.2580 - val_accuracy: 0.8780\n",
      "Epoch 33/50\n",
      "79310/79310 [==============================] - 23s 295us/step - loss: 0.2467 - accuracy: 0.8844 - val_loss: 0.2577 - val_accuracy: 0.87770.246\n",
      "Epoch 34/50\n",
      "79310/79310 [==============================] - 23s 294us/step - loss: 0.2459 - accuracy: 0.8850 - val_loss: 0.2573 - val_accuracy: 0.8779\n",
      "Epoch 35/50\n",
      "79310/79310 [==============================] - 24s 297us/step - loss: 0.2451 - accuracy: 0.8850 - val_loss: 0.2572 - val_accuracy: 0.8774\n",
      "Epoch 36/50\n",
      "79310/79310 [==============================] - 25s 311us/step - loss: 0.2443 - accuracy: 0.8854 - val_loss: 0.2566 - val_accuracy: 0.8785\n",
      "Epoch 37/50\n",
      "79310/79310 [==============================] - 24s 307us/step - loss: 0.2435 - accuracy: 0.8862 - val_loss: 0.2564 - val_accuracy: 0.8784\n",
      "Epoch 38/50\n",
      "79310/79310 [==============================] - 23s 292us/step - loss: 0.2427 - accuracy: 0.8862 - val_loss: 0.2562 - val_accuracy: 0.8783\n",
      "Epoch 39/50\n",
      "79310/79310 [==============================] - 25s 321us/step - loss: 0.2420 - accuracy: 0.8866 - val_loss: 0.2565 - val_accuracy: 0.8784\n",
      "Epoch 40/50\n",
      "79310/79310 [==============================] - 23s 292us/step - loss: 0.2412 - accuracy: 0.8870 - val_loss: 0.2556 - val_accuracy: 0.8785\n",
      "Epoch 41/50\n",
      "79310/79310 [==============================] - 24s 299us/step - loss: 0.2406 - accuracy: 0.8874 - val_loss: 0.2563 - val_accuracy: 0.8788\n",
      "Epoch 42/50\n",
      "79310/79310 [==============================] - 24s 305us/step - loss: 0.2398 - accuracy: 0.8877 - val_loss: 0.2552 - val_accuracy: 0.8787\n",
      "Epoch 43/50\n",
      "79310/79310 [==============================] - 25s 321us/step - loss: 0.2391 - accuracy: 0.8880 - val_loss: 0.2548 - val_accuracy: 0.8787\n",
      "Epoch 44/50\n",
      "79310/79310 [==============================] - 24s 308us/step - loss: 0.2383 - accuracy: 0.8883 - val_loss: 0.2546 - val_accuracy: 0.8789\n",
      "Epoch 45/50\n",
      "79310/79310 [==============================] - 25s 310us/step - loss: 0.2377 - accuracy: 0.8887 - val_loss: 0.2545 - val_accuracy: 0.8788\n",
      "Epoch 46/50\n",
      "79310/79310 [==============================] - 25s 314us/step - loss: 0.2370 - accuracy: 0.8888 - val_loss: 0.2567 - val_accuracy: 0.8775\n",
      "Epoch 47/50\n",
      "79310/79310 [==============================] - 25s 321us/step - loss: 0.2363 - accuracy: 0.8892 - val_loss: 0.2563 - val_accuracy: 0.8785\n",
      "Epoch 48/50\n",
      "79310/79310 [==============================] - 25s 311us/step - loss: 0.2356 - accuracy: 0.8897 - val_loss: 0.2546 - val_accuracy: 0.8791\n",
      "Epoch 49/50\n",
      "79310/79310 [==============================] - 26s 323us/step - loss: 0.2349 - accuracy: 0.8898 - val_loss: 0.2537 - val_accuracy: 0.8791\n",
      "Epoch 50/50\n",
      "79310/79310 [==============================] - 25s 317us/step - loss: 0.2342 - accuracy: 0.8902 - val_loss: 0.2559 - val_accuracy: 0.8778\n"
     ]
    }
   ],
   "source": [
    "history = model.fit(X_train, y_train, epochs=50, batch_size=100, validation_split=0.2)"
   ]
  },
  {
   "cell_type": "code",
   "execution_count": 17,
   "metadata": {},
   "outputs": [
    {
     "data": {
      "image/png": "[encoded data removed]",
      "text/plain": [
       "<Figure size 432x288 with 1 Axes>"
      ]
     },
     "metadata": {
      "needs_background": "light"
     },
     "output_type": "display_data"
    }
   ],
   "source": [
    "import matplotlib.pyplot as plt\n",
    "\n",
    "history_dict = history.history\n",
    "train_loss = history_dict['loss']\n",
    "val_loss = history_dict['val_loss']\n",
    "\n",
    "epochs = range(1, len(train_loss) + 1)\n",
    "plt.title('Training and validation loss')\n",
    "plt.plot(epochs, train_loss, label='Training loss')\n",
    "plt.plot(epochs, val_loss, label='Validation loss')\n",
    "plt.xlabel('Epoch')\n",
    "plt.ylabel('Loss')\n",
    "plt.legend()\n",
    "plt.grid()\n",
    "plt.show()"
   ]
  },
  {
   "cell_type": "code",
   "execution_count": 18,
   "metadata": {},
   "outputs": [
    {
     "name": "stdout",
     "output_type": "stream",
     "text": [
      "Found 59580 unique tokens.\n",
      "Found 8 unique tokens.\n",
      "24785/24785 [==============================] - 3s 131us/step\n",
      "Test score: 0.39618449549846213\n",
      "Test accuracy: 0.799737811088562\n"
     ]
    }
   ],
   "source": [
    "X_test = vectorize_sequences(test['Lyric'])\n",
    "\n",
    "#y_train = vectorize_labels(train['Genre'])\n",
    "Y_test = vectorize_sequences(test['Genre'], 6) \n",
    "\n",
    "\n",
    "# compute loss and accuracy on test data\n",
    "score = model.evaluate(X_test, Y_test, verbose=1)\n",
    "print(\"Test score:\", score[0])\n",
    "print(\"Test accuracy:\", score[1])"
   ]
  }
 ],
 "metadata": {
  "kernelspec": {
   "display_name": "Python 3",
   "language": "python",
   "name": "python3"
  },
  "language_info": {
   "codemirror_mode": {
    "name": "ipython",
    "version": 3
   },
   "file_extension": ".py",
   "mimetype": "text/x-python",
   "name": "python",
   "nbconvert_exporter": "python",
   "pygments_lexer": "ipython3",
   "version": "3.7.4"
  }
 },
 "nbformat": 4,
 "nbformat_minor": 4
}
