{
 "cells": [
  {
   "cell_type": "code",
   "execution_count": 1,
   "metadata": {},
   "outputs": [],
   "source": [
    "# load dataset \n",
    "import pandas as pd \n",
    "\n",
    "pathLyrics = 'lyrics-data.csv'\n",
    "pathArtists = 'artists-data.csv'\n",
    "\n",
    "\n",
    "dataframe = pd.read_csv(pathLyrics)\n",
    "dataframeArtists = pd.read_csv(pathArtists)"
   ]
  },
  {
   "cell_type": "code",
   "execution_count": 2,
   "metadata": {},
   "outputs": [],
   "source": [
    "# filter Idiom for olny english lyrics\n",
    "dataframe = dataframe[dataframe['Idiom'] == 'ENGLISH']"
   ]
  },
  {
   "cell_type": "code",
   "execution_count": 49,
   "metadata": {},
   "outputs": [],
   "source": [
    "# normalize lycris to lowercase  \n",
    "dataframe['Lyric'] = dataframe['Lyric'].apply(lambda lyric: lyric.lower())\n",
    "\n",
    "# Zwei csv werden gemerged\n",
    "mergeData=pd.merge(dataframe, dataframeArtists, how='inner', left_on='ALink', right_on='Link')\n",
    "\n",
    "#Filtern der Daten. Nur Lyric und Genre für das Dataset notwendig\n",
    "rawData= mergeData[['Lyric', 'Genre']]\n",
    "\n",
    "# Speichern der csv zum Anschauen\n",
    "# dataset.to_csv('dataset.csv') "
   ]
  },
  {
   "cell_type": "code",
   "execution_count": 52,
   "metadata": {},
   "outputs": [],
   "source": [
    "# Es werden die Spalten gefiltert, die Noten enthalten\n",
    "rawData = rawData[~rawData['Lyric'].str.contains('----')] \n",
    "\n",
    "#Filtert alle Zeichen bis auf Buchstaben und Zahlen heraus\n",
    "rawData['Lyric']=rawData['Lyric'].str.replace('[^a-zA-Z0-9]', ' ')\n"
   ]
  }
 ],
 "metadata": {
  "kernelspec": {
   "display_name": "Python 3",
   "language": "python",
   "name": "python3"
  },
  "language_info": {
   "codemirror_mode": {
    "name": "ipython",
    "version": 3
   },
   "file_extension": ".py",
   "mimetype": "text/x-python",
   "name": "python",
   "nbconvert_exporter": "python",
   "pygments_lexer": "ipython3",
   "version": "3.7.4"
  }
 },
 "nbformat": 4,
 "nbformat_minor": 4
}
