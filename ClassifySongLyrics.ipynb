{
 "cells": [
  {
   "cell_type": "markdown",
   "metadata": {},
   "source": [
    "#Klassifikation von Song-Texten\n",
    "Die Aufgabe, oder auch das Ziel besteht darin, dass man anhand von Song-Texten vorhersagt von welchem Genre ein Lied ist. Bei der Umsetzung soll man unterschiedliche Methoden verwenden und diese untereinander auch vergleichen, dabei sollen die unterschiedlichen Methoden aus dem Machine Learning Beziehungsweise aus dem Deep Learning Bereichen kommen. Die Umsetzung des Projektes ist in folgenden Schritten entwickelt worden:\n",
    "\n",
    "1. Im ersten Schritt werden die Daten so weit vorbereitet Beziehungsweise bereinigt, sodass man mit ihnen die zuvor genannten Ziele auch erreichen kann. Die verwendeten Roh-Daten stammen von “https://www.kaggle.com/neisse/scrapped-lyrics-from-6-genres”.\n",
    "\n",
    "2. Es wurde eine Baseline erstellt, um die Genauigkeit des neurnales Netzwerkes zu vergleichen. Dazu wurde Naive Bayes mit additiver Glättung verwenden.\n",
    "\n",
    "3. Im dritten Schritte wurde ein Feed-Forward-Netzwerk erstellt und verbessert.\n",
    "\n",
    "4. Zum Schluss wurde noch ein Recurrent-Neural-Network trainiert.\n",
    "\n",
    "Es werden die Genres Rock, Pop, Hip Hop, Samba, Sertanejo und Funk Carioca benutzt. "
   ]
  },
  {
   "cell_type": "code",
   "execution_count": 3,
   "metadata": {},
   "outputs": [],
   "source": [
    "import pandas as pd \n",
    "from sklearn.model_selection import train_test_split\n",
    "from keras import models\n",
    "from keras import layers\n",
    "from sklearn.feature_extraction.text import CountVectorizer\n",
    "from keras.preprocessing.text import Tokenizer\n",
    "from keras.utils import to_categorical\n",
    "import matplotlib.pyplot as plt\n",
    "from sklearn import preprocessing\n",
    "from sklearn.feature_extraction.text import TfidfVectorizer \n",
    "from sklearn.metrics import confusion_matrix, precision_score, recall_score, f1_score, accuracy_score\n",
    "from sklearn.preprocessing import LabelEncoder\n",
    "from sklearn.naive_bayes import MultinomialNB\n",
    "from keras.layers import Dropout\n",
    "\n",
    "# load dataset \n",
    "pathLyrics = 'lyrics-data.csv'\n",
    "pathArtists = 'artists-data.csv'\n",
    "\n",
    "\n",
    "dataframe = pd.read_csv(pathLyrics)\n",
    "dataframeArtists = pd.read_csv(pathArtists)"
   ]
  },
  {
   "cell_type": "code",
   "execution_count": null,
   "metadata": {},
   "outputs": [],
   "source": []
  },
  {
   "attachments": {},
   "cell_type": "markdown",
   "metadata": {},
   "source": [
    "#Data preparation\n",
    "\n",
    "Wie schon oben in der Kurzbeschreibung erwähnt, findet im ersten Schritt die Verarbeitung von Roh-Daten, die so weit vorbereitet bzw. bereinigt werden müssen, sodass man diese für die verschiedene Modelle verwenden kann. Da es sich bei den Kaggle-Daten um große Datenmengen handelt, wurden die irrelevanten Datensätze entfernt. Einer der Bereinigungsschritte ist es, dass man sich nur auf Englische Song-Text fokussiert, sodass die anderen Sprachen dabei entfernt werden. Die zwei importierten CSV-Dateien zu Genre und Texten werden zusammengeführt, sodass aus Tabelle Artists und der Tabelle Songs eine gemeinsame Tabelle erstellt wird. Diese Tabelle wird auf die nötigsten Informationen verkleinert um die zu verarbeitende Daten klein zu halten. Song-Texte die irrelevante Sonderzeichen, Noten oder auch keine Texte beinhalten werden auch entfernt. Des Weiteren ist einer der Schritte, dass alle Song-Text in kleingeschriebene Wörter angepasst worden, für eine bessere Verabeitung der Texte. \n",
    "\n",
    "Ein Problem, welches bei der Datenvorbereitung aufgetreten ist, dass zwei identische Songtexte unterschiedliche Genres besitzen. Die Datensätze befinden sich in zwei getrennten CSV-Dateien. In der Datei \"artists-data.csv\" befinden sich neben weiteren Informationen der Artist und das Genre. Es ist ebenfalls in der Spalte \"Genres\" mehrere Genres angegeben, da ein Song auch meherere Gernes wie zum Beispiel Pop und Hip Hop haben kann. In der CSV-Datei \"lyrics-data.csv\" befinden unteranderem der Songtext und das Idiom. Der join der beiden CSV-Dateien wird über die Spalte \"ALink\" bei der CSV-Datei \"lyrics-data.csv\" und über die Spalte \"Link\" gemacht. \n",
    "\n",
    "\n",
    "Die Zuordnung zwischen Artits und Song wird über die Spalte \"ALink\" bei der CSV-Datei \"lyrics-data.csv\" und über die Spalte \"Link\" bei der CVS-Datei \"artists-data.csv\" gemacht. Es kann nun vorkommen, dass ein Künster, z.B. 10000 Maniacs, jeweils mit unterschiedlichen \"Genre\" aber gleichem \"Link\" im Datensatz vorkommt. Dies führt dazu, dass bei einem Join ein Song zweimal mit anderem Genre vorkommt. Zum Beheben dieses Problem wird nach dem Zusammenführen der CSV-Dateien über alle Zeilen iteriert und das Genre sowie der erste Eintrag in der Spalte \"Genres\". Sollte diese nicht übereinstimmen, werden die entsprechenden Zeilen gelöscht.        \n",
    "\n"
   ]
  },
  {
   "cell_type": "code",
   "execution_count": null,
   "metadata": {
    "scrolled": true
   },
   "outputs": [],
   "source": [
    "from sklearn.utils import shuffle\n",
    "\n",
    "#Filtert alle Songtext, die nicht Englisch sind\n",
    "dataframe = dataframe[dataframe['Idiom'] == 'ENGLISH']\n",
    "#Lowercase alle Songtexte\n",
    "dataframe['Lyric'] = dataframe['Lyric'].apply(lambda lyric: lyric.lower())\n",
    "\n",
    "#Herausfiltern der Instrumentals \n",
    "patternDel = [\"---\", \"instrumental\",\"===\"]\n",
    "for patt in patternDel:\n",
    "    filter = dataframe['Lyric'].str.contains(patt)\n",
    "    dataframe = dataframe[~filter]\n",
    "\n",
    "#Join der zwei CSV Dateien   \n",
    "dataframe.rename(columns={'ALink':'Link','SName':'SName', 'SLink':'SLink','Lyric':'Lyric','Idiom':'Idiom'},inplace=True)\n",
    "mergeData=pd.merge(dataframe, dataframeArtists, on='Link')\n",
    "\n",
    "#Löschen aller Zeilen bei denen \"Genre\" und erstes Genre in \"Genres\" nicht übereinstimmen. Es wird durch die \n",
    "#Zeilen iteriert. Dabei wird der String in \"Genres\" gesplittet und in eine Liste geschrieben. Anschließend wird \n",
    "#verglichen. In listOfIndex stehen alle zu löschenden Indexe.\n",
    "listOfIndex=[]\n",
    "for ind in mergeData.index:\n",
    "    if type(mergeData['Genres'][ind]) is str: \n",
    "        s_gerne = mergeData['Genre'][ind]\n",
    "        #Splitten von \"Genres\"\n",
    "        s_gernres = mergeData['Genres'][ind].split(\";\")\n",
    "        if s_gerne !=  s_gernres[0]:\n",
    "            listOfIndex.append(ind)\n",
    "    else:\n",
    "        listOfIndex.append(ind)\n",
    "              \n",
    "mergeData.drop(listOfIndex,inplace=True )\n",
    "\n",
    "#Die Zeilen sind sortiert, deshalb muss noch gemischt werden.\n",
    "rawData = shuffle(mergeData)\n"
   ]
  },
  {
   "cell_type": "markdown",
   "metadata": {},
   "source": [
    "Durch die Entfernung aller nicht englischen Songtexten, dem Löschen alle Instrumentals und ähnliches sowie die Entfernung der mehrfach vorhandenen Songtexten stehen XXXXXXXXXX! Datensätze zum Trainieren zur Verfügung."
   ]
  },
  {
   "cell_type": "markdown",
   "metadata": {},
   "source": [
    "#Baseline"
   ]
  },
  {
   "cell_type": "markdown",
   "metadata": {},
   "source": [
    "Als Baseline zum Vergleich des neuronalen Netzwerkes wird Naive Bayes mit additiver Glättung verwendet. Die Datensätze wurden zu 80% Trainings- und Validierungsdaten sowie 20% für die Evaluierung aufgeteilt.   "
   ]
  },
  {
   "cell_type": "code",
   "execution_count": 3,
   "metadata": {},
   "outputs": [
    {
     "name": "stdout",
     "output_type": "stream",
     "text": [
      "Kofusionsmatrix:\n",
      " [[   0    0    2    0    0    0]\n",
      " [   0 1592  570  132    0    0]\n",
      " [   0  265 2422 1236    0    5]\n",
      " [   1  223 1357 4509    0    4]\n",
      " [   0    1    4    4    0    0]\n",
      " [   0    0    5    8    0    0]]\n",
      "Korrektklassifizierungsrate:\n",
      " 0.6906807131280389\n",
      "Präzision (mikro):\n",
      " 0.6906807131280389\n",
      "Ausbeute (mikro):\n",
      " 0.6906807131280389\n",
      "F1 (mikro):\n",
      " 0.6906807131280389\n"
     ]
    }
   ],
   "source": [
    "vectorizer = CountVectorizer()\n",
    "X_cnt = vectorizer.fit_transform(rawData['Lyric'])\n",
    "\n",
    "label_encoder = LabelEncoder()\n",
    "y_clean = label_encoder.fit_transform(rawData['Genre'])\n",
    "\n",
    "X_train, X_test, y_train, y_test = train_test_split(X_cnt, y_clean, test_size=0.2, random_state=0)\n",
    "\n",
    "## Naive Bayes mit additiver Glättung trainieren\n",
    "nb = MultinomialNB(alpha=1.0)\n",
    "nb.fit(X_train, y_train)\n",
    "\n",
    "## Vorhersagen berechnen\n",
    "y_predicted = nb.predict(X_test)\n",
    "\n",
    "\n",
    "## Konfusionsmatrix ausgeben\n",
    "print(\"Kofusionsmatrix:\\n\", confusion_matrix(y_true=y_test, y_pred=y_predicted))\n",
    "\n",
    "## Gütemaße ausgeben\n",
    "print(\"Korrektklassifizierungsrate:\\n\", accuracy_score(y_true=y_test, y_pred=y_predicted))\n",
    "print(\"Präzision (mikro):\\n\", precision_score(y_true=y_test, y_pred=y_predicted, average='micro'))\n",
    "print(\"Ausbeute (mikro):\\n\", recall_score(y_true=y_test, y_pred=y_predicted, average='micro'))\n",
    "print(\"F1 (mikro):\\n\", f1_score(y_true=y_test, y_pred=y_predicted, average='micro'))"
   ]
  },
  {
   "cell_type": "code",
   "execution_count": null,
   "metadata": {},
   "outputs": [],
   "source": [
    "In diesem liefert der Klassifikator eine Genauigkeit von ca. 69%. "
   ]
  },
  {
   "cell_type": "markdown",
   "metadata": {},
   "source": [
    "#Feed Forward Network (FFN)\n",
    "Im Folgenden wird ein neuronales Netzwerk für die Vorhersage der Genres genutzt. Zuerst werden zwei Funktionen definiert die später mehrfach benötigt werden. Die Funktion \"vectorize_sequences\" ist dafür zuständig, den Songtext als binären Vektor darzustellen, der One-Hot-Encoded ist. Dies ist notwenig, da das FFN immer die gleiche Input-Länge benötigt. Es werden 100000 Dimensionen verwenden. Zusätzlich werden nochmal alle Sonderzeichen gefiltert. \n",
    "\n",
    "Die zweite Funktion \"vectorize_labels\" sorgt dafür, dass die Genres bzw. die Labels ebenfalls One-Hot-Encoded werden. "
   ]
  },
  {
   "cell_type": "code",
   "execution_count": 6,
   "metadata": {},
   "outputs": [],
   "source": [
    "def vectorize_sequences (dataframe, dimensions=10000):\n",
    "    vect = CountVectorizer()\n",
    "    X = vect.fit_transform(dataframe)\n",
    "    tokenizer = Tokenizer(num_words=dimensions, filters='!\"#$%&()*+,-./:;<=>?@[\\\\]^_`{|}~\\t\\n')\n",
    "    tokenizer.fit_on_texts(dataframe)\n",
    "    sequences = tokenizer.texts_to_sequences(dataframe)\n",
    "    one_hot_results = tokenizer.texts_to_matrix(dataframe, mode='binary')\n",
    "    word_index = tokenizer.word_index\n",
    "    print('Found %s unique tokens.' % len(word_index))\n",
    "\n",
    "    return one_hot_results\n",
    "    \n",
    "def vectorize_labels(labels):\n",
    "    le = preprocessing.LabelEncoder()\n",
    "    encodedlabels = le.fit(labels)\n",
    "    encodedlabels_transformed= le.transform(labels) \n",
    "    return to_categorical(encodedlabels_transformed)"
   ]
  },
  {
   "cell_type": "markdown",
   "metadata": {},
   "source": [
    "Die Liedtext werden in einen Vektor umgewandelt und die Genres werden umgewandelt. Die Aufteilung in Trainings- und Evaluierungsdaten ist 80/20. "
   ]
  },
  {
   "cell_type": "code",
   "execution_count": 6,
   "metadata": {},
   "outputs": [
    {
     "name": "stdout",
     "output_type": "stream",
     "text": [
      "Found 101195 unique tokens.\n"
     ]
    }
   ],
   "source": [
    "X_cnt = vectorize_sequences(rawData['Lyric'])\n",
    "y_clean = vectorize_labels(rawData['Genre'])\n",
    "\n",
    "X_train, X_test, y_train, y_test = train_test_split(X_cnt, y_clean, test_size=0.2, random_state=0)"
   ]
  },
  {
   "cell_type": "markdown",
   "metadata": {},
   "source": [
    "Das Modell besteht aus insgesamt drei verschiedenen Schichten. Die Ausgabeschicht besteht insgesamt aus sechs Neuronen, für jede Kategorie eine. Da es sich um ein multi-class Klassifizierungsproblem handelt ist die Loss-Funktion \"categorical_crossentropy\". Die Aktivierungsfunktion ist \"softmax\". Die Ausgabewerte der Ausgabeschicht sind die Wahrscheinlichkeiten mit welchem die Genres klassifiziert werden. "
   ]
  },
  {
   "cell_type": "code",
   "execution_count": 7,
   "metadata": {},
   "outputs": [
    {
     "name": "stdout",
     "output_type": "stream",
     "text": [
      "Model: \"sequential_1\"\n",
      "_________________________________________________________________\n",
      "Layer (type)                 Output Shape              Param #   \n",
      "=================================================================\n",
      "dense_1 (Dense)              (None, 16)                160016    \n",
      "_________________________________________________________________\n",
      "dense_2 (Dense)              (None, 16)                272       \n",
      "_________________________________________________________________\n",
      "dense_3 (Dense)              (None, 6)                 102       \n",
      "=================================================================\n",
      "Total params: 160,390\n",
      "Trainable params: 160,390\n",
      "Non-trainable params: 0\n",
      "_________________________________________________________________\n"
     ]
    }
   ],
   "source": [
    "model = models.Sequential()\n",
    "model.add(layers.Dense(16, activation='relu', input_shape=(10000,)))\n",
    "model.add(layers.Dense(16, activation='relu'))\n",
    "model.add(layers.Dense(6, activation='softmax'))\n",
    "model.compile(optimizer='sgd', loss='categorical_crossentropy', metrics=['accuracy'])\n",
    "model.summary()"
   ]
  },
  {
   "cell_type": "code",
   "execution_count": 8,
   "metadata": {
    "scrolled": true
   },
   "outputs": [
    {
     "name": "stdout",
     "output_type": "stream",
     "text": [
      "Train on 39487 samples, validate on 9872 samples\n",
      "Epoch 1/50\n",
      "39487/39487 [==============================] - 9s 231us/step - loss: 1.1324 - accuracy: 0.5407 - val_loss: 0.7867 - val_accuracy: 0.6821\n",
      "Epoch 2/50\n",
      "39487/39487 [==============================] - 6s 142us/step - loss: 0.7307 - accuracy: 0.6917 - val_loss: 0.6986 - val_accuracy: 0.7000\n",
      "Epoch 3/50\n",
      "39487/39487 [==============================] - 6s 145us/step - loss: 0.6840 - accuracy: 0.7079 - val_loss: 0.6729 - val_accuracy: 0.7156\n",
      "Epoch 4/50\n",
      "39487/39487 [==============================] - 7s 187us/step - loss: 0.6585 - accuracy: 0.7206 - val_loss: 0.6518 - val_accuracy: 0.7238\n",
      "Epoch 5/50\n",
      "39487/39487 [==============================] - 8s 198us/step - loss: 0.6389 - accuracy: 0.7294 - val_loss: 0.6390 - val_accuracy: 0.7306\n",
      "Epoch 6/50\n",
      "39487/39487 [==============================] - 8s 200us/step - loss: 0.6226 - accuracy: 0.7357 - val_loss: 0.6282 - val_accuracy: 0.7353\n",
      "Epoch 7/50\n",
      "39487/39487 [==============================] - 8s 210us/step - loss: 0.6078 - accuracy: 0.7426 - val_loss: 0.6196 - val_accuracy: 0.7376\n",
      "Epoch 8/50\n",
      "39487/39487 [==============================] - 9s 217us/step - loss: 0.5943 - accuracy: 0.7487 - val_loss: 0.6144 - val_accuracy: 0.7393\n",
      "Epoch 9/50\n",
      "39487/39487 [==============================] - 8s 213us/step - loss: 0.5821 - accuracy: 0.7542 - val_loss: 0.6134 - val_accuracy: 0.7325\n",
      "Epoch 10/50\n",
      "39487/39487 [==============================] - 9s 220us/step - loss: 0.5700 - accuracy: 0.7591 - val_loss: 0.6061 - val_accuracy: 0.7467\n",
      "Epoch 11/50\n",
      "39487/39487 [==============================] - 9s 221us/step - loss: 0.5595 - accuracy: 0.7643 - val_loss: 0.6048 - val_accuracy: 0.7347\n",
      "Epoch 12/50\n",
      "39487/39487 [==============================] - 9s 227us/step - loss: 0.5491 - accuracy: 0.7699 - val_loss: 0.5956 - val_accuracy: 0.7518\n",
      "Epoch 13/50\n",
      "39487/39487 [==============================] - 9s 222us/step - loss: 0.5387 - accuracy: 0.7750 - val_loss: 0.5982 - val_accuracy: 0.7388\n",
      "Epoch 14/50\n",
      "39487/39487 [==============================] - 9s 223us/step - loss: 0.5282 - accuracy: 0.7790 - val_loss: 0.5896 - val_accuracy: 0.7503\n",
      "Epoch 15/50\n",
      "39487/39487 [==============================] - 9s 226us/step - loss: 0.5196 - accuracy: 0.7840 - val_loss: 0.5870 - val_accuracy: 0.7514\n",
      "Epoch 16/50\n",
      "39487/39487 [==============================] - 9s 224us/step - loss: 0.5087 - accuracy: 0.7900 - val_loss: 0.5832 - val_accuracy: 0.7548\n",
      "Epoch 17/50\n",
      "39487/39487 [==============================] - 9s 226us/step - loss: 0.5010 - accuracy: 0.7946 - val_loss: 0.6024 - val_accuracy: 0.7479\n",
      "Epoch 18/50\n",
      "39487/39487 [==============================] - 9s 230us/step - loss: 0.4931 - accuracy: 0.7968 - val_loss: 0.5825 - val_accuracy: 0.7513\n",
      "Epoch 19/50\n",
      "39487/39487 [==============================] - 9s 238us/step - loss: 0.4823 - accuracy: 0.8017 - val_loss: 0.5800 - val_accuracy: 0.7553\n",
      "Epoch 20/50\n",
      "39487/39487 [==============================] - 10s 254us/step - loss: 0.4764 - accuracy: 0.8049 - val_loss: 0.5899 - val_accuracy: 0.7450\n",
      "Epoch 21/50\n",
      "39487/39487 [==============================] - 10s 263us/step - loss: 0.4669 - accuracy: 0.8095 - val_loss: 0.5766 - val_accuracy: 0.7603\n",
      "Epoch 22/50\n",
      "39487/39487 [==============================] - 9s 239us/step - loss: 0.4606 - accuracy: 0.8123 - val_loss: 0.5877 - val_accuracy: 0.7566\n",
      "Epoch 23/50\n",
      "39487/39487 [==============================] - 10s 263us/step - loss: 0.4532 - accuracy: 0.8135 - val_loss: 0.6065 - val_accuracy: 0.7482\n",
      "Epoch 24/50\n",
      "39487/39487 [==============================] - 9s 240us/step - loss: 0.4432 - accuracy: 0.8189 - val_loss: 0.5839 - val_accuracy: 0.7601\n",
      "Epoch 25/50\n",
      "39487/39487 [==============================] - 10s 241us/step - loss: 0.4388 - accuracy: 0.8212 - val_loss: 0.5777 - val_accuracy: 0.7611\n",
      "Epoch 26/50\n",
      "39487/39487 [==============================] - 10s 241us/step - loss: 0.4317 - accuracy: 0.8242 - val_loss: 0.5789 - val_accuracy: 0.7589\n",
      "Epoch 27/50\n",
      "39487/39487 [==============================] - 10s 246us/step - loss: 0.4214 - accuracy: 0.8278 - val_loss: 0.5761 - val_accuracy: 0.7594\n",
      "Epoch 28/50\n",
      "39487/39487 [==============================] - 10s 250us/step - loss: 0.4181 - accuracy: 0.8319 - val_loss: 0.5896 - val_accuracy: 0.7610\n",
      "Epoch 29/50\n",
      "39487/39487 [==============================] - 10s 251us/step - loss: 0.4116 - accuracy: 0.8324 - val_loss: 0.6097 - val_accuracy: 0.7527\n",
      "Epoch 30/50\n",
      "39487/39487 [==============================] - 10s 252us/step - loss: 0.4029 - accuracy: 0.8361 - val_loss: 0.6435 - val_accuracy: 0.7454\n",
      "Epoch 31/50\n",
      "39487/39487 [==============================] - 12s 304us/step - loss: 0.3955 - accuracy: 0.8415 - val_loss: 0.5878 - val_accuracy: 0.7602- loss: 0.3941 - accuracy:  -\n",
      "Epoch 32/50\n",
      "39487/39487 [==============================] - 10s 242us/step - loss: 0.3960 - accuracy: 0.8386 - val_loss: 0.5774 - val_accuracy: 0.7626\n",
      "Epoch 33/50\n",
      "39487/39487 [==============================] - 9s 226us/step - loss: 0.3874 - accuracy: 0.8446 - val_loss: 0.6167 - val_accuracy: 0.7538\n",
      "Epoch 34/50\n",
      "39487/39487 [==============================] - 9s 234us/step - loss: 0.3760 - accuracy: 0.8475 - val_loss: 0.6340 - val_accuracy: 0.7394\n",
      "Epoch 35/50\n",
      "39487/39487 [==============================] - 9s 238us/step - loss: 0.3720 - accuracy: 0.8492 - val_loss: 0.5810 - val_accuracy: 0.7688\n",
      "Epoch 36/50\n",
      "39487/39487 [==============================] - 11s 286us/step - loss: 0.3697 - accuracy: 0.8509 - val_loss: 0.5851 - val_accuracy: 0.7655\n",
      "Epoch 37/50\n",
      "39487/39487 [==============================] - 11s 288us/step - loss: 0.3646 - accuracy: 0.8533 - val_loss: 0.6395 - val_accuracy: 0.7447\n",
      "Epoch 38/50\n",
      "39487/39487 [==============================] - 10s 262us/step - loss: 0.3549 - accuracy: 0.8579 - val_loss: 0.5968 - val_accuracy: 0.7619\n",
      "Epoch 39/50\n",
      "39487/39487 [==============================] - 11s 274us/step - loss: 0.3481 - accuracy: 0.8597 - val_loss: 0.5905 - val_accuracy: 0.7698\n",
      "Epoch 40/50\n",
      "39487/39487 [==============================] - 10s 262us/step - loss: 0.3451 - accuracy: 0.8611 - val_loss: 0.6158 - val_accuracy: 0.7590\n",
      "Epoch 41/50\n",
      "39487/39487 [==============================] - 16s 393us/step - loss: 0.3389 - accuracy: 0.8647 - val_loss: 0.6556 - val_accuracy: 0.7454\n",
      "Epoch 42/50\n",
      "39487/39487 [==============================] - 15s 382us/step - loss: 0.3283 - accuracy: 0.8702 - val_loss: 0.6009 - val_accuracy: 0.7701\n",
      "Epoch 43/50\n",
      "39487/39487 [==============================] - 14s 344us/step - loss: 0.3275 - accuracy: 0.8694 - val_loss: 0.7553 - val_accuracy: 0.7145\n",
      "Epoch 44/50\n",
      "39487/39487 [==============================] - 11s 285us/step - loss: 0.3162 - accuracy: 0.8756 - val_loss: 0.6088 - val_accuracy: 0.7710\n",
      "Epoch 45/50\n",
      "39487/39487 [==============================] - 11s 274us/step - loss: 0.3112 - accuracy: 0.8777 - val_loss: 0.6260 - val_accuracy: 0.7607\n",
      "Epoch 46/50\n",
      "39487/39487 [==============================] - 12s 297us/step - loss: 0.3151 - accuracy: 0.8764 - val_loss: 0.8106 - val_accuracy: 0.7267\n",
      "Epoch 47/50\n",
      "39487/39487 [==============================] - 9s 230us/step - loss: 0.3110 - accuracy: 0.8783 - val_loss: 0.6287 - val_accuracy: 0.7728\n",
      "Epoch 48/50\n",
      "39487/39487 [==============================] - 10s 251us/step - loss: 0.2955 - accuracy: 0.8841 - val_loss: 0.6377 - val_accuracy: 0.7715\n",
      "Epoch 49/50\n",
      "39487/39487 [==============================] - 12s 314us/step - loss: 0.2906 - accuracy: 0.8854 - val_loss: 0.6416 - val_accuracy: 0.7736\n",
      "Epoch 50/50\n",
      "39487/39487 [==============================] - 10s 254us/step - loss: 0.2866 - accuracy: 0.8874 - val_loss: 0.6327 - val_accuracy: 0.7725\n"
     ]
    }
   ],
   "source": [
    "history = model.fit(X_train, y_train, epochs=50,batch_size=100, validation_split=0.2)"
   ]
  },
  {
   "cell_type": "code",
   "execution_count": null,
   "metadata": {},
   "outputs": [],
   "source": [
    "Die "
   ]
  },
  {
   "cell_type": "code",
   "execution_count": 31,
   "metadata": {},
   "outputs": [
    {
     "data": {
      "image/png": "[encoded data removed]",
      "text/plain": [
       "<Figure size 432x288 with 1 Axes>"
      ]
     },
     "metadata": {
      "needs_background": "light"
     },
     "output_type": "display_data"
    }
   ],
   "source": [
    "history_dict = history.history\n",
    "train_loss = history_dict['loss']\n",
    "val_loss = history_dict['val_loss']\n",
    "\n",
    "epochs = range(1, len(train_loss) + 1)\n",
    "plt.title('Training and validation loss')\n",
    "plt.plot(epochs, train_loss, label='Training loss')\n",
    "plt.plot(epochs, val_loss, label='Validation loss')\n",
    "plt.xlabel('Epoch')\n",
    "plt.ylabel('Loss')\n",
    "plt.legend()\n",
    "plt.grid()\n",
    "plt.show()\n",
    "\n",
    "epochs = range(1, len(train_loss) + 1)\n",
    "plt.title('Training and validation accuracy')\n",
    "plt.plot(epochs, train_acc, label='Training accuracy')\n",
    "plt.plot(epochs, val_acc, label='Validation accuracy')\n",
    "plt.xlabel('Epoch')\n",
    "plt.ylabel('Accuracy')\n",
    "plt.legend()\n",
    "plt.grid()\n",
    "plt.show()"
   ]
  },
  {
   "cell_type": "code",
   "execution_count": null,
   "metadata": {},
   "outputs": [],
   "source": []
  },
  {
   "cell_type": "code",
   "execution_count": null,
   "metadata": {},
   "outputs": [],
   "source": []
  },
  {
   "cell_type": "code",
   "execution_count": 30,
   "metadata": {},
   "outputs": [
    {
     "name": "stdout",
     "output_type": "stream",
     "text": [
      "6170/6170 [==============================] - 59s 10ms/step\n",
      "Test score: 0.774905686768759\n",
      "Test accuracy: 0.6536466479301453\n"
     ]
    }
   ],
   "source": [
    "\n",
    "# compute loss and accuracy on test data\n",
    "score = model.evaluate( X_test, y_test, verbose=1)\n",
    "print(\"Test score:\", score[0])\n",
    "print(\"Test accuracy:\", score[1])"
   ]
  },
  {
   "cell_type": "code",
   "execution_count": 32,
   "metadata": {},
   "outputs": [
    {
     "ename": "KeyError",
     "evalue": "'accuracy'",
     "output_type": "error",
     "traceback": [
      "\u001b[1;31m---------------------------------------------------------------------------\u001b[0m",
      "\u001b[1;31mKeyError\u001b[0m                                  Traceback (most recent call last)",
      "\u001b[1;32m<ipython-input-32-3ea101d58691>\u001b[0m in \u001b[0;36m<module>\u001b[1;34m\u001b[0m\n\u001b[0;32m      1\u001b[0m \u001b[0mhistory_dict\u001b[0m \u001b[1;33m=\u001b[0m \u001b[0mhistory\u001b[0m\u001b[1;33m.\u001b[0m\u001b[0mhistory\u001b[0m\u001b[1;33m\u001b[0m\u001b[1;33m\u001b[0m\u001b[0m\n\u001b[1;32m----> 2\u001b[1;33m \u001b[0mtrain_acc\u001b[0m \u001b[1;33m=\u001b[0m \u001b[0mhistory_dict\u001b[0m\u001b[1;33m[\u001b[0m\u001b[1;34m'accuracy'\u001b[0m\u001b[1;33m]\u001b[0m\u001b[1;33m\u001b[0m\u001b[1;33m\u001b[0m\u001b[0m\n\u001b[0m\u001b[0;32m      3\u001b[0m \u001b[0mval_acc\u001b[0m \u001b[1;33m=\u001b[0m \u001b[0mhistory_dict\u001b[0m\u001b[1;33m[\u001b[0m\u001b[1;34m'val_accuracy'\u001b[0m\u001b[1;33m]\u001b[0m\u001b[1;33m\u001b[0m\u001b[1;33m\u001b[0m\u001b[0m\n\u001b[0;32m      4\u001b[0m \u001b[1;33m\u001b[0m\u001b[0m\n\u001b[0;32m      5\u001b[0m \u001b[0mepochs\u001b[0m \u001b[1;33m=\u001b[0m \u001b[0mrange\u001b[0m\u001b[1;33m(\u001b[0m\u001b[1;36m1\u001b[0m\u001b[1;33m,\u001b[0m \u001b[0mlen\u001b[0m\u001b[1;33m(\u001b[0m\u001b[0mtrain_loss\u001b[0m\u001b[1;33m)\u001b[0m \u001b[1;33m+\u001b[0m \u001b[1;36m1\u001b[0m\u001b[1;33m)\u001b[0m\u001b[1;33m\u001b[0m\u001b[1;33m\u001b[0m\u001b[0m\n",
      "\u001b[1;31mKeyError\u001b[0m: 'accuracy'"
     ]
    }
   ],
   "source": [
    "history_dict = history.history\n",
    "train_acc = history_dict['accuracy']\n",
    "val_acc = history_dict['val_accuracy']\n",
    "\n",
    "epochs = range(1, len(train_loss) + 1)\n",
    "plt.title('Training and validation accuracy')\n",
    "plt.plot(epochs, train_acc, label='Training accuracy')\n",
    "plt.plot(epochs, val_acc, label='Validation accuracy')\n",
    "plt.xlabel('Epoch')\n",
    "plt.ylabel('Accuracy')\n",
    "plt.legend()\n",
    "plt.grid()\n",
    "plt.show()"
   ]
  },
  {
   "cell_type": "markdown",
   "metadata": {},
   "source": [
    "# Enhanced FFN"
   ]
  },
  {
   "cell_type": "code",
   "execution_count": null,
   "metadata": {},
   "outputs": [],
   "source": []
  },
  {
   "cell_type": "code",
   "execution_count": 336,
   "metadata": {},
   "outputs": [],
   "source": [
    "tfidf_vectorizer=TfidfVectorizer(stop_words=\"english\",max_features=10000, ngram_range=(1, 3),use_idf=True )\n",
    "#tfidf_vectorizer=TfidfVectorizer(max_features=10000,use_idf=False )\n",
    "\n",
    "xtrain_tfidf = tfidf_vectorizer.fit(rawData['Lyric'])\n",
    "\n",
    "X_cnt = xtrain_tfidf.transform(rawData['Lyric'])\n",
    "y_clean = vectorize_labels(rawData['Genre'])\n",
    "\n",
    "\n",
    "\n",
    "X_train, X_test, y_train, y_test = train_test_split(X_cnt, y_clean, test_size=0.2, random_state=0) #, shuffle=True)"
   ]
  },
  {
   "cell_type": "code",
   "execution_count": 339,
   "metadata": {},
   "outputs": [
    {
     "name": "stdout",
     "output_type": "stream",
     "text": [
      "Model: \"sequential_72\"\n",
      "_________________________________________________________________\n",
      "Layer (type)                 Output Shape              Param #   \n",
      "=================================================================\n",
      "dense_212 (Dense)            (None, 512)               5120512   \n",
      "_________________________________________________________________\n",
      "dense_213 (Dense)            (None, 256)               131328    \n",
      "_________________________________________________________________\n",
      "dense_214 (Dense)            (None, 6)                 1542      \n",
      "=================================================================\n",
      "Total params: 5,253,382\n",
      "Trainable params: 5,253,382\n",
      "Non-trainable params: 0\n",
      "_________________________________________________________________\n"
     ]
    }
   ],
   "source": [
    "model_tfidf = models.Sequential()\n",
    "model_tfidf.add(layers.Dense(512, activation='relu', input_shape=(10000,)))\n",
    "model_tfidf.add(layers.Dense(256, activation='relu'))\n",
    "model_tfidf.add(layers.Dense(6, activation='softmax'))\n",
    "model_tfidf.compile(optimizer='SGD', loss='categorical_crossentropy', metrics=['accuracy'])\n",
    "model_tfidf.summary()\n"
   ]
  },
  {
   "cell_type": "code",
   "execution_count": 343,
   "metadata": {
    "scrolled": false
   },
   "outputs": [
    {
     "name": "stdout",
     "output_type": "stream",
     "text": [
      "Train on 39487 samples, validate on 9872 samples\n",
      "Epoch 1/50\n",
      "39487/39487 [==============================] - 7s 182us/step - loss: 0.7158 - accuracy: 0.6799 - val_loss: 0.7095 - val_accuracy: 0.6880\n",
      "Epoch 2/50\n",
      "39487/39487 [==============================] - 8s 191us/step - loss: 0.7085 - accuracy: 0.6837 - val_loss: 0.7042 - val_accuracy: 0.6834\n",
      "Epoch 3/50\n",
      "39487/39487 [==============================] - 9s 222us/step - loss: 0.7011 - accuracy: 0.6894 - val_loss: 0.7057 - val_accuracy: 0.6773\n",
      "Epoch 4/50\n",
      "39487/39487 [==============================] - 9s 221us/step - loss: 0.6945 - accuracy: 0.6931 - val_loss: 0.6939 - val_accuracy: 0.6922\n",
      "Epoch 5/50\n",
      "39487/39487 [==============================] - 9s 229us/step - loss: 0.6874 - accuracy: 0.6965 - val_loss: 0.6892 - val_accuracy: 0.6979\n",
      "Epoch 6/50\n",
      "39487/39487 [==============================] - 9s 233us/step - loss: 0.6809 - accuracy: 0.6997 - val_loss: 0.6890 - val_accuracy: 0.7031\n",
      "Epoch 7/50\n",
      "39487/39487 [==============================] - 9s 233us/step - loss: 0.6743 - accuracy: 0.7038 - val_loss: 0.6799 - val_accuracy: 0.7006\n",
      "Epoch 8/50\n",
      "39487/39487 [==============================] - 9s 232us/step - loss: 0.6676 - accuracy: 0.7087 - val_loss: 0.6768 - val_accuracy: 0.6977\n",
      "Epoch 9/50\n",
      "39487/39487 [==============================] - 11s 268us/step - loss: 0.6615 - accuracy: 0.7117 - val_loss: 0.6725 - val_accuracy: 0.7020\n",
      "Epoch 10/50\n",
      "39487/39487 [==============================] - 10s 253us/step - loss: 0.6553 - accuracy: 0.7141 - val_loss: 0.6690 - val_accuracy: 0.7032\n",
      "Epoch 11/50\n",
      "39487/39487 [==============================] - 10s 247us/step - loss: 0.6492 - accuracy: 0.7178 - val_loss: 0.6728 - val_accuracy: 0.7054\n",
      "Epoch 12/50\n",
      "39487/39487 [==============================] - 10s 248us/step - loss: 0.6434 - accuracy: 0.7213 - val_loss: 0.6637 - val_accuracy: 0.7092\n",
      "Epoch 13/50\n",
      "39487/39487 [==============================] - 10s 247us/step - loss: 0.6370 - accuracy: 0.7252 - val_loss: 0.6604 - val_accuracy: 0.7088\n",
      "Epoch 14/50\n",
      "39487/39487 [==============================] - 10s 262us/step - loss: 0.6316 - accuracy: 0.7282 - val_loss: 0.6573 - val_accuracy: 0.7086\n",
      "Epoch 15/50\n",
      "39487/39487 [==============================] - 10s 258us/step - loss: 0.6258 - accuracy: 0.7319 - val_loss: 0.6533 - val_accuracy: 0.7096\n",
      "Epoch 16/50\n",
      "39487/39487 [==============================] - 10s 252us/step - loss: 0.6202 - accuracy: 0.7352 - val_loss: 0.6521 - val_accuracy: 0.7097\n",
      "Epoch 17/50\n",
      "39487/39487 [==============================] - 10s 252us/step - loss: 0.6149 - accuracy: 0.7384 - val_loss: 0.6489 - val_accuracy: 0.7136\n",
      "Epoch 18/50\n",
      "39487/39487 [==============================] - 11s 285us/step - loss: 0.6094 - accuracy: 0.7419 - val_loss: 0.6481 - val_accuracy: 0.7128\n",
      "Epoch 19/50\n",
      "39487/39487 [==============================] - 11s 270us/step - loss: 0.6036 - accuracy: 0.7453 - val_loss: 0.6458 - val_accuracy: 0.7149\n",
      "Epoch 20/50\n",
      "39487/39487 [==============================] - 11s 271us/step - loss: 0.5989 - accuracy: 0.7482 - val_loss: 0.6410 - val_accuracy: 0.7149\n",
      "Epoch 21/50\n",
      "39487/39487 [==============================] - 10s 249us/step - loss: 0.5937 - accuracy: 0.7503 - val_loss: 0.6410 - val_accuracy: 0.7158\n",
      "Epoch 22/50\n",
      "39487/39487 [==============================] - 10s 255us/step - loss: 0.5885 - accuracy: 0.7538 - val_loss: 0.6449 - val_accuracy: 0.7169\n",
      "Epoch 23/50\n",
      "39487/39487 [==============================] - 10s 249us/step - loss: 0.5836 - accuracy: 0.7554 - val_loss: 0.6365 - val_accuracy: 0.7165\n",
      "Epoch 24/50\n",
      "39487/39487 [==============================] - 10s 249us/step - loss: 0.5782 - accuracy: 0.7586 - val_loss: 0.6335 - val_accuracy: 0.7175\n",
      "Epoch 25/50\n",
      "39487/39487 [==============================] - 10s 254us/step - loss: 0.5737 - accuracy: 0.7608 - val_loss: 0.6329 - val_accuracy: 0.7207\n",
      "Epoch 26/50\n",
      "39487/39487 [==============================] - 10s 259us/step - loss: 0.5688 - accuracy: 0.7631 - val_loss: 0.6325 - val_accuracy: 0.7225\n",
      "Epoch 27/50\n",
      "39487/39487 [==============================] - 10s 258us/step - loss: 0.5642 - accuracy: 0.7655 - val_loss: 0.6334 - val_accuracy: 0.7208\n",
      "Epoch 28/50\n",
      "39487/39487 [==============================] - 10s 261us/step - loss: 0.5600 - accuracy: 0.7679 - val_loss: 0.6397 - val_accuracy: 0.7145\n",
      "Epoch 29/50\n",
      "39487/39487 [==============================] - 10s 249us/step - loss: 0.5549 - accuracy: 0.7707 - val_loss: 0.6271 - val_accuracy: 0.7199\n",
      "Epoch 30/50\n",
      "39487/39487 [==============================] - 10s 259us/step - loss: 0.5510 - accuracy: 0.7725 - val_loss: 0.6264 - val_accuracy: 0.7235\n",
      "Epoch 31/50\n",
      "39487/39487 [==============================] - 10s 259us/step - loss: 0.5458 - accuracy: 0.7754 - val_loss: 0.6399 - val_accuracy: 0.7146\n",
      "Epoch 32/50\n",
      "39487/39487 [==============================] - 10s 258us/step - loss: 0.5418 - accuracy: 0.7769 - val_loss: 0.6333 - val_accuracy: 0.7217\n",
      "Epoch 33/50\n",
      "39487/39487 [==============================] - 10s 252us/step - loss: 0.5375 - accuracy: 0.7798 - val_loss: 0.6242 - val_accuracy: 0.7274\n",
      "Epoch 34/50\n",
      "39487/39487 [==============================] - 10s 265us/step - loss: 0.5321 - accuracy: 0.7825 - val_loss: 0.6302 - val_accuracy: 0.7209\n",
      "Epoch 35/50\n",
      "39487/39487 [==============================] - 11s 269us/step - loss: 0.5286 - accuracy: 0.7840 - val_loss: 0.6232 - val_accuracy: 0.7235\n",
      "Epoch 36/50\n",
      "39487/39487 [==============================] - 10s 261us/step - loss: 0.5248 - accuracy: 0.7870 - val_loss: 0.6219 - val_accuracy: 0.7257\n",
      "Epoch 37/50\n",
      "39487/39487 [==============================] - 10s 256us/step - loss: 0.5213 - accuracy: 0.7889 - val_loss: 0.6241 - val_accuracy: 0.7289\n",
      "Epoch 38/50\n",
      "39487/39487 [==============================] - 11s 268us/step - loss: 0.5161 - accuracy: 0.7885 - val_loss: 0.6263 - val_accuracy: 0.7287\n",
      "Epoch 39/50\n",
      "39487/39487 [==============================] - 10s 259us/step - loss: 0.5117 - accuracy: 0.7914 - val_loss: 0.6221 - val_accuracy: 0.7295\n",
      "Epoch 40/50\n",
      "39487/39487 [==============================] - 10s 252us/step - loss: 0.5079 - accuracy: 0.7952 - val_loss: 0.6346 - val_accuracy: 0.7137\n",
      "Epoch 41/50\n",
      "39487/39487 [==============================] - 10s 256us/step - loss: 0.5041 - accuracy: 0.7967 - val_loss: 0.6337 - val_accuracy: 0.7267\n",
      "Epoch 42/50\n",
      "39487/39487 [==============================] - 10s 258us/step - loss: 0.5011 - accuracy: 0.7980 - val_loss: 0.6230 - val_accuracy: 0.7246\n",
      "Epoch 43/50\n",
      "39487/39487 [==============================] - 10s 258us/step - loss: 0.4979 - accuracy: 0.7992 - val_loss: 0.6210 - val_accuracy: 0.7334\n",
      "Epoch 44/50\n",
      "39487/39487 [==============================] - 12s 297us/step - loss: 0.4938 - accuracy: 0.8014 - val_loss: 0.6261 - val_accuracy: 0.7204\n",
      "Epoch 45/50\n",
      "39487/39487 [==============================] - 11s 281us/step - loss: 0.4903 - accuracy: 0.8022 - val_loss: 0.6324 - val_accuracy: 0.7169\n",
      "Epoch 46/50\n",
      "39487/39487 [==============================] - 11s 281us/step - loss: 0.4864 - accuracy: 0.8055 - val_loss: 0.6325 - val_accuracy: 0.7209\n",
      "Epoch 47/50\n",
      "39487/39487 [==============================] - 11s 270us/step - loss: 0.4832 - accuracy: 0.8075 - val_loss: 0.6430 - val_accuracy: 0.7134\n",
      "Epoch 48/50\n",
      "39487/39487 [==============================] - 11s 280us/step - loss: 0.4803 - accuracy: 0.8070 - val_loss: 0.6232 - val_accuracy: 0.7264\n",
      "Epoch 49/50\n",
      "39487/39487 [==============================] - 12s 302us/step - loss: 0.4764 - accuracy: 0.8110 - val_loss: 0.6251 - val_accuracy: 0.7349\n",
      "Epoch 50/50\n",
      "39487/39487 [==============================] - 11s 274us/step - loss: 0.4732 - accuracy: 0.8106 - val_loss: 0.6259 - val_accuracy: 0.7253\n"
     ]
    }
   ],
   "source": [
    "history_tfidf = model_tfidf.fit(X_train, y_train, epochs=50, batch_size=100, validation_split=0.2)"
   ]
  },
  {
   "cell_type": "code",
   "execution_count": 341,
   "metadata": {},
   "outputs": [
    {
     "data": {
      "image/png": "[encoded data removed]",
      "text/plain": [
       "<Figure size 432x288 with 1 Axes>"
      ]
     },
     "metadata": {
      "needs_background": "light"
     },
     "output_type": "display_data"
    }
   ],
   "source": [
    "history_dict = history_tfidf.history\n",
    "train_loss = history_dict['loss']\n",
    "val_loss = history_dict['val_loss']\n",
    "\n",
    "epochs = range(1, len(train_loss) + 1)\n",
    "plt.title('Training and validation loss')\n",
    "plt.plot(epochs, train_loss, label='Training loss')\n",
    "plt.plot(epochs, val_loss, label='Validation loss')\n",
    "plt.xlabel('Epoch')\n",
    "plt.ylabel('Loss')\n",
    "plt.legend()\n",
    "plt.grid()\n",
    "plt.show()"
   ]
  },
  {
   "cell_type": "code",
   "execution_count": 342,
   "metadata": {},
   "outputs": [
    {
     "name": "stdout",
     "output_type": "stream",
     "text": [
      "12340/12340 [==============================] - 2s 178us/step\n",
      "Test score: 0.7363430395118614\n",
      "Test accuracy: 0.6688817143440247\n"
     ]
    }
   ],
   "source": [
    "#xtest_tfidf = tfidf_vectorizer.fit(rawData['Lyric'])\n",
    "\n",
    "#X_test = xtest_tfidf.transform(test['Lyric'])\n",
    "\n",
    "\n",
    "#Y_test = vectorize_labels(test['Genre'])\n",
    "\n",
    "# compute loss and accuracy on test data\n",
    "score = model_tfidf.evaluate(X_test, y_test, verbose=1)\n",
    "print(\"Test score:\", score[0])\n",
    "print(\"Test accuracy:\", score[1])"
   ]
  },
  {
   "cell_type": "code",
   "execution_count": 287,
   "metadata": {},
   "outputs": [
    {
     "data": {
      "image/png": "[encoded data removed]",
      "text/plain": [
       "<Figure size 432x288 with 1 Axes>"
      ]
     },
     "metadata": {
      "needs_background": "light"
     },
     "output_type": "display_data"
    }
   ],
   "source": [
    "history_dict = history_tfidf.history\n",
    "train_acc = history_dict['accuracy']\n",
    "val_acc = history_dict['val_accuracy']\n",
    "\n",
    "epochs = range(1, len(train_loss) + 1)\n",
    "plt.title('Training and validation accuracy')\n",
    "plt.plot(epochs, train_acc, label='Training accuracy')\n",
    "plt.plot(epochs, val_acc, label='Validation accuracy')\n",
    "plt.xlabel('Epoch')\n",
    "plt.ylabel('Accuracy')\n",
    "plt.legend()\n",
    "plt.grid()\n",
    "plt.show()"
   ]
  },
  {
   "cell_type": "markdown",
   "metadata": {
    "scrolled": true
   },
   "source": [
    "#Long short-term memory neural network"
   ]
  },
  {
   "cell_type": "code",
   "execution_count": null,
   "metadata": {},
   "outputs": [],
   "source": []
  },
  {
   "cell_type": "code",
   "execution_count": 11,
   "metadata": {},
   "outputs": [],
   "source": [
    "import numpy as np\n",
    "from keras import models\n",
    "from keras import layers\n",
    "from keras.models import Sequential\n",
    "from keras.layers import Dense\n",
    "from keras.layers import LSTM\n",
    "from keras.layers import Embedding\n",
    "from keras.layers import Flatten\n",
    "from keras.preprocessing import sequence\n",
    "from keras.initializers import Constant\n",
    "\n",
    "\n",
    "# number of most frequent words to consider\n",
    "num_words = 10000\n",
    "\n",
    "# maximum length of reviews (only the first so many words are considered)\n",
    "max_len = 500\n",
    "\n",
    "# embedding dimensionality\n",
    "emb_dim = 300\n",
    "\n",
    "rawData = pd.read_csv('cleanedDataset.csv')\n"
   ]
  },
  {
   "cell_type": "code",
   "execution_count": 12,
   "metadata": {},
   "outputs": [],
   "source": [
    "#Data Prep"
   ]
  },
  {
   "cell_type": "code",
   "execution_count": 20,
   "metadata": {},
   "outputs": [],
   "source": [
    "tokenizer = Tokenizer(num_words=num_words, filters='!\"#$%&()*+,-./:;<=>?@[\\\\]^_`{|}~\\t\\n')\n",
    "tokenizer.fit_on_texts(rawData['Lyric'])\n",
    "sequences = tokenizer.texts_to_sequences(rawData['Lyric'])\n",
    "X_clean = sequence.pad_sequences(sequences,maxlen=max_len)\n",
    "\n",
    "Y_clean = vectorize_labels(rawData['Genre'])\n",
    "\n",
    "\n",
    "X_train, X_test, y_train, y_test = train_test_split(X_clean, Y_clean, test_size=0.1, random_state=0, shuffle=True)"
   ]
  },
  {
   "cell_type": "code",
   "execution_count": 21,
   "metadata": {},
   "outputs": [
    {
     "name": "stdout",
     "output_type": "stream",
     "text": [
      "Found 400000 word vectors.\n"
     ]
    }
   ],
   "source": [
    "embeddings_index = {}\n",
    "f = open('glove.6B.300d.txt',encoding=\"utf8\")\n",
    "for line in f:\n",
    "    values = line.split()\n",
    "    word = values[0]\n",
    "    coefs = np.asarray(values[1:], dtype='float32')\n",
    "    embeddings_index[word] = coefs\n",
    "f.close()\n",
    "\n",
    "print('Found %s word vectors.' % len(embeddings_index))\n",
    "\n",
    "\n",
    "word_index= tokenizer.word_index\n",
    "embedding_matrix = np.zeros((len(word_index) + 1, emb_dim))\n",
    "for word, i in word_index.items():\n",
    "    embedding_vector = embeddings_index.get(word)\n",
    "    if embedding_vector is not None:\n",
    "        # words not found in embedding index will be all-zeros.\n",
    "        embedding_matrix[i] = embedding_vector\n",
    "        \n",
    "num_words = min(num_words, len(word_index) + 1)\n",
    "embedding_matrix = np.zeros((num_words, emb_dim))\n",
    "for word, i in word_index.items():\n",
    "    if i >= num_words:\n",
    "        continue\n",
    "    embedding_vector = embeddings_index.get(word)\n",
    "    if embedding_vector is not None:\n",
    "        # words not found in embedding index will be all-zeros.\n",
    "        embedding_matrix[i] = embedding_vector\n",
    "        \n",
    "        \n",
    "        "
   ]
  },
  {
   "cell_type": "code",
   "execution_count": null,
   "metadata": {},
   "outputs": [],
   "source": []
  },
  {
   "cell_type": "code",
   "execution_count": null,
   "metadata": {
    "scrolled": false
   },
   "outputs": [
    {
     "name": "stdout",
     "output_type": "stream",
     "text": [
      "Model: \"sequential_12\"\n",
      "_________________________________________________________________\n",
      "Layer (type)                 Output Shape              Param #   \n",
      "=================================================================\n",
      "embedding_11 (Embedding)     (None, 500, 300)          3000000   \n",
      "_________________________________________________________________\n",
      "lstm_11 (LSTM)               (None, 128)               219648    \n",
      "_________________________________________________________________\n",
      "dense_11 (Dense)             (None, 6)                 774       \n",
      "=================================================================\n",
      "Total params: 3,220,422\n",
      "Trainable params: 220,422\n",
      "Non-trainable params: 3,000,000\n",
      "_________________________________________________________________\n",
      "Train on 44423 samples, validate on 11106 samples\n",
      "Epoch 1/24\n",
      "44423/44423 [==============================] - 567s 13ms/step - loss: 1.0435 - acc: 0.4892 - val_loss: 0.9805 - val_acc: 0.5176\n",
      "Epoch 2/24\n",
      "44423/44423 [==============================] - 602s 14ms/step - loss: 0.9816 - acc: 0.5181 - val_loss: 0.9364 - val_acc: 0.5516\n",
      "Epoch 3/24\n",
      "44423/44423 [==============================] - 583s 13ms/step - loss: 0.9266 - acc: 0.5523 - val_loss: 0.8595 - val_acc: 0.6017\n",
      "Epoch 4/24\n",
      "44423/44423 [==============================] - 565s 13ms/step - loss: 0.8759 - acc: 0.5852 - val_loss: 0.8410 - val_acc: 0.6231\n",
      "Epoch 5/24\n",
      "44423/44423 [==============================] - 543s 12ms/step - loss: 0.8399 - acc: 0.6100 - val_loss: 0.8026 - val_acc: 0.6399\n",
      "Epoch 6/24\n",
      "44423/44423 [==============================] - 542s 12ms/step - loss: 0.8153 - acc: 0.6274 - val_loss: 0.8016 - val_acc: 0.6433\n",
      "Epoch 7/24\n",
      "38600/44423 [=========================>....] - ETA: 1:08 - loss: 0.8008 - acc: 0.6357"
     ]
    }
   ],
   "source": [
    "model = Sequential()\n",
    "model.add((Embedding(num_words,emb_dim, \n",
    "                    embeddings_initializer=Constant(embedding_matrix),input_length=max_len,\n",
    "                    trainable=False)))\n",
    "model.add(LSTM(128, recurrent_dropout=0.8, dropout=0.8))\n",
    "#model.add(LSTM(128))\n",
    "model.add(Dense(6, activation='softmax'))\n",
    "model.summary() \n",
    "\n",
    "model.compile(optimizer='rmsprop', loss='categorical_crossentropy', metrics=['acc'])\n",
    "history = model.fit(X_train,y_train, epochs=24, batch_size=200, validation_split=0.2)\n",
    "\n"
   ]
  },
  {
   "cell_type": "code",
   "execution_count": null,
   "metadata": {},
   "outputs": [],
   "source": []
  },
  {
   "cell_type": "code",
   "execution_count": 27,
   "metadata": {},
   "outputs": [
    {
     "data": {
      "image/png": "[encoded data removed]",
      "text/plain": [
       "<Figure size 432x288 with 1 Axes>"
      ]
     },
     "metadata": {
      "needs_background": "light"
     },
     "output_type": "display_data"
    }
   ],
   "source": [
    "history_dict = history.history\n",
    "train_loss = history_dict['loss']\n",
    "val_loss = history_dict['val_loss']\n",
    "\n",
    "epochs = range(1, len(train_loss) + 1)\n",
    "plt.title('Training and validation loss')\n",
    "plt.plot(epochs, train_loss, label='Training loss')\n",
    "plt.plot(epochs, val_loss, label='Validation loss')\n",
    "plt.xlabel('Epoch')\n",
    "plt.ylabel('Loss')\n",
    "plt.legend()\n",
    "plt.grid()\n",
    "plt.show()"
   ]
  },
  {
   "cell_type": "code",
   "execution_count": 28,
   "metadata": {},
   "outputs": [
    {
     "name": "stdout",
     "output_type": "stream",
     "text": [
      "6170/6170 [==============================] - 44s 7ms/step\n",
      "Test score: 0.9294884932099131\n",
      "Test accuracy: 0.7635332345962524\n"
     ]
    }
   ],
   "source": [
    "# compute loss and accuracy on test data\n",
    "score = model.evaluate(X_test, y_test, verbose=1)\n",
    "print(\"Test score:\", score[0])\n",
    "print(\"Test accuracy:\", score[1])"
   ]
  },
  {
   "cell_type": "code",
   "execution_count": 379,
   "metadata": {},
   "outputs": [
    {
     "data": {
      "image/png": "[encoded data removed]",
      "text/plain": [
       "<Figure size 432x288 with 1 Axes>"
      ]
     },
     "metadata": {
      "needs_background": "light"
     },
     "output_type": "display_data"
    }
   ],
   "source": [
    "history_dict = history.history\n",
    "train_acc = history_dict['acc']\n",
    "val_acc = history_dict['val_acc']\n",
    "\n",
    "epochs = range(1, len(train_loss) + 1)\n",
    "plt.title('Training and validation accuracy')\n",
    "plt.plot(epochs, train_acc, label='Training accuracy')\n",
    "plt.plot(epochs, val_acc, label='Validation accuracy')\n",
    "plt.xlabel('Epoch')\n",
    "plt.ylabel('Accuracy')\n",
    "plt.legend()\n",
    "plt.grid()\n",
    "plt.show()"
   ]
  },
  {
   "cell_type": "code",
   "execution_count": 362,
   "metadata": {},
   "outputs": [],
   "source": []
  },
  {
   "cell_type": "code",
   "execution_count": 363,
   "metadata": {},
   "outputs": [
    {
     "data": {
      "text/html": [
       "<div>\n",
       "<style scoped>\n",
       "    .dataframe tbody tr th:only-of-type {\n",
       "        vertical-align: middle;\n",
       "    }\n",
       "\n",
       "    .dataframe tbody tr th {\n",
       "        vertical-align: top;\n",
       "    }\n",
       "\n",
       "    .dataframe thead th {\n",
       "        text-align: right;\n",
       "    }\n",
       "</style>\n",
       "<table border=\"1\" class=\"dataframe\">\n",
       "  <thead>\n",
       "    <tr style=\"text-align: right;\">\n",
       "      <th></th>\n",
       "      <th>Link</th>\n",
       "      <th>SName</th>\n",
       "      <th>SLink</th>\n",
       "      <th>Lyric</th>\n",
       "      <th>Idiom</th>\n",
       "      <th>Artist</th>\n",
       "      <th>Songs</th>\n",
       "      <th>Popularity</th>\n",
       "      <th>Genre</th>\n",
       "      <th>Genres</th>\n",
       "    </tr>\n",
       "  </thead>\n",
       "  <tbody>\n",
       "    <tr>\n",
       "      <td>13194</td>\n",
       "      <td>/david-bowie/</td>\n",
       "      <td>Law [Earthing On Fire]</td>\n",
       "      <td>/david-bowie/law-earthing-on-fire.html</td>\n",
       "      <td>i don't want knowledge, i want certainty. i do...</td>\n",
       "      <td>ENGLISH</td>\n",
       "      <td>David Bowie</td>\n",
       "      <td>458</td>\n",
       "      <td>8.1</td>\n",
       "      <td>Rock</td>\n",
       "      <td>Rock; Pop/Rock; Folk; Psicodelia; Soul Music; ...</td>\n",
       "    </tr>\n",
       "    <tr>\n",
       "      <td>53220</td>\n",
       "      <td>/ted-nugent/</td>\n",
       "      <td>Just What The Doctor Ordered</td>\n",
       "      <td>/ted-nugent/just-what-the-doctor-ordered.html</td>\n",
       "      <td>i got my guitar when i was 10 years old. found...</td>\n",
       "      <td>ENGLISH</td>\n",
       "      <td>Ted Nugent</td>\n",
       "      <td>27</td>\n",
       "      <td>0.1</td>\n",
       "      <td>Rock</td>\n",
       "      <td>Rock; Instrumental</td>\n",
       "    </tr>\n",
       "    <tr>\n",
       "      <td>68134</td>\n",
       "      <td>/beyonce/</td>\n",
       "      <td>***Flawless (Feat. Nicki Minaj)</td>\n",
       "      <td>/beyonce/flawless-feat-nicki-minaj.html</td>\n",
       "      <td>dum-da-de-da. do, do, do, do, do, do. (coming ...</td>\n",
       "      <td>ENGLISH</td>\n",
       "      <td>Beyoncé</td>\n",
       "      <td>249</td>\n",
       "      <td>40.8</td>\n",
       "      <td>Pop</td>\n",
       "      <td>Pop; R&amp;B; Black Music; Romântico; Dance; Hip H...</td>\n",
       "    </tr>\n",
       "    <tr>\n",
       "      <td>62871</td>\n",
       "      <td>/van-morrison/</td>\n",
       "      <td>Dweller On The Threshold</td>\n",
       "      <td>/van-morrison/dweller-on-the-threshold.html</td>\n",
       "      <td>i'm a dweller on the threshold. and i'm waitin...</td>\n",
       "      <td>ENGLISH</td>\n",
       "      <td>Van Morrison</td>\n",
       "      <td>496</td>\n",
       "      <td>0.8</td>\n",
       "      <td>Rock</td>\n",
       "      <td>Rock; Soul Music; Folk; R&amp;B; Blues; Jazz</td>\n",
       "    </tr>\n",
       "    <tr>\n",
       "      <td>119317</td>\n",
       "      <td>/sugababes/</td>\n",
       "      <td>Red Dress (extended Version)</td>\n",
       "      <td>/sugababes/red-dress-extended-version.html</td>\n",
       "      <td>cause i'm cooler than the red dress. cause i'm...</td>\n",
       "      <td>ENGLISH</td>\n",
       "      <td>Sugababes</td>\n",
       "      <td>134</td>\n",
       "      <td>0.2</td>\n",
       "      <td>Pop</td>\n",
       "      <td>Pop; R&amp;B; Dance; Trilha Sonora; Tecnopop</td>\n",
       "    </tr>\n",
       "    <tr>\n",
       "      <td>...</td>\n",
       "      <td>...</td>\n",
       "      <td>...</td>\n",
       "      <td>...</td>\n",
       "      <td>...</td>\n",
       "      <td>...</td>\n",
       "      <td>...</td>\n",
       "      <td>...</td>\n",
       "      <td>...</td>\n",
       "      <td>...</td>\n",
       "      <td>...</td>\n",
       "    </tr>\n",
       "    <tr>\n",
       "      <td>79265</td>\n",
       "      <td>/jay-z/</td>\n",
       "      <td>Umbrella (Cinderella remix)</td>\n",
       "      <td>/jay-z/umbrella-cinderella-remix.html</td>\n",
       "      <td>[jay-z]. ahuh ahuh (yea rihanna, chris brown)....</td>\n",
       "      <td>ENGLISH</td>\n",
       "      <td>Jay-Z</td>\n",
       "      <td>312</td>\n",
       "      <td>4.0</td>\n",
       "      <td>Hip Hop</td>\n",
       "      <td>Hip Hop; Rap; Black Music; World Music; House;...</td>\n",
       "    </tr>\n",
       "    <tr>\n",
       "      <td>102337</td>\n",
       "      <td>/david-archuleta/</td>\n",
       "      <td>Invincible</td>\n",
       "      <td>/david-archuleta/invincible.html</td>\n",
       "      <td>i started a war. i sent out a battle cry. and ...</td>\n",
       "      <td>ENGLISH</td>\n",
       "      <td>David Archuleta</td>\n",
       "      <td>126</td>\n",
       "      <td>0.6</td>\n",
       "      <td>Pop</td>\n",
       "      <td>Pop; Romântico; Pop/Rock; Gospel/Religioso</td>\n",
       "    </tr>\n",
       "    <tr>\n",
       "      <td>74526</td>\n",
       "      <td>/eminem/</td>\n",
       "      <td>8 Mile Freestyle - Vs. Lotto</td>\n",
       "      <td>/eminem/8-mile-lotto-vs-rabbit.html</td>\n",
       "      <td>[lotto]. yo, i spit a racial slur. honky, sue ...</td>\n",
       "      <td>ENGLISH</td>\n",
       "      <td>Eminem</td>\n",
       "      <td>446</td>\n",
       "      <td>79.9</td>\n",
       "      <td>Hip Hop</td>\n",
       "      <td>Hip Hop; Rap; Black Music; Funk; Electronica; ...</td>\n",
       "    </tr>\n",
       "    <tr>\n",
       "      <td>38107</td>\n",
       "      <td>/neil-young/</td>\n",
       "      <td>Your Love</td>\n",
       "      <td>/neil-young/your-love.html</td>\n",
       "      <td>your love is good to me. i should be standing ...</td>\n",
       "      <td>ENGLISH</td>\n",
       "      <td>Neil Young</td>\n",
       "      <td>490</td>\n",
       "      <td>3.1</td>\n",
       "      <td>Rock</td>\n",
       "      <td>Rock; Folk; Grunge; Country; Hard Rock; Electr...</td>\n",
       "    </tr>\n",
       "    <tr>\n",
       "      <td>92937</td>\n",
       "      <td>/2pac-tupac-shakur/</td>\n",
       "      <td>Gotta Get Mine</td>\n",
       "      <td>/2pac-tupac-shakur/gotta-get-mine.html</td>\n",
       "      <td>{chorus}. i gotta get mine,you gotta get yours...</td>\n",
       "      <td>ENGLISH</td>\n",
       "      <td>Tupac Shakur</td>\n",
       "      <td>383</td>\n",
       "      <td>10.0</td>\n",
       "      <td>Hip Hop</td>\n",
       "      <td>Hip Hop</td>\n",
       "    </tr>\n",
       "  </tbody>\n",
       "</table>\n",
       "<p>61699 rows × 10 columns</p>\n",
       "</div>"
      ],
      "text/plain": [
       "                       Link                            SName  \\\n",
       "13194         /david-bowie/           Law [Earthing On Fire]   \n",
       "53220          /ted-nugent/     Just What The Doctor Ordered   \n",
       "68134             /beyonce/  ***Flawless (Feat. Nicki Minaj)   \n",
       "62871        /van-morrison/         Dweller On The Threshold   \n",
       "119317          /sugababes/     Red Dress (extended Version)   \n",
       "...                     ...                              ...   \n",
       "79265               /jay-z/      Umbrella (Cinderella remix)   \n",
       "102337    /david-archuleta/                       Invincible   \n",
       "74526              /eminem/     8 Mile Freestyle - Vs. Lotto   \n",
       "38107          /neil-young/                        Your Love   \n",
       "92937   /2pac-tupac-shakur/                   Gotta Get Mine   \n",
       "\n",
       "                                                SLink  \\\n",
       "13194          /david-bowie/law-earthing-on-fire.html   \n",
       "53220   /ted-nugent/just-what-the-doctor-ordered.html   \n",
       "68134         /beyonce/flawless-feat-nicki-minaj.html   \n",
       "62871     /van-morrison/dweller-on-the-threshold.html   \n",
       "119317     /sugababes/red-dress-extended-version.html   \n",
       "...                                               ...   \n",
       "79265           /jay-z/umbrella-cinderella-remix.html   \n",
       "102337               /david-archuleta/invincible.html   \n",
       "74526             /eminem/8-mile-lotto-vs-rabbit.html   \n",
       "38107                      /neil-young/your-love.html   \n",
       "92937          /2pac-tupac-shakur/gotta-get-mine.html   \n",
       "\n",
       "                                                    Lyric    Idiom  \\\n",
       "13194   i don't want knowledge, i want certainty. i do...  ENGLISH   \n",
       "53220   i got my guitar when i was 10 years old. found...  ENGLISH   \n",
       "68134   dum-da-de-da. do, do, do, do, do, do. (coming ...  ENGLISH   \n",
       "62871   i'm a dweller on the threshold. and i'm waitin...  ENGLISH   \n",
       "119317  cause i'm cooler than the red dress. cause i'm...  ENGLISH   \n",
       "...                                                   ...      ...   \n",
       "79265   [jay-z]. ahuh ahuh (yea rihanna, chris brown)....  ENGLISH   \n",
       "102337  i started a war. i sent out a battle cry. and ...  ENGLISH   \n",
       "74526   [lotto]. yo, i spit a racial slur. honky, sue ...  ENGLISH   \n",
       "38107   your love is good to me. i should be standing ...  ENGLISH   \n",
       "92937   {chorus}. i gotta get mine,you gotta get yours...  ENGLISH   \n",
       "\n",
       "                 Artist  Songs  Popularity    Genre  \\\n",
       "13194       David Bowie    458         8.1     Rock   \n",
       "53220        Ted Nugent     27         0.1     Rock   \n",
       "68134           Beyoncé    249        40.8      Pop   \n",
       "62871      Van Morrison    496         0.8     Rock   \n",
       "119317        Sugababes    134         0.2      Pop   \n",
       "...                 ...    ...         ...      ...   \n",
       "79265             Jay-Z    312         4.0  Hip Hop   \n",
       "102337  David Archuleta    126         0.6      Pop   \n",
       "74526            Eminem    446        79.9  Hip Hop   \n",
       "38107        Neil Young    490         3.1     Rock   \n",
       "92937      Tupac Shakur    383        10.0  Hip Hop   \n",
       "\n",
       "                                                   Genres  \n",
       "13194   Rock; Pop/Rock; Folk; Psicodelia; Soul Music; ...  \n",
       "53220                                  Rock; Instrumental  \n",
       "68134   Pop; R&B; Black Music; Romântico; Dance; Hip H...  \n",
       "62871            Rock; Soul Music; Folk; R&B; Blues; Jazz  \n",
       "119317           Pop; R&B; Dance; Trilha Sonora; Tecnopop  \n",
       "...                                                   ...  \n",
       "79265   Hip Hop; Rap; Black Music; World Music; House;...  \n",
       "102337         Pop; Romântico; Pop/Rock; Gospel/Religioso  \n",
       "74526   Hip Hop; Rap; Black Music; Funk; Electronica; ...  \n",
       "38107   Rock; Folk; Grunge; Country; Hard Rock; Electr...  \n",
       "92937                                             Hip Hop  \n",
       "\n",
       "[61699 rows x 10 columns]"
      ]
     },
     "execution_count": 363,
     "metadata": {},
     "output_type": "execute_result"
    }
   ],
   "source": []
  },
  {
   "cell_type": "code",
   "execution_count": 375,
   "metadata": {},
   "outputs": [
    {
     "name": "stderr",
     "output_type": "stream",
     "text": [
      "2020-09-29 07:51:06,707 : INFO : Build & train Word2Vec model\n",
      "2020-09-29 07:51:06,707 : INFO : collecting all words and their counts\n",
      "2020-09-29 07:51:06,707 : INFO : PROGRESS: at sentence #0, processed 0 words, keeping 0 word types\n",
      "2020-09-29 07:51:06,723 : INFO : PROGRESS: at sentence #10000, processed 0 words, keeping 0 word types\n",
      "2020-09-29 07:51:06,729 : INFO : PROGRESS: at sentence #20000, processed 0 words, keeping 0 word types\n",
      "2020-09-29 07:51:06,729 : INFO : PROGRESS: at sentence #30000, processed 0 words, keeping 0 word types\n",
      "2020-09-29 07:51:06,745 : INFO : PROGRESS: at sentence #40000, processed 0 words, keeping 0 word types\n",
      "2020-09-29 07:51:06,745 : INFO : collected 0 word types from a corpus of 0 raw words and 49359 sentences\n",
      "2020-09-29 07:51:06,745 : INFO : Loading a fresh vocabulary\n",
      "2020-09-29 07:51:06,745 : INFO : effective_min_count=1 retains 0 unique words (0% of original 0, drops 0)\n",
      "2020-09-29 07:51:06,745 : INFO : effective_min_count=1 leaves 0 word corpus (0% of original 0, drops 0)\n",
      "2020-09-29 07:51:06,760 : INFO : deleting the raw counts dictionary of 0 items\n",
      "2020-09-29 07:51:06,760 : INFO : sample=0.001 downsamples 0 most-common words\n",
      "2020-09-29 07:51:06,760 : INFO : downsampling leaves estimated 0 word corpus (0.0% of prior 0)\n",
      "2020-09-29 07:51:06,760 : INFO : estimated required memory for 0 words and 300 dimensions: 0 bytes\n",
      "2020-09-29 07:51:06,760 : INFO : resetting layer weights\n"
     ]
    },
    {
     "ename": "RuntimeError",
     "evalue": "you must first build vocabulary before training the model",
     "output_type": "error",
     "traceback": [
      "\u001b[1;31m---------------------------------------------------------------------------\u001b[0m",
      "\u001b[1;31mRuntimeError\u001b[0m                              Traceback (most recent call last)",
      "\u001b[1;32m<ipython-input-375-ff9d1e03877c>\u001b[0m in \u001b[0;36m<module>\u001b[1;34m\u001b[0m\n\u001b[0;32m      1\u001b[0m \u001b[0mmodel1\u001b[0m \u001b[1;33m=\u001b[0m \u001b[0mWord2VecKeras\u001b[0m\u001b[1;33m(\u001b[0m\u001b[1;33m)\u001b[0m\u001b[1;33m\u001b[0m\u001b[1;33m\u001b[0m\u001b[0m\n\u001b[0;32m      2\u001b[0m \u001b[1;33m\u001b[0m\u001b[0m\n\u001b[1;32m----> 3\u001b[1;33m \u001b[0mmodel1\u001b[0m\u001b[1;33m.\u001b[0m\u001b[0mtrain\u001b[0m\u001b[1;33m(\u001b[0m\u001b[0mX_train\u001b[0m\u001b[1;33m,\u001b[0m\u001b[0my_train\u001b[0m\u001b[1;33m)\u001b[0m\u001b[1;33m\u001b[0m\u001b[1;33m\u001b[0m\u001b[0m\n\u001b[0m",
      "\u001b[1;32mG:\\Anaconda3\\lib\\site-packages\\word2vec_keras\\word2vec_keras.py\u001b[0m in \u001b[0;36mtrain\u001b[1;34m(self, x_train, y_train, w2v_size, w2v_window, w2v_min_count, w2v_epochs, k_max_sequence_len, k_batch_size, k_epochs, k_lstm_neurons, k_hidden_layer_neurons, verbose)\u001b[0m\n\u001b[0;32m     88\u001b[0m                                                 workers=multiprocessing.cpu_count())\n\u001b[0;32m     89\u001b[0m         \u001b[0mself\u001b[0m\u001b[1;33m.\u001b[0m\u001b[0mw2v_model\u001b[0m\u001b[1;33m.\u001b[0m\u001b[0mbuild_vocab\u001b[0m\u001b[1;33m(\u001b[0m\u001b[0mx_train\u001b[0m\u001b[1;33m)\u001b[0m\u001b[1;33m\u001b[0m\u001b[1;33m\u001b[0m\u001b[0m\n\u001b[1;32m---> 90\u001b[1;33m         \u001b[0mself\u001b[0m\u001b[1;33m.\u001b[0m\u001b[0mw2v_model\u001b[0m\u001b[1;33m.\u001b[0m\u001b[0mtrain\u001b[0m\u001b[1;33m(\u001b[0m\u001b[0mx_train\u001b[0m\u001b[1;33m,\u001b[0m \u001b[0mtotal_examples\u001b[0m\u001b[1;33m=\u001b[0m\u001b[0mself\u001b[0m\u001b[1;33m.\u001b[0m\u001b[0mw2v_model\u001b[0m\u001b[1;33m.\u001b[0m\u001b[0mcorpus_count\u001b[0m\u001b[1;33m,\u001b[0m \u001b[0mepochs\u001b[0m\u001b[1;33m=\u001b[0m\u001b[0mself\u001b[0m\u001b[1;33m.\u001b[0m\u001b[0mw2v_epochs\u001b[0m\u001b[1;33m)\u001b[0m\u001b[1;33m\u001b[0m\u001b[1;33m\u001b[0m\u001b[0m\n\u001b[0m\u001b[0;32m     91\u001b[0m         \u001b[0mw2v_words\u001b[0m \u001b[1;33m=\u001b[0m \u001b[0mlist\u001b[0m\u001b[1;33m(\u001b[0m\u001b[0mself\u001b[0m\u001b[1;33m.\u001b[0m\u001b[0mw2v_model\u001b[0m\u001b[1;33m.\u001b[0m\u001b[0mwv\u001b[0m\u001b[1;33m.\u001b[0m\u001b[0mvocab\u001b[0m\u001b[1;33m)\u001b[0m\u001b[1;33m\u001b[0m\u001b[1;33m\u001b[0m\u001b[0m\n\u001b[0;32m     92\u001b[0m         \u001b[0mlogging\u001b[0m\u001b[1;33m.\u001b[0m\u001b[0minfo\u001b[0m\u001b[1;33m(\u001b[0m\u001b[1;34m\"Vocabulary size: %i\"\u001b[0m \u001b[1;33m%\u001b[0m \u001b[0mlen\u001b[0m\u001b[1;33m(\u001b[0m\u001b[0mw2v_words\u001b[0m\u001b[1;33m)\u001b[0m\u001b[1;33m)\u001b[0m\u001b[1;33m\u001b[0m\u001b[1;33m\u001b[0m\u001b[0m\n",
      "\u001b[1;32mG:\\Anaconda3\\lib\\site-packages\\gensim\\models\\word2vec.py\u001b[0m in \u001b[0;36mtrain\u001b[1;34m(self, sentences, corpus_file, total_examples, total_words, epochs, start_alpha, end_alpha, word_count, queue_factor, report_delay, compute_loss, callbacks)\u001b[0m\n\u001b[0;32m    725\u001b[0m             \u001b[0msentences\u001b[0m\u001b[1;33m=\u001b[0m\u001b[0msentences\u001b[0m\u001b[1;33m,\u001b[0m \u001b[0mcorpus_file\u001b[0m\u001b[1;33m=\u001b[0m\u001b[0mcorpus_file\u001b[0m\u001b[1;33m,\u001b[0m \u001b[0mtotal_examples\u001b[0m\u001b[1;33m=\u001b[0m\u001b[0mtotal_examples\u001b[0m\u001b[1;33m,\u001b[0m \u001b[0mtotal_words\u001b[0m\u001b[1;33m=\u001b[0m\u001b[0mtotal_words\u001b[0m\u001b[1;33m,\u001b[0m\u001b[1;33m\u001b[0m\u001b[1;33m\u001b[0m\u001b[0m\n\u001b[0;32m    726\u001b[0m             \u001b[0mepochs\u001b[0m\u001b[1;33m=\u001b[0m\u001b[0mepochs\u001b[0m\u001b[1;33m,\u001b[0m \u001b[0mstart_alpha\u001b[0m\u001b[1;33m=\u001b[0m\u001b[0mstart_alpha\u001b[0m\u001b[1;33m,\u001b[0m \u001b[0mend_alpha\u001b[0m\u001b[1;33m=\u001b[0m\u001b[0mend_alpha\u001b[0m\u001b[1;33m,\u001b[0m \u001b[0mword_count\u001b[0m\u001b[1;33m=\u001b[0m\u001b[0mword_count\u001b[0m\u001b[1;33m,\u001b[0m\u001b[1;33m\u001b[0m\u001b[1;33m\u001b[0m\u001b[0m\n\u001b[1;32m--> 727\u001b[1;33m             queue_factor=queue_factor, report_delay=report_delay, compute_loss=compute_loss, callbacks=callbacks)\n\u001b[0m\u001b[0;32m    728\u001b[0m \u001b[1;33m\u001b[0m\u001b[0m\n\u001b[0;32m    729\u001b[0m     \u001b[1;32mdef\u001b[0m \u001b[0mscore\u001b[0m\u001b[1;33m(\u001b[0m\u001b[0mself\u001b[0m\u001b[1;33m,\u001b[0m \u001b[0msentences\u001b[0m\u001b[1;33m,\u001b[0m \u001b[0mtotal_sentences\u001b[0m\u001b[1;33m=\u001b[0m\u001b[0mint\u001b[0m\u001b[1;33m(\u001b[0m\u001b[1;36m1e6\u001b[0m\u001b[1;33m)\u001b[0m\u001b[1;33m,\u001b[0m \u001b[0mchunksize\u001b[0m\u001b[1;33m=\u001b[0m\u001b[1;36m100\u001b[0m\u001b[1;33m,\u001b[0m \u001b[0mqueue_factor\u001b[0m\u001b[1;33m=\u001b[0m\u001b[1;36m2\u001b[0m\u001b[1;33m,\u001b[0m \u001b[0mreport_delay\u001b[0m\u001b[1;33m=\u001b[0m\u001b[1;36m1\u001b[0m\u001b[1;33m)\u001b[0m\u001b[1;33m:\u001b[0m\u001b[1;33m\u001b[0m\u001b[1;33m\u001b[0m\u001b[0m\n",
      "\u001b[1;32mG:\\Anaconda3\\lib\\site-packages\\gensim\\models\\base_any2vec.py\u001b[0m in \u001b[0;36mtrain\u001b[1;34m(self, sentences, corpus_file, total_examples, total_words, epochs, start_alpha, end_alpha, word_count, queue_factor, report_delay, compute_loss, callbacks, **kwargs)\u001b[0m\n\u001b[0;32m   1065\u001b[0m             \u001b[0mtotal_words\u001b[0m\u001b[1;33m=\u001b[0m\u001b[0mtotal_words\u001b[0m\u001b[1;33m,\u001b[0m \u001b[0mepochs\u001b[0m\u001b[1;33m=\u001b[0m\u001b[0mepochs\u001b[0m\u001b[1;33m,\u001b[0m \u001b[0mstart_alpha\u001b[0m\u001b[1;33m=\u001b[0m\u001b[0mstart_alpha\u001b[0m\u001b[1;33m,\u001b[0m \u001b[0mend_alpha\u001b[0m\u001b[1;33m=\u001b[0m\u001b[0mend_alpha\u001b[0m\u001b[1;33m,\u001b[0m \u001b[0mword_count\u001b[0m\u001b[1;33m=\u001b[0m\u001b[0mword_count\u001b[0m\u001b[1;33m,\u001b[0m\u001b[1;33m\u001b[0m\u001b[1;33m\u001b[0m\u001b[0m\n\u001b[0;32m   1066\u001b[0m             \u001b[0mqueue_factor\u001b[0m\u001b[1;33m=\u001b[0m\u001b[0mqueue_factor\u001b[0m\u001b[1;33m,\u001b[0m \u001b[0mreport_delay\u001b[0m\u001b[1;33m=\u001b[0m\u001b[0mreport_delay\u001b[0m\u001b[1;33m,\u001b[0m \u001b[0mcompute_loss\u001b[0m\u001b[1;33m=\u001b[0m\u001b[0mcompute_loss\u001b[0m\u001b[1;33m,\u001b[0m \u001b[0mcallbacks\u001b[0m\u001b[1;33m=\u001b[0m\u001b[0mcallbacks\u001b[0m\u001b[1;33m,\u001b[0m\u001b[1;33m\u001b[0m\u001b[1;33m\u001b[0m\u001b[0m\n\u001b[1;32m-> 1067\u001b[1;33m             **kwargs)\n\u001b[0m\u001b[0;32m   1068\u001b[0m \u001b[1;33m\u001b[0m\u001b[0m\n\u001b[0;32m   1069\u001b[0m     \u001b[1;32mdef\u001b[0m \u001b[0m_get_job_params\u001b[0m\u001b[1;33m(\u001b[0m\u001b[0mself\u001b[0m\u001b[1;33m,\u001b[0m \u001b[0mcur_epoch\u001b[0m\u001b[1;33m)\u001b[0m\u001b[1;33m:\u001b[0m\u001b[1;33m\u001b[0m\u001b[1;33m\u001b[0m\u001b[0m\n",
      "\u001b[1;32mG:\\Anaconda3\\lib\\site-packages\\gensim\\models\\base_any2vec.py\u001b[0m in \u001b[0;36mtrain\u001b[1;34m(self, data_iterable, corpus_file, epochs, total_examples, total_words, queue_factor, report_delay, callbacks, **kwargs)\u001b[0m\n\u001b[0;32m    533\u001b[0m             \u001b[0mepochs\u001b[0m\u001b[1;33m=\u001b[0m\u001b[0mepochs\u001b[0m\u001b[1;33m,\u001b[0m\u001b[1;33m\u001b[0m\u001b[1;33m\u001b[0m\u001b[0m\n\u001b[0;32m    534\u001b[0m             \u001b[0mtotal_examples\u001b[0m\u001b[1;33m=\u001b[0m\u001b[0mtotal_examples\u001b[0m\u001b[1;33m,\u001b[0m\u001b[1;33m\u001b[0m\u001b[1;33m\u001b[0m\u001b[0m\n\u001b[1;32m--> 535\u001b[1;33m             total_words=total_words, **kwargs)\n\u001b[0m\u001b[0;32m    536\u001b[0m \u001b[1;33m\u001b[0m\u001b[0m\n\u001b[0;32m    537\u001b[0m         \u001b[1;32mfor\u001b[0m \u001b[0mcallback\u001b[0m \u001b[1;32min\u001b[0m \u001b[0mself\u001b[0m\u001b[1;33m.\u001b[0m\u001b[0mcallbacks\u001b[0m\u001b[1;33m:\u001b[0m\u001b[1;33m\u001b[0m\u001b[1;33m\u001b[0m\u001b[0m\n",
      "\u001b[1;32mG:\\Anaconda3\\lib\\site-packages\\gensim\\models\\base_any2vec.py\u001b[0m in \u001b[0;36m_check_training_sanity\u001b[1;34m(self, epochs, total_examples, total_words, **kwargs)\u001b[0m\n\u001b[0;32m   1171\u001b[0m \u001b[1;33m\u001b[0m\u001b[0m\n\u001b[0;32m   1172\u001b[0m         \u001b[1;32mif\u001b[0m \u001b[1;32mnot\u001b[0m \u001b[0mself\u001b[0m\u001b[1;33m.\u001b[0m\u001b[0mwv\u001b[0m\u001b[1;33m.\u001b[0m\u001b[0mvocab\u001b[0m\u001b[1;33m:\u001b[0m  \u001b[1;31m# should be set by `build_vocab`\u001b[0m\u001b[1;33m\u001b[0m\u001b[1;33m\u001b[0m\u001b[0m\n\u001b[1;32m-> 1173\u001b[1;33m             \u001b[1;32mraise\u001b[0m \u001b[0mRuntimeError\u001b[0m\u001b[1;33m(\u001b[0m\u001b[1;34m\"you must first build vocabulary before training the model\"\u001b[0m\u001b[1;33m)\u001b[0m\u001b[1;33m\u001b[0m\u001b[1;33m\u001b[0m\u001b[0m\n\u001b[0m\u001b[0;32m   1174\u001b[0m         \u001b[1;32mif\u001b[0m \u001b[1;32mnot\u001b[0m \u001b[0mlen\u001b[0m\u001b[1;33m(\u001b[0m\u001b[0mself\u001b[0m\u001b[1;33m.\u001b[0m\u001b[0mwv\u001b[0m\u001b[1;33m.\u001b[0m\u001b[0mvectors\u001b[0m\u001b[1;33m)\u001b[0m\u001b[1;33m:\u001b[0m\u001b[1;33m\u001b[0m\u001b[1;33m\u001b[0m\u001b[0m\n\u001b[0;32m   1175\u001b[0m             \u001b[1;32mraise\u001b[0m \u001b[0mRuntimeError\u001b[0m\u001b[1;33m(\u001b[0m\u001b[1;34m\"you must initialize vectors before training the model\"\u001b[0m\u001b[1;33m)\u001b[0m\u001b[1;33m\u001b[0m\u001b[1;33m\u001b[0m\u001b[0m\n",
      "\u001b[1;31mRuntimeError\u001b[0m: you must first build vocabulary before training the model"
     ]
    }
   ],
   "source": [
    "model1 = Word2VecKeras()\n",
    "\n",
    "model1.train(X_train,y_train)"
   ]
  },
  {
   "cell_type": "code",
   "execution_count": null,
   "metadata": {},
   "outputs": [],
   "source": [
    "model.evaluate(X_test, y_test)"
   ]
  }
 ],
 "metadata": {
  "kernelspec": {
   "display_name": "Python 3",
   "language": "python",
   "name": "python3"
  },
  "language_info": {
   "codemirror_mode": {
    "name": "ipython",
    "version": 3
   },
   "file_extension": ".py",
   "mimetype": "text/x-python",
   "name": "python",
   "nbconvert_exporter": "python",
   "pygments_lexer": "ipython3",
   "version": "3.7.4"
  }
 },
 "nbformat": 4,
 "nbformat_minor": 4
}
