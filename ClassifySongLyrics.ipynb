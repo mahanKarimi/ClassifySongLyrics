{
 "cells": [
  {
   "cell_type": "code",
   "execution_count": 1,
   "metadata": {},
   "outputs": [],
   "source": [
    "# load dataset \n",
    "import pandas as pd \n",
    "from sklearn.model_selection import train_test_split\n",
    "pathLyrics = 'lyrics-data.csv'\n",
    "pathArtists = 'artists-data.csv'\n",
    "\n",
    "\n",
    "dataframe = pd.read_csv(pathLyrics)\n",
    "dataframeArtists = pd.read_csv(pathArtists)"
   ]
  },
  {
   "cell_type": "code",
   "execution_count": 2,
   "metadata": {},
   "outputs": [],
   "source": [
    "# filter Idiom for olny english lyrics\n",
    "dataframe = dataframe[dataframe['Idiom'] == 'ENGLISH']"
   ]
  },
  {
   "cell_type": "code",
   "execution_count": 3,
   "metadata": {},
   "outputs": [],
   "source": [
    "# normalize lycris to lowercase  \n",
    "dataframe['Lyric'] = dataframe['Lyric'].apply(lambda lyric: lyric.lower())\n",
    "\n",
    "# Zwei csv werden gemerged\n",
    "mergeData=pd.merge(dataframe, dataframeArtists, how='inner', left_on='ALink', right_on='Link')\n",
    "\n",
    "#Filtern der Daten. Nur Lyric und Genre für das Dataset notwendig\n",
    "rawData= mergeData[['Lyric', 'Genre']]\n",
    "\n",
    "# Speichern der csv zum Anschauen\n",
    "# dataset.to_csv('dataset.csv') "
   ]
  },
  {
   "cell_type": "code",
   "execution_count": 4,
   "metadata": {},
   "outputs": [],
   "source": [
    "# Es werden die Spalten gefiltert, die Noten enthalten\n",
    "rawData = rawData[~rawData['Lyric'].str.contains('----')] \n",
    "\n",
    "#Filtert alle Zeichen bis auf Buchstaben und Zahlen heraus\n",
    "rawData['Lyric']=rawData['Lyric'].str.replace('[^a-zA-Z0-9]', ' ')\n"
   ]
  },
  {
   "cell_type": "code",
   "execution_count": 5,
   "metadata": {},
   "outputs": [],
   "source": [
    "train, test = train_test_split(rawData, test_size=0.2)\n",
    "\n",
    "#Zu Testzwecken kann man die große beschränken\n",
    "#train = train.head(10)\n",
    "#test = test.head(10)"
   ]
  },
  {
   "cell_type": "code",
   "execution_count": 11,
   "metadata": {},
   "outputs": [],
   "source": [
    "from sklearn.feature_extraction.text import CountVectorizer\n",
    "from keras.preprocessing.text import Tokenizer\n",
    "from keras.utils import to_categorical\n",
    "\n",
    "def vectorize_sequences (dataframe, dimensions=10000):\n",
    "    vect = CountVectorizer()\n",
    "    X = vect.fit_transform(dataframe)\n",
    "    tokenizer = Tokenizer(num_words=dimensions)\n",
    "    tokenizer.fit_on_texts(dataframe)\n",
    "    sequences = tokenizer.texts_to_sequences(dataframe)\n",
    "    one_hot_results = tokenizer.texts_to_matrix(dataframe, mode='binary')\n",
    "    word_index = tokenizer.word_index\n",
    "    print('Found %s unique tokens.' % len(word_index))\n",
    "\n",
    "    return one_hot_results\n",
    "    \n",
    "def vectorize_labels(labels):\n",
    "    return to_categorical(labels, 6)\n"
   ]
  },
  {
   "cell_type": "code",
   "execution_count": 12,
   "metadata": {},
   "outputs": [
    {
     "name": "stdout",
     "output_type": "stream",
     "text": [
      "Found 107659 unique tokens.\n",
      "Found 8 unique tokens.\n"
     ]
    }
   ],
   "source": [
    "X_train = vectorize_sequences(train['Lyric'])\n",
    "y_train = vectorize_sequences(train['Genre'], 6) "
   ]
  },
  {
   "cell_type": "code",
   "execution_count": 34,
   "metadata": {},
   "outputs": [
    {
     "name": "stdout",
     "output_type": "stream",
     "text": [
      "Model: \"sequential_8\"\n",
      "_________________________________________________________________\n",
      "Layer (type)                 Output Shape              Param #   \n",
      "=================================================================\n",
      "dense_24 (Dense)             (None, 16)                160016    \n",
      "_________________________________________________________________\n",
      "dense_25 (Dense)             (None, 16)                272       \n",
      "_________________________________________________________________\n",
      "dense_26 (Dense)             (None, 6)                 102       \n",
      "=================================================================\n",
      "Total params: 160,390\n",
      "Trainable params: 160,390\n",
      "Non-trainable params: 0\n",
      "_________________________________________________________________\n"
     ]
    }
   ],
   "source": [
    "from keras import models\n",
    "from keras import layers\n",
    "\n",
    "model = models.Sequential()\n",
    "model.add(layers.Dense(16, activation='relu', input_shape=(10000,)))\n",
    "model.add(layers.Dense(16, activation='relu'))\n",
    "model.add(layers.Dense(6, activation='softmax'))\n",
    "model.compile(optimizer='sgd', loss='binary_crossentropy', metrics=['accuracy'])\n",
    "model.summary()"
   ]
  },
  {
   "cell_type": "code",
   "execution_count": null,
   "metadata": {},
   "outputs": [
    {
     "name": "stdout",
     "output_type": "stream",
     "text": [
      "Train on 79310 samples, validate on 19828 samples\n",
      "Epoch 1/50\n",
      "79310/79310 [==============================] - 19s 233us/step - loss: 0.4107 - accuracy: 0.8034 - val_loss: 0.3613 - val_accuracy: 0.8147\n",
      "Epoch 2/50\n",
      "79310/79310 [==============================] - 25s 318us/step - loss: 0.3345 - accuracy: 0.8319 - val_loss: 0.3163 - val_accuracy: 0.8411\n",
      "Epoch 3/50\n",
      "79310/79310 [==============================] - 25s 316us/step - loss: 0.3046 - accuracy: 0.8446 - val_loss: 0.2992 - val_accuracy: 0.8461\n",
      "Epoch 4/50\n",
      "79310/79310 [==============================] - 30s 382us/step - loss: 0.2936 - accuracy: 0.8499 - val_loss: 0.2935 - val_accuracy: 0.8504\n",
      "Epoch 5/50\n",
      "79310/79310 [==============================] - 24s 304us/step - loss: 0.2887 - accuracy: 0.8531 - val_loss: 0.2896 - val_accuracy: 0.8531\n",
      "Epoch 6/50\n",
      "79310/79310 [==============================] - 25s 314us/step - loss: 0.2853 - accuracy: 0.8552 - val_loss: 0.2875 - val_accuracy: 0.8539\n",
      "Epoch 7/50\n",
      "79310/79310 [==============================] - 25s 321us/step - loss: 0.2827 - accuracy: 0.8565 - val_loss: 0.2851 - val_accuracy: 0.8547\n",
      "Epoch 8/50\n",
      "40500/79310 [==============>...............] - ETA: 14s - loss: 0.2813 - accuracy: 0.8569- ETA: 24s - loss: 0.2838 -  - ETA: 17s"
     ]
    }
   ],
   "source": [
    "history = model.fit(X_train, y_train, epochs=50, batch_size=100, validation_split=0.2)"
   ]
  },
  {
   "cell_type": "code",
   "execution_count": 27,
   "metadata": {},
   "outputs": [
    {
     "data": {
      "image/png": "[encoded data removed]",
      "text/plain": [
       "<Figure size 432x288 with 1 Axes>"
      ]
     },
     "metadata": {
      "needs_background": "light"
     },
     "output_type": "display_data"
    }
   ],
   "source": [
    "import matplotlib.pyplot as plt\n",
    "\n",
    "history_dict = history.history\n",
    "train_loss = history_dict['loss']\n",
    "val_loss = history_dict['val_loss']\n",
    "\n",
    "epochs = range(1, len(train_loss) + 1)\n",
    "plt.title('Training and validation loss')\n",
    "plt.plot(epochs, train_loss, label='Training loss')\n",
    "plt.plot(epochs, val_loss, label='Validation loss')\n",
    "plt.xlabel('Epoch')\n",
    "plt.ylabel('Loss')\n",
    "plt.legend()\n",
    "plt.grid()\n",
    "plt.show()"
   ]
  },
  {
   "cell_type": "code",
   "execution_count": 28,
   "metadata": {},
   "outputs": [
    {
     "name": "stdout",
     "output_type": "stream",
     "text": [
      "Found 59580 unique tokens.\n",
      "Found 8 unique tokens.\n",
      "24785/24785 [==============================] - 12s 487us/step\n",
      "Test score: 0.46779534956705243\n",
      "Test accuracy: 0.7715685963630676\n"
     ]
    }
   ],
   "source": [
    "X_test = vectorize_sequences(test['Lyric'])\n",
    "Y_test = vectorize_sequences(test['Genre'], 6) \n",
    "\n",
    "\n",
    "# compute loss and accuracy on test data\n",
    "score = model.evaluate(X_test, Y_test, verbose=1)\n",
    "print(\"Test score:\", score[0])\n",
    "print(\"Test accuracy:\", score[1])"
   ]
  },
  {
   "cell_type": "code",
   "execution_count": null,
   "metadata": {},
   "outputs": [],
   "source": []
  }
 ],
 "metadata": {
  "kernelspec": {
   "display_name": "Python 3",
   "language": "python",
   "name": "python3"
  },
  "language_info": {
   "codemirror_mode": {
    "name": "ipython",
    "version": 3
   },
   "file_extension": ".py",
   "mimetype": "text/x-python",
   "name": "python",
   "nbconvert_exporter": "python",
   "pygments_lexer": "ipython3",
   "version": "3.7.4"
  }
 },
 "nbformat": 4,
 "nbformat_minor": 4
}
