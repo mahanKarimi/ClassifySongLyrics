{
 "cells": [
  {
   "cell_type": "code",
   "execution_count": 3,
   "metadata": {},
   "outputs": [],
   "source": [
    "import math\n",
    "import pandas as pd\n",
    "from sklearn.model_selection import train_test_split\n",
    "from sklearn.feature_extraction.text import CountVectorizer\n",
    "from sklearn.naive_bayes import MultinomialNB\n",
    "from sklearn.metrics import confusion_matrix, precision_score, recall_score, f1_score, accuracy_score\n",
    "from sklearn.preprocessing import LabelEncoder\n",
    "\n",
    "\n",
    "pathLyrics = 'lyrics-data.csv'\n",
    "pathArtists = 'artists-data.csv'\n",
    "\n",
    "\n",
    "dataframe = pd.read_csv(pathLyrics)\n",
    "dataframeArtists = pd.read_csv(pathArtists)\n",
    "\n",
    "# filter Idiom for olny english lyrics\n",
    "dataframe = dataframe[dataframe['Idiom'] == 'ENGLISH']\n",
    "\n",
    "# normalize lycris to lowercase  \n",
    "dataframe['Lyric'] = dataframe['Lyric'].apply(lambda lyric: lyric.lower())\n",
    "\n",
    "# Zwei csv werden gemerged\n",
    "mergeData=pd.merge(dataframe, dataframeArtists, how='inner', left_on='ALink', right_on='Link')\n",
    "\n",
    "#Filtern der Daten. Nur Lyric und Genre für das Dataset notwendig\n",
    "rawData= mergeData[['Lyric', 'Genre']]\n",
    "\n",
    "# Es werden die Spalten gefiltert, die Noten enthalten\n",
    "rawData = rawData[~rawData['Lyric'].str.contains('----')] \n",
    "\n",
    "#Filtert alle Zeichen bis auf Buchstaben und Zahlen heraus\n",
    "rawData['Lyric']=rawData['Lyric'].str.replace('[^a-zA-Z0-9]', ' ')"
   ]
  },
  {
   "cell_type": "code",
   "execution_count": 4,
   "metadata": {},
   "outputs": [],
   "source": [
    "## Dokumente in Multimengen von Wörtern (bag of words) umwandeln\n",
    "vectorizer = CountVectorizer()\n",
    "X_cnt = vectorizer.fit_transform(rawData['Lyric'])\n",
    "\n",
    "label_encoder = LabelEncoder()\n",
    "y_clean = label_encoder.fit_transform(rawData['Genre'])\n",
    "\n",
    "X_train, X_test, y_train, y_test = train_test_split(X_cnt, y_clean, test_size=0.2, random_state=0)\n"
   ]
  },
  {
   "cell_type": "code",
   "execution_count": 5,
   "metadata": {},
   "outputs": [],
   "source": [
    "## Naive Bayes mit additiver Glättung trainieren\n",
    "nb = MultinomialNB(alpha=1.0)\n",
    "nb.fit(X_train, y_train)\n",
    "\n",
    "## Vorhersagen berechnen\n",
    "y_predicted = nb.predict(X_test)\n"
   ]
  },
  {
   "cell_type": "code",
   "execution_count": 6,
   "metadata": {},
   "outputs": [
    {
     "name": "stdout",
     "output_type": "stream",
     "text": [
      "Kofusionsmatrix:\n",
      " [[   0    4   20    2    0    0]\n",
      " [   2 2825 1426  378    0    0]\n",
      " [   5  927 3836 3138    0    2]\n",
      " [   3  449 2284 9451    1    3]\n",
      " [   0    2    5    9    0    0]\n",
      " [   0    0    6    7    0    0]]\n",
      "Korrektklassifizierungsrate:\n",
      " 0.6500706072221102\n",
      "Präzision (mikro):\n",
      " 0.6500706072221102\n",
      "Ausbeute (mikro):\n",
      " 0.6500706072221102\n",
      "F1 (mikro):\n",
      " 0.6500706072221102\n"
     ]
    }
   ],
   "source": [
    "## Konfusionsmatrix ausgeben\n",
    "print(\"Kofusionsmatrix:\\n\", confusion_matrix(y_true=y_test, y_pred=y_predicted))\n",
    "\n",
    "## Gütemaße ausgeben\n",
    "print(\"Korrektklassifizierungsrate:\\n\", accuracy_score(y_true=y_test, y_pred=y_predicted))\n",
    "print(\"Präzision (mikro):\\n\", precision_score(y_true=y_test, y_pred=y_predicted, average='micro'))\n",
    "print(\"Ausbeute (mikro):\\n\", recall_score(y_true=y_test, y_pred=y_predicted, average='micro'))\n",
    "print(\"F1 (mikro):\\n\", f1_score(y_true=y_test, y_pred=y_predicted, average='micro'))"
   ]
  },
  {
   "cell_type": "code",
   "execution_count": null,
   "metadata": {},
   "outputs": [],
   "source": []
  }
 ],
 "metadata": {
  "kernelspec": {
   "display_name": "Python 3",
   "language": "python",
   "name": "python3"
  },
  "language_info": {
   "codemirror_mode": {
    "name": "ipython",
    "version": 3
   },
   "file_extension": ".py",
   "mimetype": "text/x-python",
   "name": "python",
   "nbconvert_exporter": "python",
   "pygments_lexer": "ipython3",
   "version": "3.7.4"
  }
 },
 "nbformat": 4,
 "nbformat_minor": 2
}
